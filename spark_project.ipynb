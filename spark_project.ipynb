{
  "nbformat": 4,
  "nbformat_minor": 0,
  "metadata": {
    "colab": {
      "name": "CLEAR_SPARK.ipynb",
      "provenance": [],
      "collapsed_sections": [],
      "toc_visible": true
    },
    "kernelspec": {
      "name": "python3",
      "display_name": "Python 3"
    },
    "language_info": {
      "name": "python"
    }
  },
  "cells": [
    {
      "cell_type": "code",
      "metadata": {
        "id": "j8pC9PPUdvrD",
        "colab": {
          "base_uri": "https://localhost:8080/"
        },
        "outputId": "7887c483-22a8-4567-dcf0-854fdad47bab"
      },
      "source": [
        "# install Java8\n",
        "!apt-get update\n",
        "!apt-get install openjdk-8-jdk-headless -qq > /dev/null\n",
        "\n",
        "# download spark3.0.1\n",
        "!wget -q https://ftp.cc.uoc.gr/mirrors/apache/spark/spark-3.0.2/spark-3.0.2-bin-hadoop2.7.tgz\n",
        "\n",
        "# unzip it\n",
        "!tar xvf spark-3.0.2-bin-hadoop2.7.tgz\n",
        "\n",
        "# install findspark \n",
        "!pip install -q findspark\n",
        "\n",
        "import os\n",
        "os.environ[\"JAVA_HOME\"] = \"/usr/lib/jvm/java-8-openjdk-amd64\"\n",
        "os.environ[\"SPARK_HOME\"] = \"/content/spark-3.0.2-bin-hadoop2.7\""
      ],
      "execution_count": 8,
      "outputs": [
        {
          "output_type": "stream",
          "text": [
            "Hit:1 https://cloud.r-project.org/bin/linux/ubuntu bionic-cran40/ InRelease\n",
            "Ign:2 https://developer.download.nvidia.com/compute/cuda/repos/ubuntu1804/x86_64  InRelease\n",
            "Hit:3 http://security.ubuntu.com/ubuntu bionic-security InRelease\n",
            "Ign:4 https://developer.download.nvidia.com/compute/machine-learning/repos/ubuntu1804/x86_64  InRelease\n",
            "Hit:5 https://developer.download.nvidia.com/compute/cuda/repos/ubuntu1804/x86_64  Release\n",
            "Hit:6 https://developer.download.nvidia.com/compute/machine-learning/repos/ubuntu1804/x86_64  Release\n",
            "Hit:7 http://archive.ubuntu.com/ubuntu bionic InRelease\n",
            "Hit:8 http://ppa.launchpad.net/c2d4u.team/c2d4u4.0+/ubuntu bionic InRelease\n",
            "Hit:9 http://archive.ubuntu.com/ubuntu bionic-updates InRelease\n",
            "Hit:11 http://archive.ubuntu.com/ubuntu bionic-backports InRelease\n",
            "Hit:12 http://ppa.launchpad.net/cran/libgit2/ubuntu bionic InRelease\n",
            "Hit:14 http://ppa.launchpad.net/deadsnakes/ppa/ubuntu bionic InRelease\n",
            "Hit:15 http://ppa.launchpad.net/graphics-drivers/ppa/ubuntu bionic InRelease\n",
            "Reading package lists... Done\n",
            "spark-3.0.2-bin-hadoop2.7/\n",
            "spark-3.0.2-bin-hadoop2.7/R/\n",
            "spark-3.0.2-bin-hadoop2.7/R/lib/\n",
            "spark-3.0.2-bin-hadoop2.7/R/lib/sparkr.zip\n",
            "spark-3.0.2-bin-hadoop2.7/R/lib/SparkR/\n",
            "spark-3.0.2-bin-hadoop2.7/R/lib/SparkR/worker/\n",
            "spark-3.0.2-bin-hadoop2.7/R/lib/SparkR/worker/worker.R\n",
            "spark-3.0.2-bin-hadoop2.7/R/lib/SparkR/worker/daemon.R\n",
            "spark-3.0.2-bin-hadoop2.7/R/lib/SparkR/tests/\n",
            "spark-3.0.2-bin-hadoop2.7/R/lib/SparkR/tests/testthat/\n",
            "spark-3.0.2-bin-hadoop2.7/R/lib/SparkR/tests/testthat/test_basic.R\n",
            "spark-3.0.2-bin-hadoop2.7/R/lib/SparkR/profile/\n",
            "spark-3.0.2-bin-hadoop2.7/R/lib/SparkR/profile/shell.R\n",
            "spark-3.0.2-bin-hadoop2.7/R/lib/SparkR/profile/general.R\n",
            "spark-3.0.2-bin-hadoop2.7/R/lib/SparkR/doc/\n",
            "spark-3.0.2-bin-hadoop2.7/R/lib/SparkR/doc/sparkr-vignettes.html\n",
            "spark-3.0.2-bin-hadoop2.7/R/lib/SparkR/doc/sparkr-vignettes.Rmd\n",
            "spark-3.0.2-bin-hadoop2.7/R/lib/SparkR/doc/sparkr-vignettes.R\n",
            "spark-3.0.2-bin-hadoop2.7/R/lib/SparkR/doc/index.html\n",
            "spark-3.0.2-bin-hadoop2.7/R/lib/SparkR/R/\n",
            "spark-3.0.2-bin-hadoop2.7/R/lib/SparkR/R/SparkR\n",
            "spark-3.0.2-bin-hadoop2.7/R/lib/SparkR/R/SparkR.rdx\n",
            "spark-3.0.2-bin-hadoop2.7/R/lib/SparkR/R/SparkR.rdb\n",
            "spark-3.0.2-bin-hadoop2.7/R/lib/SparkR/Meta/\n",
            "spark-3.0.2-bin-hadoop2.7/R/lib/SparkR/Meta/features.rds\n",
            "spark-3.0.2-bin-hadoop2.7/R/lib/SparkR/Meta/package.rds\n",
            "spark-3.0.2-bin-hadoop2.7/R/lib/SparkR/Meta/links.rds\n",
            "spark-3.0.2-bin-hadoop2.7/R/lib/SparkR/Meta/hsearch.rds\n",
            "spark-3.0.2-bin-hadoop2.7/R/lib/SparkR/Meta/nsInfo.rds\n",
            "spark-3.0.2-bin-hadoop2.7/R/lib/SparkR/Meta/vignette.rds\n",
            "spark-3.0.2-bin-hadoop2.7/R/lib/SparkR/Meta/Rd.rds\n",
            "spark-3.0.2-bin-hadoop2.7/R/lib/SparkR/DESCRIPTION\n",
            "spark-3.0.2-bin-hadoop2.7/R/lib/SparkR/NAMESPACE\n",
            "spark-3.0.2-bin-hadoop2.7/R/lib/SparkR/INDEX\n",
            "spark-3.0.2-bin-hadoop2.7/R/lib/SparkR/html/\n",
            "spark-3.0.2-bin-hadoop2.7/R/lib/SparkR/html/R.css\n",
            "spark-3.0.2-bin-hadoop2.7/R/lib/SparkR/html/00Index.html\n",
            "spark-3.0.2-bin-hadoop2.7/R/lib/SparkR/help/\n",
            "spark-3.0.2-bin-hadoop2.7/R/lib/SparkR/help/aliases.rds\n",
            "spark-3.0.2-bin-hadoop2.7/R/lib/SparkR/help/AnIndex\n",
            "spark-3.0.2-bin-hadoop2.7/R/lib/SparkR/help/SparkR.rdx\n",
            "spark-3.0.2-bin-hadoop2.7/R/lib/SparkR/help/SparkR.rdb\n",
            "spark-3.0.2-bin-hadoop2.7/R/lib/SparkR/help/paths.rds\n",
            "spark-3.0.2-bin-hadoop2.7/sbin/\n",
            "spark-3.0.2-bin-hadoop2.7/sbin/stop-slaves.sh\n",
            "spark-3.0.2-bin-hadoop2.7/sbin/stop-slave.sh\n",
            "spark-3.0.2-bin-hadoop2.7/sbin/stop-all.sh\n",
            "spark-3.0.2-bin-hadoop2.7/sbin/start-slaves.sh\n",
            "spark-3.0.2-bin-hadoop2.7/sbin/start-slave.sh\n",
            "spark-3.0.2-bin-hadoop2.7/sbin/start-all.sh\n",
            "spark-3.0.2-bin-hadoop2.7/sbin/spark-daemons.sh\n",
            "spark-3.0.2-bin-hadoop2.7/sbin/spark-daemon.sh\n",
            "spark-3.0.2-bin-hadoop2.7/sbin/spark-config.sh\n",
            "spark-3.0.2-bin-hadoop2.7/sbin/slaves.sh\n",
            "spark-3.0.2-bin-hadoop2.7/sbin/stop-thriftserver.sh\n",
            "spark-3.0.2-bin-hadoop2.7/sbin/stop-mesos-shuffle-service.sh\n",
            "spark-3.0.2-bin-hadoop2.7/sbin/stop-mesos-dispatcher.sh\n",
            "spark-3.0.2-bin-hadoop2.7/sbin/stop-master.sh\n",
            "spark-3.0.2-bin-hadoop2.7/sbin/stop-history-server.sh\n",
            "spark-3.0.2-bin-hadoop2.7/sbin/start-thriftserver.sh\n",
            "spark-3.0.2-bin-hadoop2.7/sbin/start-mesos-shuffle-service.sh\n",
            "spark-3.0.2-bin-hadoop2.7/sbin/start-mesos-dispatcher.sh\n",
            "spark-3.0.2-bin-hadoop2.7/sbin/start-master.sh\n",
            "spark-3.0.2-bin-hadoop2.7/sbin/start-history-server.sh\n",
            "spark-3.0.2-bin-hadoop2.7/python/\n",
            "spark-3.0.2-bin-hadoop2.7/python/pyspark.egg-info/\n",
            "spark-3.0.2-bin-hadoop2.7/python/pyspark.egg-info/SOURCES.txt\n",
            "spark-3.0.2-bin-hadoop2.7/python/pyspark.egg-info/top_level.txt\n",
            "spark-3.0.2-bin-hadoop2.7/python/pyspark.egg-info/requires.txt\n",
            "spark-3.0.2-bin-hadoop2.7/python/pyspark.egg-info/dependency_links.txt\n",
            "spark-3.0.2-bin-hadoop2.7/python/pyspark.egg-info/PKG-INFO\n",
            "spark-3.0.2-bin-hadoop2.7/python/pyspark/\n",
            "spark-3.0.2-bin-hadoop2.7/python/pyspark/python/\n",
            "spark-3.0.2-bin-hadoop2.7/python/pyspark/python/pyspark/\n",
            "spark-3.0.2-bin-hadoop2.7/python/pyspark/python/pyspark/shell.py\n",
            "spark-3.0.2-bin-hadoop2.7/python/pyspark/tests/\n",
            "spark-3.0.2-bin-hadoop2.7/python/pyspark/tests/test_worker.py\n",
            "spark-3.0.2-bin-hadoop2.7/python/pyspark/tests/test_util.py\n",
            "spark-3.0.2-bin-hadoop2.7/python/pyspark/tests/test_taskcontext.py\n",
            "spark-3.0.2-bin-hadoop2.7/python/pyspark/tests/test_shuffle.py\n",
            "spark-3.0.2-bin-hadoop2.7/python/pyspark/tests/test_serializers.py\n",
            "spark-3.0.2-bin-hadoop2.7/python/pyspark/tests/test_readwrite.py\n",
            "spark-3.0.2-bin-hadoop2.7/python/pyspark/tests/test_rddbarrier.py\n",
            "spark-3.0.2-bin-hadoop2.7/python/pyspark/tests/test_rdd.py\n",
            "spark-3.0.2-bin-hadoop2.7/python/pyspark/tests/test_profiler.py\n",
            "spark-3.0.2-bin-hadoop2.7/python/pyspark/tests/test_pin_thread.py\n",
            "spark-3.0.2-bin-hadoop2.7/python/pyspark/tests/test_join.py\n",
            "spark-3.0.2-bin-hadoop2.7/python/pyspark/tests/test_daemon.py\n",
            "spark-3.0.2-bin-hadoop2.7/python/pyspark/tests/test_context.py\n",
            "spark-3.0.2-bin-hadoop2.7/python/pyspark/tests/test_conf.py\n",
            "spark-3.0.2-bin-hadoop2.7/python/pyspark/tests/test_broadcast.py\n",
            "spark-3.0.2-bin-hadoop2.7/python/pyspark/tests/test_appsubmit.py\n",
            "spark-3.0.2-bin-hadoop2.7/python/pyspark/tests/__init__.py\n",
            "spark-3.0.2-bin-hadoop2.7/python/pyspark/testing/\n",
            "spark-3.0.2-bin-hadoop2.7/python/pyspark/testing/mllibutils.py\n",
            "spark-3.0.2-bin-hadoop2.7/python/pyspark/testing/__init__.py\n",
            "spark-3.0.2-bin-hadoop2.7/python/pyspark/testing/utils.py\n",
            "spark-3.0.2-bin-hadoop2.7/python/pyspark/testing/streamingutils.py\n",
            "spark-3.0.2-bin-hadoop2.7/python/pyspark/testing/sqlutils.py\n",
            "spark-3.0.2-bin-hadoop2.7/python/pyspark/testing/mlutils.py\n",
            "spark-3.0.2-bin-hadoop2.7/python/pyspark/streaming/\n",
            "spark-3.0.2-bin-hadoop2.7/python/pyspark/streaming/tests/\n",
            "spark-3.0.2-bin-hadoop2.7/python/pyspark/streaming/tests/__init__.py\n",
            "spark-3.0.2-bin-hadoop2.7/python/pyspark/streaming/tests/test_listener.py\n",
            "spark-3.0.2-bin-hadoop2.7/python/pyspark/streaming/tests/test_kinesis.py\n",
            "spark-3.0.2-bin-hadoop2.7/python/pyspark/streaming/tests/test_dstream.py\n",
            "spark-3.0.2-bin-hadoop2.7/python/pyspark/streaming/tests/test_context.py\n",
            "spark-3.0.2-bin-hadoop2.7/python/pyspark/streaming/listener.py\n",
            "spark-3.0.2-bin-hadoop2.7/python/pyspark/streaming/__init__.py\n",
            "spark-3.0.2-bin-hadoop2.7/python/pyspark/streaming/util.py\n",
            "spark-3.0.2-bin-hadoop2.7/python/pyspark/streaming/kinesis.py\n",
            "spark-3.0.2-bin-hadoop2.7/python/pyspark/streaming/dstream.py\n",
            "spark-3.0.2-bin-hadoop2.7/python/pyspark/streaming/context.py\n",
            "spark-3.0.2-bin-hadoop2.7/python/pyspark/status.py\n",
            "spark-3.0.2-bin-hadoop2.7/python/pyspark/sql/\n",
            "spark-3.0.2-bin-hadoop2.7/python/pyspark/sql/streaming.py\n",
            "spark-3.0.2-bin-hadoop2.7/python/pyspark/sql/session.py\n",
            "spark-3.0.2-bin-hadoop2.7/python/pyspark/sql/readwriter.py\n",
            "spark-3.0.2-bin-hadoop2.7/python/pyspark/sql/group.py\n",
            "spark-3.0.2-bin-hadoop2.7/python/pyspark/sql/functions.py\n",
            "spark-3.0.2-bin-hadoop2.7/python/pyspark/sql/dataframe.py\n",
            "spark-3.0.2-bin-hadoop2.7/python/pyspark/sql/context.py\n",
            "spark-3.0.2-bin-hadoop2.7/python/pyspark/sql/conf.py\n",
            "spark-3.0.2-bin-hadoop2.7/python/pyspark/sql/column.py\n",
            "spark-3.0.2-bin-hadoop2.7/python/pyspark/sql/catalog.py\n",
            "spark-3.0.2-bin-hadoop2.7/python/pyspark/sql/__init__.py\n",
            "spark-3.0.2-bin-hadoop2.7/python/pyspark/sql/tests/\n",
            "spark-3.0.2-bin-hadoop2.7/python/pyspark/sql/tests/test_pandas_cogrouped_map.py\n",
            "spark-3.0.2-bin-hadoop2.7/python/pyspark/sql/tests/test_group.py\n",
            "spark-3.0.2-bin-hadoop2.7/python/pyspark/sql/tests/test_functions.py\n",
            "spark-3.0.2-bin-hadoop2.7/python/pyspark/sql/tests/test_datasources.py\n",
            "spark-3.0.2-bin-hadoop2.7/python/pyspark/sql/tests/test_dataframe.py\n",
            "spark-3.0.2-bin-hadoop2.7/python/pyspark/sql/tests/test_context.py\n",
            "spark-3.0.2-bin-hadoop2.7/python/pyspark/sql/tests/test_conf.py\n",
            "spark-3.0.2-bin-hadoop2.7/python/pyspark/sql/tests/test_column.py\n",
            "spark-3.0.2-bin-hadoop2.7/python/pyspark/sql/tests/test_catalog.py\n",
            "spark-3.0.2-bin-hadoop2.7/python/pyspark/sql/tests/test_arrow.py\n",
            "spark-3.0.2-bin-hadoop2.7/python/pyspark/sql/tests/__init__.py\n",
            "spark-3.0.2-bin-hadoop2.7/python/pyspark/sql/tests/test_utils.py\n",
            "spark-3.0.2-bin-hadoop2.7/python/pyspark/sql/tests/test_udf.py\n",
            "spark-3.0.2-bin-hadoop2.7/python/pyspark/sql/tests/test_types.py\n",
            "spark-3.0.2-bin-hadoop2.7/python/pyspark/sql/tests/test_streaming.py\n",
            "spark-3.0.2-bin-hadoop2.7/python/pyspark/sql/tests/test_session.py\n",
            "spark-3.0.2-bin-hadoop2.7/python/pyspark/sql/tests/test_serde.py\n",
            "spark-3.0.2-bin-hadoop2.7/python/pyspark/sql/tests/test_readwriter.py\n",
            "spark-3.0.2-bin-hadoop2.7/python/pyspark/sql/tests/test_pandas_udf_window.py\n",
            "spark-3.0.2-bin-hadoop2.7/python/pyspark/sql/tests/test_pandas_udf_typehints.py\n",
            "spark-3.0.2-bin-hadoop2.7/python/pyspark/sql/tests/test_pandas_udf_scalar.py\n",
            "spark-3.0.2-bin-hadoop2.7/python/pyspark/sql/tests/test_pandas_udf_grouped_agg.py\n",
            "spark-3.0.2-bin-hadoop2.7/python/pyspark/sql/tests/test_pandas_udf.py\n",
            "spark-3.0.2-bin-hadoop2.7/python/pyspark/sql/tests/test_pandas_map.py\n",
            "spark-3.0.2-bin-hadoop2.7/python/pyspark/sql/tests/test_pandas_grouped_map.py\n",
            "spark-3.0.2-bin-hadoop2.7/python/pyspark/sql/pandas/\n",
            "spark-3.0.2-bin-hadoop2.7/python/pyspark/sql/pandas/utils.py\n",
            "spark-3.0.2-bin-hadoop2.7/python/pyspark/sql/pandas/types.py\n",
            "spark-3.0.2-bin-hadoop2.7/python/pyspark/sql/pandas/typehints.py\n",
            "spark-3.0.2-bin-hadoop2.7/python/pyspark/sql/pandas/serializers.py\n",
            "spark-3.0.2-bin-hadoop2.7/python/pyspark/sql/pandas/map_ops.py\n",
            "spark-3.0.2-bin-hadoop2.7/python/pyspark/sql/pandas/group_ops.py\n",
            "spark-3.0.2-bin-hadoop2.7/python/pyspark/sql/pandas/functions.py\n",
            "spark-3.0.2-bin-hadoop2.7/python/pyspark/sql/pandas/conversion.py\n",
            "spark-3.0.2-bin-hadoop2.7/python/pyspark/sql/pandas/__init__.py\n",
            "spark-3.0.2-bin-hadoop2.7/python/pyspark/sql/avro/\n",
            "spark-3.0.2-bin-hadoop2.7/python/pyspark/sql/avro/functions.py\n",
            "spark-3.0.2-bin-hadoop2.7/python/pyspark/sql/avro/__init__.py\n",
            "spark-3.0.2-bin-hadoop2.7/python/pyspark/sql/window.py\n",
            "spark-3.0.2-bin-hadoop2.7/python/pyspark/sql/utils.py\n",
            "spark-3.0.2-bin-hadoop2.7/python/pyspark/sql/udf.py\n",
            "spark-3.0.2-bin-hadoop2.7/python/pyspark/sql/types.py\n",
            "spark-3.0.2-bin-hadoop2.7/python/pyspark/rddsampler.py\n",
            "spark-3.0.2-bin-hadoop2.7/python/pyspark/mllib/\n",
            "spark-3.0.2-bin-hadoop2.7/python/pyspark/mllib/util.py\n",
            "spark-3.0.2-bin-hadoop2.7/python/pyspark/mllib/tree.py\n",
            "spark-3.0.2-bin-hadoop2.7/python/pyspark/mllib/regression.py\n",
            "spark-3.0.2-bin-hadoop2.7/python/pyspark/mllib/recommendation.py\n",
            "spark-3.0.2-bin-hadoop2.7/python/pyspark/mllib/random.py\n",
            "spark-3.0.2-bin-hadoop2.7/python/pyspark/mllib/fpm.py\n",
            "spark-3.0.2-bin-hadoop2.7/python/pyspark/mllib/feature.py\n",
            "spark-3.0.2-bin-hadoop2.7/python/pyspark/mllib/evaluation.py\n",
            "spark-3.0.2-bin-hadoop2.7/python/pyspark/mllib/common.py\n",
            "spark-3.0.2-bin-hadoop2.7/python/pyspark/mllib/clustering.py\n",
            "spark-3.0.2-bin-hadoop2.7/python/pyspark/mllib/classification.py\n",
            "spark-3.0.2-bin-hadoop2.7/python/pyspark/mllib/__init__.py\n",
            "spark-3.0.2-bin-hadoop2.7/python/pyspark/mllib/tests/\n",
            "spark-3.0.2-bin-hadoop2.7/python/pyspark/mllib/tests/test_util.py\n",
            "spark-3.0.2-bin-hadoop2.7/python/pyspark/mllib/tests/test_streaming_algorithms.py\n",
            "spark-3.0.2-bin-hadoop2.7/python/pyspark/mllib/tests/test_stat.py\n",
            "spark-3.0.2-bin-hadoop2.7/python/pyspark/mllib/tests/test_linalg.py\n",
            "spark-3.0.2-bin-hadoop2.7/python/pyspark/mllib/tests/test_feature.py\n",
            "spark-3.0.2-bin-hadoop2.7/python/pyspark/mllib/tests/test_algorithms.py\n",
            "spark-3.0.2-bin-hadoop2.7/python/pyspark/mllib/tests/__init__.py\n",
            "spark-3.0.2-bin-hadoop2.7/python/pyspark/mllib/stat/\n",
            "spark-3.0.2-bin-hadoop2.7/python/pyspark/mllib/stat/distribution.py\n",
            "spark-3.0.2-bin-hadoop2.7/python/pyspark/mllib/stat/_statistics.py\n",
            "spark-3.0.2-bin-hadoop2.7/python/pyspark/mllib/stat/__init__.py\n",
            "spark-3.0.2-bin-hadoop2.7/python/pyspark/mllib/stat/KernelDensity.py\n",
            "spark-3.0.2-bin-hadoop2.7/python/pyspark/mllib/stat/test.py\n",
            "spark-3.0.2-bin-hadoop2.7/python/pyspark/mllib/linalg/\n",
            "spark-3.0.2-bin-hadoop2.7/python/pyspark/mllib/linalg/distributed.py\n",
            "spark-3.0.2-bin-hadoop2.7/python/pyspark/mllib/linalg/__init__.py\n",
            "spark-3.0.2-bin-hadoop2.7/python/pyspark/ml/\n",
            "spark-3.0.2-bin-hadoop2.7/python/pyspark/ml/wrapper.py\n",
            "spark-3.0.2-bin-hadoop2.7/python/pyspark/ml/util.py\n",
            "spark-3.0.2-bin-hadoop2.7/python/pyspark/ml/tuning.py\n",
            "spark-3.0.2-bin-hadoop2.7/python/pyspark/ml/tree.py\n",
            "spark-3.0.2-bin-hadoop2.7/python/pyspark/ml/stat.py\n",
            "spark-3.0.2-bin-hadoop2.7/python/pyspark/ml/regression.py\n",
            "spark-3.0.2-bin-hadoop2.7/python/pyspark/ml/recommendation.py\n",
            "spark-3.0.2-bin-hadoop2.7/python/pyspark/ml/pipeline.py\n",
            "spark-3.0.2-bin-hadoop2.7/python/pyspark/ml/image.py\n",
            "spark-3.0.2-bin-hadoop2.7/python/pyspark/ml/functions.py\n",
            "spark-3.0.2-bin-hadoop2.7/python/pyspark/ml/fpm.py\n",
            "spark-3.0.2-bin-hadoop2.7/python/pyspark/ml/feature.py\n",
            "spark-3.0.2-bin-hadoop2.7/python/pyspark/ml/evaluation.py\n",
            "spark-3.0.2-bin-hadoop2.7/python/pyspark/ml/common.py\n",
            "spark-3.0.2-bin-hadoop2.7/python/pyspark/ml/clustering.py\n",
            "spark-3.0.2-bin-hadoop2.7/python/pyspark/ml/classification.py\n",
            "spark-3.0.2-bin-hadoop2.7/python/pyspark/ml/base.py\n",
            "spark-3.0.2-bin-hadoop2.7/python/pyspark/ml/__init__.py\n",
            "spark-3.0.2-bin-hadoop2.7/python/pyspark/ml/tests/\n",
            "spark-3.0.2-bin-hadoop2.7/python/pyspark/ml/tests/test_wrapper.py\n",
            "spark-3.0.2-bin-hadoop2.7/python/pyspark/ml/tests/test_tuning.py\n",
            "spark-3.0.2-bin-hadoop2.7/python/pyspark/ml/tests/test_training_summary.py\n",
            "spark-3.0.2-bin-hadoop2.7/python/pyspark/ml/tests/test_stat.py\n",
            "spark-3.0.2-bin-hadoop2.7/python/pyspark/ml/tests/test_pipeline.py\n",
            "spark-3.0.2-bin-hadoop2.7/python/pyspark/ml/tests/test_persistence.py\n",
            "spark-3.0.2-bin-hadoop2.7/python/pyspark/ml/tests/test_param.py\n",
            "spark-3.0.2-bin-hadoop2.7/python/pyspark/ml/tests/test_linalg.py\n",
            "spark-3.0.2-bin-hadoop2.7/python/pyspark/ml/tests/test_image.py\n",
            "spark-3.0.2-bin-hadoop2.7/python/pyspark/ml/tests/test_feature.py\n",
            "spark-3.0.2-bin-hadoop2.7/python/pyspark/ml/tests/test_evaluation.py\n",
            "spark-3.0.2-bin-hadoop2.7/python/pyspark/ml/tests/test_base.py\n",
            "spark-3.0.2-bin-hadoop2.7/python/pyspark/ml/tests/test_algorithms.py\n",
            "spark-3.0.2-bin-hadoop2.7/python/pyspark/ml/tests/test_util.py\n",
            "spark-3.0.2-bin-hadoop2.7/python/pyspark/ml/tests/__init__.py\n",
            "spark-3.0.2-bin-hadoop2.7/python/pyspark/ml/param/\n",
            "spark-3.0.2-bin-hadoop2.7/python/pyspark/ml/param/shared.py\n",
            "spark-3.0.2-bin-hadoop2.7/python/pyspark/ml/param/_shared_params_code_gen.py\n",
            "spark-3.0.2-bin-hadoop2.7/python/pyspark/ml/param/__init__.py\n",
            "spark-3.0.2-bin-hadoop2.7/python/pyspark/ml/linalg/\n",
            "spark-3.0.2-bin-hadoop2.7/python/pyspark/ml/linalg/__init__.py\n",
            "spark-3.0.2-bin-hadoop2.7/python/pyspark/join.py\n",
            "spark-3.0.2-bin-hadoop2.7/python/pyspark/files.py\n",
            "spark-3.0.2-bin-hadoop2.7/python/pyspark/daemon.py\n",
            "spark-3.0.2-bin-hadoop2.7/python/pyspark/_globals.py\n",
            "spark-3.0.2-bin-hadoop2.7/python/pyspark/worker.py\n",
            "spark-3.0.2-bin-hadoop2.7/python/pyspark/version.py\n",
            "spark-3.0.2-bin-hadoop2.7/python/pyspark/util.py\n",
            "spark-3.0.2-bin-hadoop2.7/python/pyspark/taskcontext.py\n",
            "spark-3.0.2-bin-hadoop2.7/python/pyspark/storagelevel.py\n",
            "spark-3.0.2-bin-hadoop2.7/python/pyspark/statcounter.py\n",
            "spark-3.0.2-bin-hadoop2.7/python/pyspark/shuffle.py\n",
            "spark-3.0.2-bin-hadoop2.7/python/pyspark/shell.py\n",
            "spark-3.0.2-bin-hadoop2.7/python/pyspark/serializers.py\n",
            "spark-3.0.2-bin-hadoop2.7/python/pyspark/resultiterable.py\n",
            "spark-3.0.2-bin-hadoop2.7/python/pyspark/resource.py\n",
            "spark-3.0.2-bin-hadoop2.7/python/pyspark/rdd.py\n",
            "spark-3.0.2-bin-hadoop2.7/python/pyspark/profiler.py\n",
            "spark-3.0.2-bin-hadoop2.7/python/pyspark/java_gateway.py\n",
            "spark-3.0.2-bin-hadoop2.7/python/pyspark/heapq3.py\n",
            "spark-3.0.2-bin-hadoop2.7/python/pyspark/find_spark_home.py\n",
            "spark-3.0.2-bin-hadoop2.7/python/pyspark/context.py\n",
            "spark-3.0.2-bin-hadoop2.7/python/pyspark/conf.py\n",
            "spark-3.0.2-bin-hadoop2.7/python/pyspark/cloudpickle.py\n",
            "spark-3.0.2-bin-hadoop2.7/python/pyspark/broadcast.py\n",
            "spark-3.0.2-bin-hadoop2.7/python/pyspark/accumulators.py\n",
            "spark-3.0.2-bin-hadoop2.7/python/pyspark/__init__.py\n",
            "spark-3.0.2-bin-hadoop2.7/python/pyspark/traceback_utils.py\n",
            "spark-3.0.2-bin-hadoop2.7/python/lib/\n",
            "spark-3.0.2-bin-hadoop2.7/python/lib/py4j-0.10.9-src.zip\n",
            "spark-3.0.2-bin-hadoop2.7/python/lib/PY4J_LICENSE.txt\n",
            "spark-3.0.2-bin-hadoop2.7/python/lib/pyspark.zip\n",
            "spark-3.0.2-bin-hadoop2.7/python/docs/\n",
            "spark-3.0.2-bin-hadoop2.7/python/docs/pyspark.streaming.rst\n",
            "spark-3.0.2-bin-hadoop2.7/python/docs/pyspark.sql.rst\n",
            "spark-3.0.2-bin-hadoop2.7/python/docs/pyspark.rst\n",
            "spark-3.0.2-bin-hadoop2.7/python/docs/pyspark.resource.rst\n",
            "spark-3.0.2-bin-hadoop2.7/python/docs/pyspark.mllib.rst\n",
            "spark-3.0.2-bin-hadoop2.7/python/docs/pyspark.ml.rst\n",
            "spark-3.0.2-bin-hadoop2.7/python/docs/make2.bat\n",
            "spark-3.0.2-bin-hadoop2.7/python/docs/index.rst\n",
            "spark-3.0.2-bin-hadoop2.7/python/docs/conf.py\n",
            "spark-3.0.2-bin-hadoop2.7/python/docs/_templates/\n",
            "spark-3.0.2-bin-hadoop2.7/python/docs/_templates/layout.html\n",
            "spark-3.0.2-bin-hadoop2.7/python/docs/_static/\n",
            "spark-3.0.2-bin-hadoop2.7/python/docs/_static/pyspark.js\n",
            "spark-3.0.2-bin-hadoop2.7/python/docs/_static/pyspark.css\n",
            "spark-3.0.2-bin-hadoop2.7/python/docs/_static/copybutton.js\n",
            "spark-3.0.2-bin-hadoop2.7/python/docs/Makefile\n",
            "spark-3.0.2-bin-hadoop2.7/python/docs/make.bat\n",
            "spark-3.0.2-bin-hadoop2.7/python/README.md\n",
            "spark-3.0.2-bin-hadoop2.7/python/.gitignore\n",
            "spark-3.0.2-bin-hadoop2.7/python/.coveragerc\n",
            "spark-3.0.2-bin-hadoop2.7/python/setup.py\n",
            "spark-3.0.2-bin-hadoop2.7/python/run-tests.py\n",
            "spark-3.0.2-bin-hadoop2.7/python/pylintrc\n",
            "spark-3.0.2-bin-hadoop2.7/python/MANIFEST.in\n",
            "spark-3.0.2-bin-hadoop2.7/python/test_support/\n",
            "spark-3.0.2-bin-hadoop2.7/python/test_support/userlib-0.1.zip\n",
            "spark-3.0.2-bin-hadoop2.7/python/test_support/sql/\n",
            "spark-3.0.2-bin-hadoop2.7/python/test_support/sql/text-test.txt\n",
            "spark-3.0.2-bin-hadoop2.7/python/test_support/sql/streaming/\n",
            "spark-3.0.2-bin-hadoop2.7/python/test_support/sql/streaming/text-test.txt\n",
            "spark-3.0.2-bin-hadoop2.7/python/test_support/sql/people_array_utf16le.json\n",
            "spark-3.0.2-bin-hadoop2.7/python/test_support/sql/people_array.json\n",
            "spark-3.0.2-bin-hadoop2.7/python/test_support/sql/people1.json\n",
            "spark-3.0.2-bin-hadoop2.7/python/test_support/sql/people.json\n",
            "spark-3.0.2-bin-hadoop2.7/python/test_support/sql/parquet_partitioned/\n",
            "spark-3.0.2-bin-hadoop2.7/python/test_support/sql/parquet_partitioned/year=2015/\n",
            "spark-3.0.2-bin-hadoop2.7/python/test_support/sql/parquet_partitioned/year=2015/month=9/\n",
            "spark-3.0.2-bin-hadoop2.7/python/test_support/sql/parquet_partitioned/year=2015/month=9/day=1/\n",
            "spark-3.0.2-bin-hadoop2.7/python/test_support/sql/parquet_partitioned/year=2015/month=9/day=1/part-r-00007.gz.parquet\n",
            "spark-3.0.2-bin-hadoop2.7/python/test_support/sql/parquet_partitioned/year=2015/month=9/day=1/.part-r-00007.gz.parquet.crc\n",
            "spark-3.0.2-bin-hadoop2.7/python/test_support/sql/parquet_partitioned/year=2015/month=10/\n",
            "spark-3.0.2-bin-hadoop2.7/python/test_support/sql/parquet_partitioned/year=2015/month=10/day=26/\n",
            "spark-3.0.2-bin-hadoop2.7/python/test_support/sql/parquet_partitioned/year=2015/month=10/day=26/part-r-00005.gz.parquet\n",
            "spark-3.0.2-bin-hadoop2.7/python/test_support/sql/parquet_partitioned/year=2015/month=10/day=26/.part-r-00005.gz.parquet.crc\n",
            "spark-3.0.2-bin-hadoop2.7/python/test_support/sql/parquet_partitioned/year=2015/month=10/day=25/\n",
            "spark-3.0.2-bin-hadoop2.7/python/test_support/sql/parquet_partitioned/year=2015/month=10/day=25/part-r-00004.gz.parquet\n",
            "spark-3.0.2-bin-hadoop2.7/python/test_support/sql/parquet_partitioned/year=2015/month=10/day=25/part-r-00002.gz.parquet\n",
            "spark-3.0.2-bin-hadoop2.7/python/test_support/sql/parquet_partitioned/year=2015/month=10/day=25/.part-r-00004.gz.parquet.crc\n",
            "spark-3.0.2-bin-hadoop2.7/python/test_support/sql/parquet_partitioned/year=2015/month=10/day=25/.part-r-00002.gz.parquet.crc\n",
            "spark-3.0.2-bin-hadoop2.7/python/test_support/sql/parquet_partitioned/year=2014/\n",
            "spark-3.0.2-bin-hadoop2.7/python/test_support/sql/parquet_partitioned/year=2014/month=9/\n",
            "spark-3.0.2-bin-hadoop2.7/python/test_support/sql/parquet_partitioned/year=2014/month=9/day=1/\n",
            "spark-3.0.2-bin-hadoop2.7/python/test_support/sql/parquet_partitioned/year=2014/month=9/day=1/part-r-00008.gz.parquet\n",
            "spark-3.0.2-bin-hadoop2.7/python/test_support/sql/parquet_partitioned/year=2014/month=9/day=1/.part-r-00008.gz.parquet.crc\n",
            "spark-3.0.2-bin-hadoop2.7/python/test_support/sql/parquet_partitioned/_metadata\n",
            "spark-3.0.2-bin-hadoop2.7/python/test_support/sql/parquet_partitioned/_common_metadata\n",
            "spark-3.0.2-bin-hadoop2.7/python/test_support/sql/parquet_partitioned/_SUCCESS\n",
            "spark-3.0.2-bin-hadoop2.7/python/test_support/sql/orc_partitioned/\n",
            "spark-3.0.2-bin-hadoop2.7/python/test_support/sql/orc_partitioned/b=1/\n",
            "spark-3.0.2-bin-hadoop2.7/python/test_support/sql/orc_partitioned/b=1/c=1/\n",
            "spark-3.0.2-bin-hadoop2.7/python/test_support/sql/orc_partitioned/b=1/c=1/part-r-00000-829af031-b970-49d6-ad39-30460a0be2c8.orc\n",
            "spark-3.0.2-bin-hadoop2.7/python/test_support/sql/orc_partitioned/b=1/c=1/.part-r-00000-829af031-b970-49d6-ad39-30460a0be2c8.orc.crc\n",
            "spark-3.0.2-bin-hadoop2.7/python/test_support/sql/orc_partitioned/b=0/\n",
            "spark-3.0.2-bin-hadoop2.7/python/test_support/sql/orc_partitioned/b=0/c=0/\n",
            "spark-3.0.2-bin-hadoop2.7/python/test_support/sql/orc_partitioned/b=0/c=0/part-r-00000-829af031-b970-49d6-ad39-30460a0be2c8.orc\n",
            "spark-3.0.2-bin-hadoop2.7/python/test_support/sql/orc_partitioned/b=0/c=0/.part-r-00000-829af031-b970-49d6-ad39-30460a0be2c8.orc.crc\n",
            "spark-3.0.2-bin-hadoop2.7/python/test_support/sql/orc_partitioned/_SUCCESS\n",
            "spark-3.0.2-bin-hadoop2.7/python/test_support/sql/ages_newlines.csv\n",
            "spark-3.0.2-bin-hadoop2.7/python/test_support/sql/ages.csv\n",
            "spark-3.0.2-bin-hadoop2.7/python/test_support/hello/\n",
            "spark-3.0.2-bin-hadoop2.7/python/test_support/hello/sub_hello/\n",
            "spark-3.0.2-bin-hadoop2.7/python/test_support/hello/sub_hello/sub_hello.txt\n",
            "spark-3.0.2-bin-hadoop2.7/python/test_support/hello/hello.txt\n",
            "spark-3.0.2-bin-hadoop2.7/python/test_support/SimpleHTTPServer.py\n",
            "spark-3.0.2-bin-hadoop2.7/python/test_support/userlibrary.py\n",
            "spark-3.0.2-bin-hadoop2.7/python/test_coverage/\n",
            "spark-3.0.2-bin-hadoop2.7/python/test_coverage/sitecustomize.py\n",
            "spark-3.0.2-bin-hadoop2.7/python/test_coverage/coverage_daemon.py\n",
            "spark-3.0.2-bin-hadoop2.7/python/test_coverage/conf/\n",
            "spark-3.0.2-bin-hadoop2.7/python/test_coverage/conf/spark-defaults.conf\n",
            "spark-3.0.2-bin-hadoop2.7/python/setup.cfg\n",
            "spark-3.0.2-bin-hadoop2.7/python/run-tests-with-coverage\n",
            "spark-3.0.2-bin-hadoop2.7/python/run-tests\n",
            "spark-3.0.2-bin-hadoop2.7/python/dist/\n",
            "spark-3.0.2-bin-hadoop2.7/bin/\n",
            "spark-3.0.2-bin-hadoop2.7/bin/sparkR2.cmd\n",
            "spark-3.0.2-bin-hadoop2.7/bin/sparkR.cmd\n",
            "spark-3.0.2-bin-hadoop2.7/bin/sparkR\n",
            "spark-3.0.2-bin-hadoop2.7/bin/spark-submit2.cmd\n",
            "spark-3.0.2-bin-hadoop2.7/bin/spark-submit.cmd\n",
            "spark-3.0.2-bin-hadoop2.7/bin/spark-submit\n",
            "spark-3.0.2-bin-hadoop2.7/bin/spark-sql2.cmd\n",
            "spark-3.0.2-bin-hadoop2.7/bin/spark-sql.cmd\n",
            "spark-3.0.2-bin-hadoop2.7/bin/spark-sql\n",
            "spark-3.0.2-bin-hadoop2.7/bin/spark-shell2.cmd\n",
            "spark-3.0.2-bin-hadoop2.7/bin/spark-shell.cmd\n",
            "spark-3.0.2-bin-hadoop2.7/bin/spark-shell\n",
            "spark-3.0.2-bin-hadoop2.7/bin/spark-class.cmd\n",
            "spark-3.0.2-bin-hadoop2.7/bin/spark-class\n",
            "spark-3.0.2-bin-hadoop2.7/bin/run-example.cmd\n",
            "spark-3.0.2-bin-hadoop2.7/bin/run-example\n",
            "spark-3.0.2-bin-hadoop2.7/bin/pyspark.cmd\n",
            "spark-3.0.2-bin-hadoop2.7/bin/beeline.cmd\n",
            "spark-3.0.2-bin-hadoop2.7/bin/beeline\n",
            "spark-3.0.2-bin-hadoop2.7/bin/spark-class2.cmd\n",
            "spark-3.0.2-bin-hadoop2.7/bin/pyspark2.cmd\n",
            "spark-3.0.2-bin-hadoop2.7/bin/pyspark\n",
            "spark-3.0.2-bin-hadoop2.7/bin/load-spark-env.sh\n",
            "spark-3.0.2-bin-hadoop2.7/bin/load-spark-env.cmd\n",
            "spark-3.0.2-bin-hadoop2.7/bin/find-spark-home.cmd\n",
            "spark-3.0.2-bin-hadoop2.7/bin/find-spark-home\n",
            "spark-3.0.2-bin-hadoop2.7/bin/docker-image-tool.sh\n",
            "spark-3.0.2-bin-hadoop2.7/README.md\n",
            "spark-3.0.2-bin-hadoop2.7/conf/\n",
            "spark-3.0.2-bin-hadoop2.7/conf/spark-env.sh.template\n",
            "spark-3.0.2-bin-hadoop2.7/conf/spark-defaults.conf.template\n",
            "spark-3.0.2-bin-hadoop2.7/conf/slaves.template\n",
            "spark-3.0.2-bin-hadoop2.7/conf/metrics.properties.template\n",
            "spark-3.0.2-bin-hadoop2.7/conf/log4j.properties.template\n",
            "spark-3.0.2-bin-hadoop2.7/conf/fairscheduler.xml.template\n",
            "spark-3.0.2-bin-hadoop2.7/data/\n",
            "spark-3.0.2-bin-hadoop2.7/data/streaming/\n",
            "spark-3.0.2-bin-hadoop2.7/data/streaming/AFINN-111.txt\n",
            "spark-3.0.2-bin-hadoop2.7/data/mllib/\n",
            "spark-3.0.2-bin-hadoop2.7/data/mllib/streaming_kmeans_data_test.txt\n",
            "spark-3.0.2-bin-hadoop2.7/data/mllib/sample_svm_data.txt\n",
            "spark-3.0.2-bin-hadoop2.7/data/mllib/sample_multiclass_classification_data.txt\n",
            "spark-3.0.2-bin-hadoop2.7/data/mllib/sample_movielens_data.txt\n",
            "spark-3.0.2-bin-hadoop2.7/data/mllib/sample_linear_regression_data.txt\n",
            "spark-3.0.2-bin-hadoop2.7/data/mllib/sample_libsvm_data.txt\n",
            "spark-3.0.2-bin-hadoop2.7/data/mllib/sample_lda_libsvm_data.txt\n",
            "spark-3.0.2-bin-hadoop2.7/data/mllib/sample_lda_data.txt\n",
            "spark-3.0.2-bin-hadoop2.7/data/mllib/sample_kmeans_data.txt\n",
            "spark-3.0.2-bin-hadoop2.7/data/mllib/sample_isotonic_regression_libsvm_data.txt\n",
            "spark-3.0.2-bin-hadoop2.7/data/mllib/sample_fpgrowth.txt\n",
            "spark-3.0.2-bin-hadoop2.7/data/mllib/sample_binary_classification_data.txt\n",
            "spark-3.0.2-bin-hadoop2.7/data/mllib/ridge-data/\n",
            "spark-3.0.2-bin-hadoop2.7/data/mllib/ridge-data/lpsa.data\n",
            "spark-3.0.2-bin-hadoop2.7/data/mllib/pic_data.txt\n",
            "spark-3.0.2-bin-hadoop2.7/data/mllib/pagerank_data.txt\n",
            "spark-3.0.2-bin-hadoop2.7/data/mllib/kmeans_data.txt\n",
            "spark-3.0.2-bin-hadoop2.7/data/mllib/iris_libsvm.txt\n",
            "spark-3.0.2-bin-hadoop2.7/data/mllib/images/\n",
            "spark-3.0.2-bin-hadoop2.7/data/mllib/images/partitioned/\n",
            "spark-3.0.2-bin-hadoop2.7/data/mllib/images/partitioned/cls=multichannel/\n",
            "spark-3.0.2-bin-hadoop2.7/data/mllib/images/partitioned/cls=multichannel/date=2018-02/\n",
            "spark-3.0.2-bin-hadoop2.7/data/mllib/images/partitioned/cls=multichannel/date=2018-02/grayscale.jpg\n",
            "spark-3.0.2-bin-hadoop2.7/data/mllib/images/partitioned/cls=multichannel/date=2018-02/chr30.4.184.jpg\n",
            "spark-3.0.2-bin-hadoop2.7/data/mllib/images/partitioned/cls=multichannel/date=2018-01/\n",
            "spark-3.0.2-bin-hadoop2.7/data/mllib/images/partitioned/cls=multichannel/date=2018-01/BGRA_alpha_60.png\n",
            "spark-3.0.2-bin-hadoop2.7/data/mllib/images/partitioned/cls=multichannel/date=2018-01/BGRA.png\n",
            "spark-3.0.2-bin-hadoop2.7/data/mllib/images/partitioned/cls=kittens/\n",
            "spark-3.0.2-bin-hadoop2.7/data/mllib/images/partitioned/cls=kittens/date=2018-02/\n",
            "spark-3.0.2-bin-hadoop2.7/data/mllib/images/partitioned/cls=kittens/date=2018-02/DP802813.jpg\n",
            "spark-3.0.2-bin-hadoop2.7/data/mllib/images/partitioned/cls=kittens/date=2018-02/DP153539.jpg\n",
            "spark-3.0.2-bin-hadoop2.7/data/mllib/images/partitioned/cls=kittens/date=2018-02/54893.jpg\n",
            "spark-3.0.2-bin-hadoop2.7/data/mllib/images/partitioned/cls=kittens/date=2018-01/\n",
            "spark-3.0.2-bin-hadoop2.7/data/mllib/images/partitioned/cls=kittens/date=2018-01/not-image.txt\n",
            "spark-3.0.2-bin-hadoop2.7/data/mllib/images/partitioned/cls=kittens/date=2018-01/29.5.a_b_EGDP022204.jpg\n",
            "spark-3.0.2-bin-hadoop2.7/data/mllib/images/origin/\n",
            "spark-3.0.2-bin-hadoop2.7/data/mllib/images/origin/multi-channel/\n",
            "spark-3.0.2-bin-hadoop2.7/data/mllib/images/origin/multi-channel/grayscale.jpg\n",
            "spark-3.0.2-bin-hadoop2.7/data/mllib/images/origin/multi-channel/chr30.4.184.jpg\n",
            "spark-3.0.2-bin-hadoop2.7/data/mllib/images/origin/multi-channel/BGRA_alpha_60.png\n",
            "spark-3.0.2-bin-hadoop2.7/data/mllib/images/origin/multi-channel/BGRA.png\n",
            "spark-3.0.2-bin-hadoop2.7/data/mllib/images/origin/license.txt\n",
            "spark-3.0.2-bin-hadoop2.7/data/mllib/images/origin/kittens/\n",
            "spark-3.0.2-bin-hadoop2.7/data/mllib/images/origin/kittens/not-image.txt\n",
            "spark-3.0.2-bin-hadoop2.7/data/mllib/images/origin/kittens/DP802813.jpg\n",
            "spark-3.0.2-bin-hadoop2.7/data/mllib/images/origin/kittens/DP153539.jpg\n",
            "spark-3.0.2-bin-hadoop2.7/data/mllib/images/origin/kittens/54893.jpg\n",
            "spark-3.0.2-bin-hadoop2.7/data/mllib/images/origin/kittens/29.5.a_b_EGDP022204.jpg\n",
            "spark-3.0.2-bin-hadoop2.7/data/mllib/images/license.txt\n",
            "spark-3.0.2-bin-hadoop2.7/data/mllib/gmm_data.txt\n",
            "spark-3.0.2-bin-hadoop2.7/data/mllib/als/\n",
            "spark-3.0.2-bin-hadoop2.7/data/mllib/als/test.data\n",
            "spark-3.0.2-bin-hadoop2.7/data/mllib/als/sample_movielens_ratings.txt\n",
            "spark-3.0.2-bin-hadoop2.7/data/graphx/\n",
            "spark-3.0.2-bin-hadoop2.7/data/graphx/users.txt\n",
            "spark-3.0.2-bin-hadoop2.7/data/graphx/followers.txt\n",
            "spark-3.0.2-bin-hadoop2.7/NOTICE\n",
            "spark-3.0.2-bin-hadoop2.7/licenses/\n",
            "spark-3.0.2-bin-hadoop2.7/licenses/LICENSE-heapq.txt\n",
            "spark-3.0.2-bin-hadoop2.7/licenses/LICENSE-datatables.txt\n",
            "spark-3.0.2-bin-hadoop2.7/licenses/LICENSE-bootstrap.txt\n",
            "spark-3.0.2-bin-hadoop2.7/licenses/LICENSE-zstd.txt\n",
            "spark-3.0.2-bin-hadoop2.7/licenses/LICENSE-zstd-jni.txt\n",
            "spark-3.0.2-bin-hadoop2.7/licenses/LICENSE-xmlenc.txt\n",
            "spark-3.0.2-bin-hadoop2.7/licenses/LICENSE-vis-timeline.txt\n",
            "spark-3.0.2-bin-hadoop2.7/licenses/LICENSE-spire.txt\n",
            "spark-3.0.2-bin-hadoop2.7/licenses/LICENSE-sorttable.js.txt\n",
            "spark-3.0.2-bin-hadoop2.7/licenses/LICENSE-slf4j.txt\n",
            "spark-3.0.2-bin-hadoop2.7/licenses/LICENSE-scopt.txt\n",
            "spark-3.0.2-bin-hadoop2.7/licenses/LICENSE-scala.txt\n",
            "spark-3.0.2-bin-hadoop2.7/licenses/LICENSE-sbt-launch-lib.txt\n",
            "spark-3.0.2-bin-hadoop2.7/licenses/LICENSE-respond.txt\n",
            "spark-3.0.2-bin-hadoop2.7/licenses/LICENSE-reflectasm.txt\n",
            "spark-3.0.2-bin-hadoop2.7/licenses/LICENSE-re2j.txt\n",
            "spark-3.0.2-bin-hadoop2.7/licenses/LICENSE-pyrolite.txt\n",
            "spark-3.0.2-bin-hadoop2.7/licenses/LICENSE-py4j.txt\n",
            "spark-3.0.2-bin-hadoop2.7/licenses/LICENSE-protobuf.txt\n",
            "spark-3.0.2-bin-hadoop2.7/licenses/LICENSE-pmml-model.txt\n",
            "spark-3.0.2-bin-hadoop2.7/licenses/LICENSE-paranamer.txt\n",
            "spark-3.0.2-bin-hadoop2.7/licenses/LICENSE-netlib.txt\n",
            "spark-3.0.2-bin-hadoop2.7/licenses/LICENSE-mustache.txt\n",
            "spark-3.0.2-bin-hadoop2.7/licenses/LICENSE-modernizr.txt\n",
            "spark-3.0.2-bin-hadoop2.7/licenses/LICENSE-minlog.txt\n",
            "spark-3.0.2-bin-hadoop2.7/licenses/LICENSE-matchMedia-polyfill.txt\n",
            "spark-3.0.2-bin-hadoop2.7/licenses/LICENSE-machinist.txt\n",
            "spark-3.0.2-bin-hadoop2.7/licenses/LICENSE-leveldbjni.txt\n",
            "spark-3.0.2-bin-hadoop2.7/licenses/LICENSE-kryo.txt\n",
            "spark-3.0.2-bin-hadoop2.7/licenses/LICENSE-jsp-api.txt\n",
            "spark-3.0.2-bin-hadoop2.7/licenses/LICENSE-json-formatter.txt\n",
            "spark-3.0.2-bin-hadoop2.7/licenses/LICENSE-jquery.txt\n",
            "spark-3.0.2-bin-hadoop2.7/licenses/LICENSE-join.txt\n",
            "spark-3.0.2-bin-hadoop2.7/licenses/LICENSE-jodd.txt\n",
            "spark-3.0.2-bin-hadoop2.7/licenses/LICENSE-jline.txt\n",
            "spark-3.0.2-bin-hadoop2.7/licenses/LICENSE-jaxb-runtime.txt\n",
            "spark-3.0.2-bin-hadoop2.7/licenses/LICENSE-javolution.txt\n",
            "spark-3.0.2-bin-hadoop2.7/licenses/LICENSE-javax-transaction-transaction-api.txt\n",
            "spark-3.0.2-bin-hadoop2.7/licenses/LICENSE-javassist.html\n",
            "spark-3.0.2-bin-hadoop2.7/licenses/LICENSE-janino.txt\n",
            "spark-3.0.2-bin-hadoop2.7/licenses/LICENSE-jakarta.xml.bind-api.txt\n",
            "spark-3.0.2-bin-hadoop2.7/licenses/LICENSE-jakarta.activation-api.txt\n",
            "spark-3.0.2-bin-hadoop2.7/licenses/LICENSE-jakarta-ws-rs-api\n",
            "spark-3.0.2-bin-hadoop2.7/licenses/LICENSE-jakarta-annotation-api\n",
            "spark-3.0.2-bin-hadoop2.7/licenses/LICENSE-istack-commons-runtime.txt\n",
            "spark-3.0.2-bin-hadoop2.7/licenses/LICENSE-graphlib-dot.txt\n",
            "spark-3.0.2-bin-hadoop2.7/licenses/LICENSE-f2j.txt\n",
            "spark-3.0.2-bin-hadoop2.7/licenses/LICENSE-dnsjava.txt\n",
            "spark-3.0.2-bin-hadoop2.7/licenses/LICENSE-dagre-d3.txt\n",
            "spark-3.0.2-bin-hadoop2.7/licenses/LICENSE-d3.min.js.txt\n",
            "spark-3.0.2-bin-hadoop2.7/licenses/LICENSE-cloudpickle.txt\n",
            "spark-3.0.2-bin-hadoop2.7/licenses/LICENSE-automaton.txt\n",
            "spark-3.0.2-bin-hadoop2.7/licenses/LICENSE-arpack.txt\n",
            "spark-3.0.2-bin-hadoop2.7/licenses/LICENSE-antlr.txt\n",
            "spark-3.0.2-bin-hadoop2.7/licenses/LICENSE-JTransforms.txt\n",
            "spark-3.0.2-bin-hadoop2.7/licenses/LICENSE-JLargeArrays.txt\n",
            "spark-3.0.2-bin-hadoop2.7/licenses/LICENSE-CC0.txt\n",
            "spark-3.0.2-bin-hadoop2.7/licenses/LICENSE-AnchorJS.txt\n",
            "spark-3.0.2-bin-hadoop2.7/LICENSE\n",
            "spark-3.0.2-bin-hadoop2.7/examples/\n",
            "spark-3.0.2-bin-hadoop2.7/examples/src/\n",
            "spark-3.0.2-bin-hadoop2.7/examples/src/main/\n",
            "spark-3.0.2-bin-hadoop2.7/examples/src/main/python/\n",
            "spark-3.0.2-bin-hadoop2.7/examples/src/main/python/mllib/\n",
            "spark-3.0.2-bin-hadoop2.7/examples/src/main/python/mllib/gradient_boosting_regression_example.py\n",
            "spark-3.0.2-bin-hadoop2.7/examples/src/main/python/mllib/gradient_boosting_classification_example.py\n",
            "spark-3.0.2-bin-hadoop2.7/examples/src/main/python/mllib/gaussian_mixture_model.py\n",
            "spark-3.0.2-bin-hadoop2.7/examples/src/main/python/mllib/gaussian_mixture_example.py\n",
            "spark-3.0.2-bin-hadoop2.7/examples/src/main/python/mllib/elementwise_product_example.py\n",
            "spark-3.0.2-bin-hadoop2.7/examples/src/main/python/mllib/decision_tree_regression_example.py\n",
            "spark-3.0.2-bin-hadoop2.7/examples/src/main/python/mllib/decision_tree_classification_example.py\n",
            "spark-3.0.2-bin-hadoop2.7/examples/src/main/python/mllib/correlations_example.py\n",
            "spark-3.0.2-bin-hadoop2.7/examples/src/main/python/mllib/correlations.py\n",
            "spark-3.0.2-bin-hadoop2.7/examples/src/main/python/mllib/bisecting_k_means_example.py\n",
            "spark-3.0.2-bin-hadoop2.7/examples/src/main/python/mllib/binary_classification_metrics_example.py\n",
            "spark-3.0.2-bin-hadoop2.7/examples/src/main/python/mllib/svm_with_sgd_example.py\n",
            "spark-3.0.2-bin-hadoop2.7/examples/src/main/python/mllib/svd_example.py\n",
            "spark-3.0.2-bin-hadoop2.7/examples/src/main/python/mllib/regression_metrics_example.py\n",
            "spark-3.0.2-bin-hadoop2.7/examples/src/main/python/mllib/ranking_metrics_example.py\n",
            "spark-3.0.2-bin-hadoop2.7/examples/src/main/python/mllib/pca_rowmatrix_example.py\n",
            "spark-3.0.2-bin-hadoop2.7/examples/src/main/python/mllib/multi_label_metrics_example.py\n",
            "spark-3.0.2-bin-hadoop2.7/examples/src/main/python/mllib/multi_class_metrics_example.py\n",
            "spark-3.0.2-bin-hadoop2.7/examples/src/main/python/mllib/fpgrowth_example.py\n",
            "spark-3.0.2-bin-hadoop2.7/examples/src/main/python/mllib/word2vec_example.py\n",
            "spark-3.0.2-bin-hadoop2.7/examples/src/main/python/mllib/word2vec.py\n",
            "spark-3.0.2-bin-hadoop2.7/examples/src/main/python/mllib/tf_idf_example.py\n",
            "spark-3.0.2-bin-hadoop2.7/examples/src/main/python/mllib/summary_statistics_example.py\n",
            "spark-3.0.2-bin-hadoop2.7/examples/src/main/python/mllib/streaming_linear_regression_example.py\n",
            "spark-3.0.2-bin-hadoop2.7/examples/src/main/python/mllib/streaming_k_means_example.py\n",
            "spark-3.0.2-bin-hadoop2.7/examples/src/main/python/mllib/stratified_sampling_example.py\n",
            "spark-3.0.2-bin-hadoop2.7/examples/src/main/python/mllib/standard_scaler_example.py\n",
            "spark-3.0.2-bin-hadoop2.7/examples/src/main/python/mllib/sampled_rdds.py\n",
            "spark-3.0.2-bin-hadoop2.7/examples/src/main/python/mllib/recommendation_example.py\n",
            "spark-3.0.2-bin-hadoop2.7/examples/src/main/python/mllib/random_rdd_generation.py\n",
            "spark-3.0.2-bin-hadoop2.7/examples/src/main/python/mllib/random_forest_regression_example.py\n",
            "spark-3.0.2-bin-hadoop2.7/examples/src/main/python/mllib/random_forest_classification_example.py\n",
            "spark-3.0.2-bin-hadoop2.7/examples/src/main/python/mllib/power_iteration_clustering_example.py\n",
            "spark-3.0.2-bin-hadoop2.7/examples/src/main/python/mllib/normalizer_example.py\n",
            "spark-3.0.2-bin-hadoop2.7/examples/src/main/python/mllib/naive_bayes_example.py\n",
            "spark-3.0.2-bin-hadoop2.7/examples/src/main/python/mllib/logistic_regression_with_lbfgs_example.py\n",
            "spark-3.0.2-bin-hadoop2.7/examples/src/main/python/mllib/logistic_regression.py\n",
            "spark-3.0.2-bin-hadoop2.7/examples/src/main/python/mllib/linear_regression_with_sgd_example.py\n",
            "spark-3.0.2-bin-hadoop2.7/examples/src/main/python/mllib/latent_dirichlet_allocation_example.py\n",
            "spark-3.0.2-bin-hadoop2.7/examples/src/main/python/mllib/kmeans.py\n",
            "spark-3.0.2-bin-hadoop2.7/examples/src/main/python/mllib/kernel_density_estimation_example.py\n",
            "spark-3.0.2-bin-hadoop2.7/examples/src/main/python/mllib/k_means_example.py\n",
            "spark-3.0.2-bin-hadoop2.7/examples/src/main/python/mllib/isotonic_regression_example.py\n",
            "spark-3.0.2-bin-hadoop2.7/examples/src/main/python/mllib/hypothesis_testing_kolmogorov_smirnov_test_example.py\n",
            "spark-3.0.2-bin-hadoop2.7/examples/src/main/python/mllib/hypothesis_testing_example.py\n",
            "spark-3.0.2-bin-hadoop2.7/examples/src/main/python/ml/\n",
            "spark-3.0.2-bin-hadoop2.7/examples/src/main/python/ml/word2vec_example.py\n",
            "spark-3.0.2-bin-hadoop2.7/examples/src/main/python/ml/vector_slicer_example.py\n",
            "spark-3.0.2-bin-hadoop2.7/examples/src/main/python/ml/vector_size_hint_example.py\n",
            "spark-3.0.2-bin-hadoop2.7/examples/src/main/python/ml/vector_indexer_example.py\n",
            "spark-3.0.2-bin-hadoop2.7/examples/src/main/python/ml/vector_assembler_example.py\n",
            "spark-3.0.2-bin-hadoop2.7/examples/src/main/python/ml/tokenizer_example.py\n",
            "spark-3.0.2-bin-hadoop2.7/examples/src/main/python/ml/tf_idf_example.py\n",
            "spark-3.0.2-bin-hadoop2.7/examples/src/main/python/ml/summarizer_example.py\n",
            "spark-3.0.2-bin-hadoop2.7/examples/src/main/python/ml/string_indexer_example.py\n",
            "spark-3.0.2-bin-hadoop2.7/examples/src/main/python/ml/stopwords_remover_example.py\n",
            "spark-3.0.2-bin-hadoop2.7/examples/src/main/python/ml/standard_scaler_example.py\n",
            "spark-3.0.2-bin-hadoop2.7/examples/src/main/python/ml/sql_transformer.py\n",
            "spark-3.0.2-bin-hadoop2.7/examples/src/main/python/ml/robust_scaler_example.py\n",
            "spark-3.0.2-bin-hadoop2.7/examples/src/main/python/ml/rformula_example.py\n",
            "spark-3.0.2-bin-hadoop2.7/examples/src/main/python/ml/random_forest_regressor_example.py\n",
            "spark-3.0.2-bin-hadoop2.7/examples/src/main/python/ml/random_forest_classifier_example.py\n",
            "spark-3.0.2-bin-hadoop2.7/examples/src/main/python/ml/quantile_discretizer_example.py\n",
            "spark-3.0.2-bin-hadoop2.7/examples/src/main/python/ml/polynomial_expansion_example.py\n",
            "spark-3.0.2-bin-hadoop2.7/examples/src/main/python/ml/pipeline_example.py\n",
            "spark-3.0.2-bin-hadoop2.7/examples/src/main/python/ml/train_validation_split.py\n",
            "spark-3.0.2-bin-hadoop2.7/examples/src/main/python/ml/prefixspan_example.py\n",
            "spark-3.0.2-bin-hadoop2.7/examples/src/main/python/ml/power_iteration_clustering_example.py\n",
            "spark-3.0.2-bin-hadoop2.7/examples/src/main/python/ml/imputer_example.py\n",
            "spark-3.0.2-bin-hadoop2.7/examples/src/main/python/ml/fpgrowth_example.py\n",
            "spark-3.0.2-bin-hadoop2.7/examples/src/main/python/ml/pca_example.py\n",
            "spark-3.0.2-bin-hadoop2.7/examples/src/main/python/ml/onehot_encoder_example.py\n",
            "spark-3.0.2-bin-hadoop2.7/examples/src/main/python/ml/one_vs_rest_example.py\n",
            "spark-3.0.2-bin-hadoop2.7/examples/src/main/python/ml/normalizer_example.py\n",
            "spark-3.0.2-bin-hadoop2.7/examples/src/main/python/ml/naive_bayes_example.py\n",
            "spark-3.0.2-bin-hadoop2.7/examples/src/main/python/ml/n_gram_example.py\n",
            "spark-3.0.2-bin-hadoop2.7/examples/src/main/python/ml/multilayer_perceptron_classification.py\n",
            "spark-3.0.2-bin-hadoop2.7/examples/src/main/python/ml/multiclass_logistic_regression_with_elastic_net.py\n",
            "spark-3.0.2-bin-hadoop2.7/examples/src/main/python/ml/min_max_scaler_example.py\n",
            "spark-3.0.2-bin-hadoop2.7/examples/src/main/python/ml/min_hash_lsh_example.py\n",
            "spark-3.0.2-bin-hadoop2.7/examples/src/main/python/ml/max_abs_scaler_example.py\n",
            "spark-3.0.2-bin-hadoop2.7/examples/src/main/python/ml/logistic_regression_with_elastic_net.py\n",
            "spark-3.0.2-bin-hadoop2.7/examples/src/main/python/ml/logistic_regression_summary_example.py\n",
            "spark-3.0.2-bin-hadoop2.7/examples/src/main/python/ml/linearsvc.py\n",
            "spark-3.0.2-bin-hadoop2.7/examples/src/main/python/ml/linear_regression_with_elastic_net.py\n",
            "spark-3.0.2-bin-hadoop2.7/examples/src/main/python/ml/lda_example.py\n",
            "spark-3.0.2-bin-hadoop2.7/examples/src/main/python/ml/kmeans_example.py\n",
            "spark-3.0.2-bin-hadoop2.7/examples/src/main/python/ml/isotonic_regression_example.py\n",
            "spark-3.0.2-bin-hadoop2.7/examples/src/main/python/ml/interaction_example.py\n",
            "spark-3.0.2-bin-hadoop2.7/examples/src/main/python/ml/index_to_string_example.py\n",
            "spark-3.0.2-bin-hadoop2.7/examples/src/main/python/ml/gradient_boosted_tree_regressor_example.py\n",
            "spark-3.0.2-bin-hadoop2.7/examples/src/main/python/ml/gradient_boosted_tree_classifier_example.py\n",
            "spark-3.0.2-bin-hadoop2.7/examples/src/main/python/ml/generalized_linear_regression_example.py\n",
            "spark-3.0.2-bin-hadoop2.7/examples/src/main/python/ml/gaussian_mixture_example.py\n",
            "spark-3.0.2-bin-hadoop2.7/examples/src/main/python/ml/fm_regressor_example.py\n",
            "spark-3.0.2-bin-hadoop2.7/examples/src/main/python/ml/fm_classifier_example.py\n",
            "spark-3.0.2-bin-hadoop2.7/examples/src/main/python/ml/feature_hasher_example.py\n",
            "spark-3.0.2-bin-hadoop2.7/examples/src/main/python/ml/estimator_transformer_param_example.py\n",
            "spark-3.0.2-bin-hadoop2.7/examples/src/main/python/ml/elementwise_product_example.py\n",
            "spark-3.0.2-bin-hadoop2.7/examples/src/main/python/ml/decision_tree_regression_example.py\n",
            "spark-3.0.2-bin-hadoop2.7/examples/src/main/python/ml/decision_tree_classification_example.py\n",
            "spark-3.0.2-bin-hadoop2.7/examples/src/main/python/ml/dct_example.py\n",
            "spark-3.0.2-bin-hadoop2.7/examples/src/main/python/ml/dataframe_example.py\n",
            "spark-3.0.2-bin-hadoop2.7/examples/src/main/python/ml/cross_validator.py\n",
            "spark-3.0.2-bin-hadoop2.7/examples/src/main/python/ml/count_vectorizer_example.py\n",
            "spark-3.0.2-bin-hadoop2.7/examples/src/main/python/ml/correlation_example.py\n",
            "spark-3.0.2-bin-hadoop2.7/examples/src/main/python/ml/chisq_selector_example.py\n",
            "spark-3.0.2-bin-hadoop2.7/examples/src/main/python/ml/chi_square_test_example.py\n",
            "spark-3.0.2-bin-hadoop2.7/examples/src/main/python/ml/bucketizer_example.py\n",
            "spark-3.0.2-bin-hadoop2.7/examples/src/main/python/ml/bucketed_random_projection_lsh_example.py\n",
            "spark-3.0.2-bin-hadoop2.7/examples/src/main/python/ml/bisecting_k_means_example.py\n",
            "spark-3.0.2-bin-hadoop2.7/examples/src/main/python/ml/binarizer_example.py\n",
            "spark-3.0.2-bin-hadoop2.7/examples/src/main/python/ml/als_example.py\n",
            "spark-3.0.2-bin-hadoop2.7/examples/src/main/python/ml/aft_survival_regression.py\n",
            "spark-3.0.2-bin-hadoop2.7/examples/src/main/python/logistic_regression.py\n",
            "spark-3.0.2-bin-hadoop2.7/examples/src/main/python/kmeans.py\n",
            "spark-3.0.2-bin-hadoop2.7/examples/src/main/python/avro_inputformat.py\n",
            "spark-3.0.2-bin-hadoop2.7/examples/src/main/python/als.py\n",
            "spark-3.0.2-bin-hadoop2.7/examples/src/main/python/wordcount.py\n",
            "spark-3.0.2-bin-hadoop2.7/examples/src/main/python/transitive_closure.py\n",
            "spark-3.0.2-bin-hadoop2.7/examples/src/main/python/status_api_demo.py\n",
            "spark-3.0.2-bin-hadoop2.7/examples/src/main/python/sort.py\n",
            "spark-3.0.2-bin-hadoop2.7/examples/src/main/python/pi.py\n",
            "spark-3.0.2-bin-hadoop2.7/examples/src/main/python/parquet_inputformat.py\n",
            "spark-3.0.2-bin-hadoop2.7/examples/src/main/python/pagerank.py\n",
            "spark-3.0.2-bin-hadoop2.7/examples/src/main/python/streaming/\n",
            "spark-3.0.2-bin-hadoop2.7/examples/src/main/python/streaming/stateful_network_wordcount.py\n",
            "spark-3.0.2-bin-hadoop2.7/examples/src/main/python/streaming/sql_network_wordcount.py\n",
            "spark-3.0.2-bin-hadoop2.7/examples/src/main/python/streaming/recoverable_network_wordcount.py\n",
            "spark-3.0.2-bin-hadoop2.7/examples/src/main/python/streaming/network_wordjoinsentiments.py\n",
            "spark-3.0.2-bin-hadoop2.7/examples/src/main/python/streaming/network_wordcount.py\n",
            "spark-3.0.2-bin-hadoop2.7/examples/src/main/python/streaming/hdfs_wordcount.py\n",
            "spark-3.0.2-bin-hadoop2.7/examples/src/main/python/streaming/queue_stream.py\n",
            "spark-3.0.2-bin-hadoop2.7/examples/src/main/python/sql/\n",
            "spark-3.0.2-bin-hadoop2.7/examples/src/main/python/sql/hive.py\n",
            "spark-3.0.2-bin-hadoop2.7/examples/src/main/python/sql/datasource.py\n",
            "spark-3.0.2-bin-hadoop2.7/examples/src/main/python/sql/basic.py\n",
            "spark-3.0.2-bin-hadoop2.7/examples/src/main/python/sql/arrow.py\n",
            "spark-3.0.2-bin-hadoop2.7/examples/src/main/python/sql/streaming/\n",
            "spark-3.0.2-bin-hadoop2.7/examples/src/main/python/sql/streaming/structured_network_wordcount_windowed.py\n",
            "spark-3.0.2-bin-hadoop2.7/examples/src/main/python/sql/streaming/structured_network_wordcount.py\n",
            "spark-3.0.2-bin-hadoop2.7/examples/src/main/python/sql/streaming/structured_kafka_wordcount.py\n",
            "spark-3.0.2-bin-hadoop2.7/examples/src/main/java/\n",
            "spark-3.0.2-bin-hadoop2.7/examples/src/main/java/org/\n",
            "spark-3.0.2-bin-hadoop2.7/examples/src/main/java/org/apache/\n",
            "spark-3.0.2-bin-hadoop2.7/examples/src/main/java/org/apache/spark/\n",
            "spark-3.0.2-bin-hadoop2.7/examples/src/main/java/org/apache/spark/examples/\n",
            "spark-3.0.2-bin-hadoop2.7/examples/src/main/java/org/apache/spark/examples/streaming/\n",
            "spark-3.0.2-bin-hadoop2.7/examples/src/main/java/org/apache/spark/examples/streaming/JavaStatefulNetworkWordCount.java\n",
            "spark-3.0.2-bin-hadoop2.7/examples/src/main/java/org/apache/spark/examples/streaming/JavaSqlNetworkWordCount.java\n",
            "spark-3.0.2-bin-hadoop2.7/examples/src/main/java/org/apache/spark/examples/streaming/JavaRecord.java\n",
            "spark-3.0.2-bin-hadoop2.7/examples/src/main/java/org/apache/spark/examples/streaming/JavaQueueStream.java\n",
            "spark-3.0.2-bin-hadoop2.7/examples/src/main/java/org/apache/spark/examples/streaming/JavaNetworkWordCount.java\n",
            "spark-3.0.2-bin-hadoop2.7/examples/src/main/java/org/apache/spark/examples/streaming/JavaDirectKerberizedKafkaWordCount.java\n",
            "spark-3.0.2-bin-hadoop2.7/examples/src/main/java/org/apache/spark/examples/streaming/JavaDirectKafkaWordCount.java\n",
            "spark-3.0.2-bin-hadoop2.7/examples/src/main/java/org/apache/spark/examples/streaming/JavaCustomReceiver.java\n",
            "spark-3.0.2-bin-hadoop2.7/examples/src/main/java/org/apache/spark/examples/streaming/JavaRecoverableNetworkWordCount.java\n",
            "spark-3.0.2-bin-hadoop2.7/examples/src/main/java/org/apache/spark/examples/sql/\n",
            "spark-3.0.2-bin-hadoop2.7/examples/src/main/java/org/apache/spark/examples/sql/streaming/\n",
            "spark-3.0.2-bin-hadoop2.7/examples/src/main/java/org/apache/spark/examples/sql/streaming/JavaStructuredSessionization.java\n",
            "spark-3.0.2-bin-hadoop2.7/examples/src/main/java/org/apache/spark/examples/sql/streaming/JavaStructuredNetworkWordCountWindowed.java\n",
            "spark-3.0.2-bin-hadoop2.7/examples/src/main/java/org/apache/spark/examples/sql/streaming/JavaStructuredNetworkWordCount.java\n",
            "spark-3.0.2-bin-hadoop2.7/examples/src/main/java/org/apache/spark/examples/sql/streaming/JavaStructuredKerberizedKafkaWordCount.java\n",
            "spark-3.0.2-bin-hadoop2.7/examples/src/main/java/org/apache/spark/examples/sql/streaming/JavaStructuredKafkaWordCount.java\n",
            "spark-3.0.2-bin-hadoop2.7/examples/src/main/java/org/apache/spark/examples/sql/hive/\n",
            "spark-3.0.2-bin-hadoop2.7/examples/src/main/java/org/apache/spark/examples/sql/hive/JavaSparkHiveExample.java\n",
            "spark-3.0.2-bin-hadoop2.7/examples/src/main/java/org/apache/spark/examples/sql/JavaUserDefinedUntypedAggregation.java\n",
            "spark-3.0.2-bin-hadoop2.7/examples/src/main/java/org/apache/spark/examples/sql/JavaUserDefinedTypedAggregation.java\n",
            "spark-3.0.2-bin-hadoop2.7/examples/src/main/java/org/apache/spark/examples/sql/JavaUserDefinedScalar.java\n",
            "spark-3.0.2-bin-hadoop2.7/examples/src/main/java/org/apache/spark/examples/sql/JavaSparkSQLExample.java\n",
            "spark-3.0.2-bin-hadoop2.7/examples/src/main/java/org/apache/spark/examples/sql/JavaSQLDataSourceExample.java\n",
            "spark-3.0.2-bin-hadoop2.7/examples/src/main/java/org/apache/spark/examples/mllib/\n",
            "spark-3.0.2-bin-hadoop2.7/examples/src/main/java/org/apache/spark/examples/mllib/JavaSummaryStatisticsExample.java\n",
            "spark-3.0.2-bin-hadoop2.7/examples/src/main/java/org/apache/spark/examples/mllib/JavaStreamingTestExample.java\n",
            "spark-3.0.2-bin-hadoop2.7/examples/src/main/java/org/apache/spark/examples/mllib/JavaStratifiedSamplingExample.java\n",
            "spark-3.0.2-bin-hadoop2.7/examples/src/main/java/org/apache/spark/examples/mllib/JavaSimpleFPGrowth.java\n",
            "spark-3.0.2-bin-hadoop2.7/examples/src/main/java/org/apache/spark/examples/mllib/JavaSVMWithSGDExample.java\n",
            "spark-3.0.2-bin-hadoop2.7/examples/src/main/java/org/apache/spark/examples/mllib/JavaSVDExample.java\n",
            "spark-3.0.2-bin-hadoop2.7/examples/src/main/java/org/apache/spark/examples/mllib/JavaRecommendationExample.java\n",
            "spark-3.0.2-bin-hadoop2.7/examples/src/main/java/org/apache/spark/examples/mllib/JavaRankingMetricsExample.java\n",
            "spark-3.0.2-bin-hadoop2.7/examples/src/main/java/org/apache/spark/examples/mllib/JavaRandomForestRegressionExample.java\n",
            "spark-3.0.2-bin-hadoop2.7/examples/src/main/java/org/apache/spark/examples/mllib/JavaRandomForestClassificationExample.java\n",
            "spark-3.0.2-bin-hadoop2.7/examples/src/main/java/org/apache/spark/examples/mllib/JavaPrefixSpanExample.java\n",
            "spark-3.0.2-bin-hadoop2.7/examples/src/main/java/org/apache/spark/examples/mllib/JavaPowerIterationClusteringExample.java\n",
            "spark-3.0.2-bin-hadoop2.7/examples/src/main/java/org/apache/spark/examples/mllib/JavaPCAExample.java\n",
            "spark-3.0.2-bin-hadoop2.7/examples/src/main/java/org/apache/spark/examples/mllib/JavaNaiveBayesExample.java\n",
            "spark-3.0.2-bin-hadoop2.7/examples/src/main/java/org/apache/spark/examples/mllib/JavaMulticlassClassificationMetricsExample.java\n",
            "spark-3.0.2-bin-hadoop2.7/examples/src/main/java/org/apache/spark/examples/mllib/JavaMultiLabelClassificationMetricsExample.java\n",
            "spark-3.0.2-bin-hadoop2.7/examples/src/main/java/org/apache/spark/examples/mllib/JavaLogisticRegressionWithLBFGSExample.java\n",
            "spark-3.0.2-bin-hadoop2.7/examples/src/main/java/org/apache/spark/examples/mllib/JavaLatentDirichletAllocationExample.java\n",
            "spark-3.0.2-bin-hadoop2.7/examples/src/main/java/org/apache/spark/examples/mllib/JavaLBFGSExample.java\n",
            "spark-3.0.2-bin-hadoop2.7/examples/src/main/java/org/apache/spark/examples/mllib/JavaKernelDensityEstimationExample.java\n",
            "spark-3.0.2-bin-hadoop2.7/examples/src/main/java/org/apache/spark/examples/mllib/JavaKMeansExample.java\n",
            "spark-3.0.2-bin-hadoop2.7/examples/src/main/java/org/apache/spark/examples/mllib/JavaIsotonicRegressionExample.java\n",
            "spark-3.0.2-bin-hadoop2.7/examples/src/main/java/org/apache/spark/examples/mllib/JavaHypothesisTestingKolmogorovSmirnovTestExample.java\n",
            "spark-3.0.2-bin-hadoop2.7/examples/src/main/java/org/apache/spark/examples/mllib/JavaHypothesisTestingExample.java\n",
            "spark-3.0.2-bin-hadoop2.7/examples/src/main/java/org/apache/spark/examples/mllib/JavaGradientBoostingRegressionExample.java\n",
            "spark-3.0.2-bin-hadoop2.7/examples/src/main/java/org/apache/spark/examples/mllib/JavaGradientBoostingClassificationExample.java\n",
            "spark-3.0.2-bin-hadoop2.7/examples/src/main/java/org/apache/spark/examples/mllib/JavaGaussianMixtureExample.java\n",
            "spark-3.0.2-bin-hadoop2.7/examples/src/main/java/org/apache/spark/examples/mllib/JavaElementwiseProductExample.java\n",
            "spark-3.0.2-bin-hadoop2.7/examples/src/main/java/org/apache/spark/examples/mllib/JavaDecisionTreeRegressionExample.java\n",
            "spark-3.0.2-bin-hadoop2.7/examples/src/main/java/org/apache/spark/examples/mllib/JavaDecisionTreeClassificationExample.java\n",
            "spark-3.0.2-bin-hadoop2.7/examples/src/main/java/org/apache/spark/examples/mllib/JavaCorrelationsExample.java\n",
            "spark-3.0.2-bin-hadoop2.7/examples/src/main/java/org/apache/spark/examples/mllib/JavaChiSqSelectorExample.java\n",
            "spark-3.0.2-bin-hadoop2.7/examples/src/main/java/org/apache/spark/examples/mllib/JavaBisectingKMeansExample.java\n",
            "spark-3.0.2-bin-hadoop2.7/examples/src/main/java/org/apache/spark/examples/mllib/JavaBinaryClassificationMetricsExample.java\n",
            "spark-3.0.2-bin-hadoop2.7/examples/src/main/java/org/apache/spark/examples/mllib/JavaAssociationRulesExample.java\n",
            "spark-3.0.2-bin-hadoop2.7/examples/src/main/java/org/apache/spark/examples/mllib/JavaALS.java\n",
            "spark-3.0.2-bin-hadoop2.7/examples/src/main/java/org/apache/spark/examples/ml/\n",
            "spark-3.0.2-bin-hadoop2.7/examples/src/main/java/org/apache/spark/examples/ml/JavaWord2VecExample.java\n",
            "spark-3.0.2-bin-hadoop2.7/examples/src/main/java/org/apache/spark/examples/ml/JavaVectorSlicerExample.java\n",
            "spark-3.0.2-bin-hadoop2.7/examples/src/main/java/org/apache/spark/examples/ml/JavaVectorSizeHintExample.java\n",
            "spark-3.0.2-bin-hadoop2.7/examples/src/main/java/org/apache/spark/examples/ml/JavaVectorIndexerExample.java\n",
            "spark-3.0.2-bin-hadoop2.7/examples/src/main/java/org/apache/spark/examples/ml/JavaVectorAssemblerExample.java\n",
            "spark-3.0.2-bin-hadoop2.7/examples/src/main/java/org/apache/spark/examples/ml/JavaTfIdfExample.java\n",
            "spark-3.0.2-bin-hadoop2.7/examples/src/main/java/org/apache/spark/examples/ml/JavaSummarizerExample.java\n",
            "spark-3.0.2-bin-hadoop2.7/examples/src/main/java/org/apache/spark/examples/ml/JavaStringIndexerExample.java\n",
            "spark-3.0.2-bin-hadoop2.7/examples/src/main/java/org/apache/spark/examples/ml/JavaStopWordsRemoverExample.java\n",
            "spark-3.0.2-bin-hadoop2.7/examples/src/main/java/org/apache/spark/examples/ml/JavaStandardScalerExample.java\n",
            "spark-3.0.2-bin-hadoop2.7/examples/src/main/java/org/apache/spark/examples/ml/JavaSQLTransformerExample.java\n",
            "spark-3.0.2-bin-hadoop2.7/examples/src/main/java/org/apache/spark/examples/ml/JavaRobustScalerExample.java\n",
            "spark-3.0.2-bin-hadoop2.7/examples/src/main/java/org/apache/spark/examples/ml/JavaRandomForestRegressorExample.java\n",
            "spark-3.0.2-bin-hadoop2.7/examples/src/main/java/org/apache/spark/examples/ml/JavaRandomForestClassifierExample.java\n",
            "spark-3.0.2-bin-hadoop2.7/examples/src/main/java/org/apache/spark/examples/ml/JavaRFormulaExample.java\n",
            "spark-3.0.2-bin-hadoop2.7/examples/src/main/java/org/apache/spark/examples/ml/JavaQuantileDiscretizerExample.java\n",
            "spark-3.0.2-bin-hadoop2.7/examples/src/main/java/org/apache/spark/examples/ml/JavaPrefixSpanExample.java\n",
            "spark-3.0.2-bin-hadoop2.7/examples/src/main/java/org/apache/spark/examples/ml/JavaPowerIterationClusteringExample.java\n",
            "spark-3.0.2-bin-hadoop2.7/examples/src/main/java/org/apache/spark/examples/ml/JavaPolynomialExpansionExample.java\n",
            "spark-3.0.2-bin-hadoop2.7/examples/src/main/java/org/apache/spark/examples/ml/JavaPipelineExample.java\n",
            "spark-3.0.2-bin-hadoop2.7/examples/src/main/java/org/apache/spark/examples/ml/JavaPCAExample.java\n",
            "spark-3.0.2-bin-hadoop2.7/examples/src/main/java/org/apache/spark/examples/ml/JavaOneVsRestExample.java\n",
            "spark-3.0.2-bin-hadoop2.7/examples/src/main/java/org/apache/spark/examples/ml/JavaOneHotEncoderExample.java\n",
            "spark-3.0.2-bin-hadoop2.7/examples/src/main/java/org/apache/spark/examples/ml/JavaNormalizerExample.java\n",
            "spark-3.0.2-bin-hadoop2.7/examples/src/main/java/org/apache/spark/examples/ml/JavaNaiveBayesExample.java\n",
            "spark-3.0.2-bin-hadoop2.7/examples/src/main/java/org/apache/spark/examples/ml/JavaNGramExample.java\n",
            "spark-3.0.2-bin-hadoop2.7/examples/src/main/java/org/apache/spark/examples/ml/JavaMultilayerPerceptronClassifierExample.java\n",
            "spark-3.0.2-bin-hadoop2.7/examples/src/main/java/org/apache/spark/examples/ml/JavaMulticlassLogisticRegressionWithElasticNetExample.java\n",
            "spark-3.0.2-bin-hadoop2.7/examples/src/main/java/org/apache/spark/examples/ml/JavaModelSelectionViaTrainValidationSplitExample.java\n",
            "spark-3.0.2-bin-hadoop2.7/examples/src/main/java/org/apache/spark/examples/ml/JavaModelSelectionViaCrossValidationExample.java\n",
            "spark-3.0.2-bin-hadoop2.7/examples/src/main/java/org/apache/spark/examples/ml/JavaMinMaxScalerExample.java\n",
            "spark-3.0.2-bin-hadoop2.7/examples/src/main/java/org/apache/spark/examples/ml/JavaMinHashLSHExample.java\n",
            "spark-3.0.2-bin-hadoop2.7/examples/src/main/java/org/apache/spark/examples/ml/JavaMaxAbsScalerExample.java\n",
            "spark-3.0.2-bin-hadoop2.7/examples/src/main/java/org/apache/spark/examples/ml/JavaLogisticRegressionWithElasticNetExample.java\n",
            "spark-3.0.2-bin-hadoop2.7/examples/src/main/java/org/apache/spark/examples/ml/JavaLogisticRegressionSummaryExample.java\n",
            "spark-3.0.2-bin-hadoop2.7/examples/src/main/java/org/apache/spark/examples/ml/JavaLinearSVCExample.java\n",
            "spark-3.0.2-bin-hadoop2.7/examples/src/main/java/org/apache/spark/examples/ml/JavaLinearRegressionWithElasticNetExample.java\n",
            "spark-3.0.2-bin-hadoop2.7/examples/src/main/java/org/apache/spark/examples/ml/JavaLabeledDocument.java\n",
            "spark-3.0.2-bin-hadoop2.7/examples/src/main/java/org/apache/spark/examples/ml/JavaLDAExample.java\n",
            "spark-3.0.2-bin-hadoop2.7/examples/src/main/java/org/apache/spark/examples/ml/JavaKMeansExample.java\n",
            "spark-3.0.2-bin-hadoop2.7/examples/src/main/java/org/apache/spark/examples/ml/JavaIsotonicRegressionExample.java\n",
            "spark-3.0.2-bin-hadoop2.7/examples/src/main/java/org/apache/spark/examples/ml/JavaInteractionExample.java\n",
            "spark-3.0.2-bin-hadoop2.7/examples/src/main/java/org/apache/spark/examples/ml/JavaIndexToStringExample.java\n",
            "spark-3.0.2-bin-hadoop2.7/examples/src/main/java/org/apache/spark/examples/ml/JavaImputerExample.java\n",
            "spark-3.0.2-bin-hadoop2.7/examples/src/main/java/org/apache/spark/examples/ml/JavaGradientBoostedTreeRegressorExample.java\n",
            "spark-3.0.2-bin-hadoop2.7/examples/src/main/java/org/apache/spark/examples/ml/JavaGradientBoostedTreeClassifierExample.java\n",
            "spark-3.0.2-bin-hadoop2.7/examples/src/main/java/org/apache/spark/examples/ml/JavaGeneralizedLinearRegressionExample.java\n",
            "spark-3.0.2-bin-hadoop2.7/examples/src/main/java/org/apache/spark/examples/ml/JavaGaussianMixtureExample.java\n",
            "spark-3.0.2-bin-hadoop2.7/examples/src/main/java/org/apache/spark/examples/ml/JavaFeatureHasherExample.java\n",
            "spark-3.0.2-bin-hadoop2.7/examples/src/main/java/org/apache/spark/examples/ml/JavaFPGrowthExample.java\n",
            "spark-3.0.2-bin-hadoop2.7/examples/src/main/java/org/apache/spark/examples/ml/JavaFMRegressorExample.java\n",
            "spark-3.0.2-bin-hadoop2.7/examples/src/main/java/org/apache/spark/examples/ml/JavaFMClassifierExample.java\n",
            "spark-3.0.2-bin-hadoop2.7/examples/src/main/java/org/apache/spark/examples/ml/JavaEstimatorTransformerParamExample.java\n",
            "spark-3.0.2-bin-hadoop2.7/examples/src/main/java/org/apache/spark/examples/ml/JavaElementwiseProductExample.java\n",
            "spark-3.0.2-bin-hadoop2.7/examples/src/main/java/org/apache/spark/examples/ml/JavaDocument.java\n",
            "spark-3.0.2-bin-hadoop2.7/examples/src/main/java/org/apache/spark/examples/ml/JavaDecisionTreeRegressionExample.java\n",
            "spark-3.0.2-bin-hadoop2.7/examples/src/main/java/org/apache/spark/examples/ml/JavaDecisionTreeClassificationExample.java\n",
            "spark-3.0.2-bin-hadoop2.7/examples/src/main/java/org/apache/spark/examples/ml/JavaDCTExample.java\n",
            "spark-3.0.2-bin-hadoop2.7/examples/src/main/java/org/apache/spark/examples/ml/JavaCountVectorizerExample.java\n",
            "spark-3.0.2-bin-hadoop2.7/examples/src/main/java/org/apache/spark/examples/ml/JavaCorrelationExample.java\n",
            "spark-3.0.2-bin-hadoop2.7/examples/src/main/java/org/apache/spark/examples/ml/JavaChiSquareTestExample.java\n",
            "spark-3.0.2-bin-hadoop2.7/examples/src/main/java/org/apache/spark/examples/ml/JavaChiSqSelectorExample.java\n",
            "spark-3.0.2-bin-hadoop2.7/examples/src/main/java/org/apache/spark/examples/ml/JavaBucketizerExample.java\n",
            "spark-3.0.2-bin-hadoop2.7/examples/src/main/java/org/apache/spark/examples/ml/JavaBucketedRandomProjectionLSHExample.java\n",
            "spark-3.0.2-bin-hadoop2.7/examples/src/main/java/org/apache/spark/examples/ml/JavaBisectingKMeansExample.java\n",
            "spark-3.0.2-bin-hadoop2.7/examples/src/main/java/org/apache/spark/examples/ml/JavaBinarizerExample.java\n",
            "spark-3.0.2-bin-hadoop2.7/examples/src/main/java/org/apache/spark/examples/ml/JavaALSExample.java\n",
            "spark-3.0.2-bin-hadoop2.7/examples/src/main/java/org/apache/spark/examples/ml/JavaAFTSurvivalRegressionExample.java\n",
            "spark-3.0.2-bin-hadoop2.7/examples/src/main/java/org/apache/spark/examples/ml/JavaTokenizerExample.java\n",
            "spark-3.0.2-bin-hadoop2.7/examples/src/main/java/org/apache/spark/examples/JavaWordCount.java\n",
            "spark-3.0.2-bin-hadoop2.7/examples/src/main/java/org/apache/spark/examples/JavaTC.java\n",
            "spark-3.0.2-bin-hadoop2.7/examples/src/main/java/org/apache/spark/examples/JavaStatusTrackerDemo.java\n",
            "spark-3.0.2-bin-hadoop2.7/examples/src/main/java/org/apache/spark/examples/JavaSparkPi.java\n",
            "spark-3.0.2-bin-hadoop2.7/examples/src/main/java/org/apache/spark/examples/JavaPageRank.java\n",
            "spark-3.0.2-bin-hadoop2.7/examples/src/main/java/org/apache/spark/examples/JavaLogQuery.java\n",
            "spark-3.0.2-bin-hadoop2.7/examples/src/main/java/org/apache/spark/examples/JavaHdfsLR.java\n",
            "spark-3.0.2-bin-hadoop2.7/examples/src/main/scripts/\n",
            "spark-3.0.2-bin-hadoop2.7/examples/src/main/scripts/getGpusResources.sh\n",
            "spark-3.0.2-bin-hadoop2.7/examples/src/main/scala/\n",
            "spark-3.0.2-bin-hadoop2.7/examples/src/main/scala/org/\n",
            "spark-3.0.2-bin-hadoop2.7/examples/src/main/scala/org/apache/\n",
            "spark-3.0.2-bin-hadoop2.7/examples/src/main/scala/org/apache/spark/\n",
            "spark-3.0.2-bin-hadoop2.7/examples/src/main/scala/org/apache/spark/examples/\n",
            "spark-3.0.2-bin-hadoop2.7/examples/src/main/scala/org/apache/spark/examples/SparkKMeans.scala\n",
            "spark-3.0.2-bin-hadoop2.7/examples/src/main/scala/org/apache/spark/examples/LocalKMeans.scala\n",
            "spark-3.0.2-bin-hadoop2.7/examples/src/main/scala/org/apache/spark/examples/streaming/\n",
            "spark-3.0.2-bin-hadoop2.7/examples/src/main/scala/org/apache/spark/examples/streaming/RecoverableNetworkWordCount.scala\n",
            "spark-3.0.2-bin-hadoop2.7/examples/src/main/scala/org/apache/spark/examples/streaming/clickstream/\n",
            "spark-3.0.2-bin-hadoop2.7/examples/src/main/scala/org/apache/spark/examples/streaming/clickstream/PageViewStream.scala\n",
            "spark-3.0.2-bin-hadoop2.7/examples/src/main/scala/org/apache/spark/examples/streaming/clickstream/PageViewGenerator.scala\n",
            "spark-3.0.2-bin-hadoop2.7/examples/src/main/scala/org/apache/spark/examples/streaming/StreamingExamples.scala\n",
            "spark-3.0.2-bin-hadoop2.7/examples/src/main/scala/org/apache/spark/examples/streaming/StatefulNetworkWordCount.scala\n",
            "spark-3.0.2-bin-hadoop2.7/examples/src/main/scala/org/apache/spark/examples/streaming/SqlNetworkWordCount.scala\n",
            "spark-3.0.2-bin-hadoop2.7/examples/src/main/scala/org/apache/spark/examples/streaming/RawNetworkGrep.scala\n",
            "spark-3.0.2-bin-hadoop2.7/examples/src/main/scala/org/apache/spark/examples/streaming/QueueStream.scala\n",
            "spark-3.0.2-bin-hadoop2.7/examples/src/main/scala/org/apache/spark/examples/streaming/NetworkWordCount.scala\n",
            "spark-3.0.2-bin-hadoop2.7/examples/src/main/scala/org/apache/spark/examples/streaming/HdfsWordCount.scala\n",
            "spark-3.0.2-bin-hadoop2.7/examples/src/main/scala/org/apache/spark/examples/streaming/DirectKerberizedKafkaWordCount.scala\n",
            "spark-3.0.2-bin-hadoop2.7/examples/src/main/scala/org/apache/spark/examples/streaming/DirectKafkaWordCount.scala\n",
            "spark-3.0.2-bin-hadoop2.7/examples/src/main/scala/org/apache/spark/examples/streaming/CustomReceiver.scala\n",
            "spark-3.0.2-bin-hadoop2.7/examples/src/main/scala/org/apache/spark/examples/sql/\n",
            "spark-3.0.2-bin-hadoop2.7/examples/src/main/scala/org/apache/spark/examples/sql/SparkSQLExample.scala\n",
            "spark-3.0.2-bin-hadoop2.7/examples/src/main/scala/org/apache/spark/examples/sql/SQLDataSourceExample.scala\n",
            "spark-3.0.2-bin-hadoop2.7/examples/src/main/scala/org/apache/spark/examples/sql/streaming/\n",
            "spark-3.0.2-bin-hadoop2.7/examples/src/main/scala/org/apache/spark/examples/sql/streaming/StructuredSessionization.scala\n",
            "spark-3.0.2-bin-hadoop2.7/examples/src/main/scala/org/apache/spark/examples/sql/streaming/StructuredNetworkWordCountWindowed.scala\n",
            "spark-3.0.2-bin-hadoop2.7/examples/src/main/scala/org/apache/spark/examples/sql/streaming/StructuredNetworkWordCount.scala\n",
            "spark-3.0.2-bin-hadoop2.7/examples/src/main/scala/org/apache/spark/examples/sql/streaming/StructuredKerberizedKafkaWordCount.scala\n",
            "spark-3.0.2-bin-hadoop2.7/examples/src/main/scala/org/apache/spark/examples/sql/streaming/StructuredKafkaWordCount.scala\n",
            "spark-3.0.2-bin-hadoop2.7/examples/src/main/scala/org/apache/spark/examples/sql/hive/\n",
            "spark-3.0.2-bin-hadoop2.7/examples/src/main/scala/org/apache/spark/examples/sql/hive/SparkHiveExample.scala\n",
            "spark-3.0.2-bin-hadoop2.7/examples/src/main/scala/org/apache/spark/examples/sql/UserDefinedUntypedAggregation.scala\n",
            "spark-3.0.2-bin-hadoop2.7/examples/src/main/scala/org/apache/spark/examples/sql/UserDefinedTypedAggregation.scala\n",
            "spark-3.0.2-bin-hadoop2.7/examples/src/main/scala/org/apache/spark/examples/sql/UserDefinedScalar.scala\n",
            "spark-3.0.2-bin-hadoop2.7/examples/src/main/scala/org/apache/spark/examples/sql/SimpleTypedAggregator.scala\n",
            "spark-3.0.2-bin-hadoop2.7/examples/src/main/scala/org/apache/spark/examples/sql/RDDRelation.scala\n",
            "spark-3.0.2-bin-hadoop2.7/examples/src/main/scala/org/apache/spark/examples/pythonconverters/\n",
            "spark-3.0.2-bin-hadoop2.7/examples/src/main/scala/org/apache/spark/examples/pythonconverters/AvroConverters.scala\n",
            "spark-3.0.2-bin-hadoop2.7/examples/src/main/scala/org/apache/spark/examples/mllib/\n",
            "spark-3.0.2-bin-hadoop2.7/examples/src/main/scala/org/apache/spark/examples/mllib/RankingMetricsExample.scala\n",
            "spark-3.0.2-bin-hadoop2.7/examples/src/main/scala/org/apache/spark/examples/mllib/Word2VecExample.scala\n",
            "spark-3.0.2-bin-hadoop2.7/examples/src/main/scala/org/apache/spark/examples/mllib/TallSkinnySVD.scala\n",
            "spark-3.0.2-bin-hadoop2.7/examples/src/main/scala/org/apache/spark/examples/mllib/TallSkinnyPCA.scala\n",
            "spark-3.0.2-bin-hadoop2.7/examples/src/main/scala/org/apache/spark/examples/mllib/TFIDFExample.scala\n",
            "spark-3.0.2-bin-hadoop2.7/examples/src/main/scala/org/apache/spark/examples/mllib/SummaryStatisticsExample.scala\n",
            "spark-3.0.2-bin-hadoop2.7/examples/src/main/scala/org/apache/spark/examples/mllib/StreamingTestExample.scala\n",
            "spark-3.0.2-bin-hadoop2.7/examples/src/main/scala/org/apache/spark/examples/mllib/StreamingLogisticRegression.scala\n",
            "spark-3.0.2-bin-hadoop2.7/examples/src/main/scala/org/apache/spark/examples/mllib/StreamingLinearRegressionExample.scala\n",
            "spark-3.0.2-bin-hadoop2.7/examples/src/main/scala/org/apache/spark/examples/mllib/StreamingKMeansExample.scala\n",
            "spark-3.0.2-bin-hadoop2.7/examples/src/main/scala/org/apache/spark/examples/mllib/StratifiedSamplingExample.scala\n",
            "spark-3.0.2-bin-hadoop2.7/examples/src/main/scala/org/apache/spark/examples/mllib/StandardScalerExample.scala\n",
            "spark-3.0.2-bin-hadoop2.7/examples/src/main/scala/org/apache/spark/examples/mllib/SparseNaiveBayes.scala\n",
            "spark-3.0.2-bin-hadoop2.7/examples/src/main/scala/org/apache/spark/examples/mllib/SimpleFPGrowth.scala\n",
            "spark-3.0.2-bin-hadoop2.7/examples/src/main/scala/org/apache/spark/examples/mllib/SampledRDDs.scala\n",
            "spark-3.0.2-bin-hadoop2.7/examples/src/main/scala/org/apache/spark/examples/mllib/SVMWithSGDExample.scala\n",
            "spark-3.0.2-bin-hadoop2.7/examples/src/main/scala/org/apache/spark/examples/mllib/SVDExample.scala\n",
            "spark-3.0.2-bin-hadoop2.7/examples/src/main/scala/org/apache/spark/examples/mllib/RecommendationExample.scala\n",
            "spark-3.0.2-bin-hadoop2.7/examples/src/main/scala/org/apache/spark/examples/mllib/RandomRDDGeneration.scala\n",
            "spark-3.0.2-bin-hadoop2.7/examples/src/main/scala/org/apache/spark/examples/mllib/RandomForestRegressionExample.scala\n",
            "spark-3.0.2-bin-hadoop2.7/examples/src/main/scala/org/apache/spark/examples/mllib/RandomForestClassificationExample.scala\n",
            "spark-3.0.2-bin-hadoop2.7/examples/src/main/scala/org/apache/spark/examples/mllib/PrefixSpanExample.scala\n",
            "spark-3.0.2-bin-hadoop2.7/examples/src/main/scala/org/apache/spark/examples/mllib/PowerIterationClusteringExample.scala\n",
            "spark-3.0.2-bin-hadoop2.7/examples/src/main/scala/org/apache/spark/examples/mllib/PMMLModelExportExample.scala\n",
            "spark-3.0.2-bin-hadoop2.7/examples/src/main/scala/org/apache/spark/examples/mllib/PCAOnSourceVectorExample.scala\n",
            "spark-3.0.2-bin-hadoop2.7/examples/src/main/scala/org/apache/spark/examples/mllib/PCAOnRowMatrixExample.scala\n",
            "spark-3.0.2-bin-hadoop2.7/examples/src/main/scala/org/apache/spark/examples/mllib/NormalizerExample.scala\n",
            "spark-3.0.2-bin-hadoop2.7/examples/src/main/scala/org/apache/spark/examples/mllib/NaiveBayesExample.scala\n",
            "spark-3.0.2-bin-hadoop2.7/examples/src/main/scala/org/apache/spark/examples/mllib/MultivariateSummarizer.scala\n",
            "spark-3.0.2-bin-hadoop2.7/examples/src/main/scala/org/apache/spark/examples/mllib/MulticlassMetricsExample.scala\n",
            "spark-3.0.2-bin-hadoop2.7/examples/src/main/scala/org/apache/spark/examples/mllib/MultiLabelMetricsExample.scala\n",
            "spark-3.0.2-bin-hadoop2.7/examples/src/main/scala/org/apache/spark/examples/mllib/MovieLensALS.scala\n",
            "spark-3.0.2-bin-hadoop2.7/examples/src/main/scala/org/apache/spark/examples/mllib/LogisticRegressionWithLBFGSExample.scala\n",
            "spark-3.0.2-bin-hadoop2.7/examples/src/main/scala/org/apache/spark/examples/mllib/LatentDirichletAllocationExample.scala\n",
            "spark-3.0.2-bin-hadoop2.7/examples/src/main/scala/org/apache/spark/examples/mllib/LDAExample.scala\n",
            "spark-3.0.2-bin-hadoop2.7/examples/src/main/scala/org/apache/spark/examples/mllib/LBFGSExample.scala\n",
            "spark-3.0.2-bin-hadoop2.7/examples/src/main/scala/org/apache/spark/examples/mllib/KernelDensityEstimationExample.scala\n",
            "spark-3.0.2-bin-hadoop2.7/examples/src/main/scala/org/apache/spark/examples/mllib/KMeansExample.scala\n",
            "spark-3.0.2-bin-hadoop2.7/examples/src/main/scala/org/apache/spark/examples/mllib/IsotonicRegressionExample.scala\n",
            "spark-3.0.2-bin-hadoop2.7/examples/src/main/scala/org/apache/spark/examples/mllib/HypothesisTestingKolmogorovSmirnovTestExample.scala\n",
            "spark-3.0.2-bin-hadoop2.7/examples/src/main/scala/org/apache/spark/examples/mllib/HypothesisTestingExample.scala\n",
            "spark-3.0.2-bin-hadoop2.7/examples/src/main/scala/org/apache/spark/examples/mllib/GradientBoostingRegressionExample.scala\n",
            "spark-3.0.2-bin-hadoop2.7/examples/src/main/scala/org/apache/spark/examples/mllib/GradientBoostingClassificationExample.scala\n",
            "spark-3.0.2-bin-hadoop2.7/examples/src/main/scala/org/apache/spark/examples/mllib/GradientBoostedTreesRunner.scala\n",
            "spark-3.0.2-bin-hadoop2.7/examples/src/main/scala/org/apache/spark/examples/mllib/GaussianMixtureExample.scala\n",
            "spark-3.0.2-bin-hadoop2.7/examples/src/main/scala/org/apache/spark/examples/mllib/FPGrowthExample.scala\n",
            "spark-3.0.2-bin-hadoop2.7/examples/src/main/scala/org/apache/spark/examples/mllib/ElementwiseProductExample.scala\n",
            "spark-3.0.2-bin-hadoop2.7/examples/src/main/scala/org/apache/spark/examples/mllib/DenseKMeans.scala\n",
            "spark-3.0.2-bin-hadoop2.7/examples/src/main/scala/org/apache/spark/examples/mllib/DecisionTreeRunner.scala\n",
            "spark-3.0.2-bin-hadoop2.7/examples/src/main/scala/org/apache/spark/examples/mllib/DecisionTreeRegressionExample.scala\n",
            "spark-3.0.2-bin-hadoop2.7/examples/src/main/scala/org/apache/spark/examples/mllib/DecisionTreeClassificationExample.scala\n",
            "spark-3.0.2-bin-hadoop2.7/examples/src/main/scala/org/apache/spark/examples/mllib/CosineSimilarity.scala\n",
            "spark-3.0.2-bin-hadoop2.7/examples/src/main/scala/org/apache/spark/examples/mllib/CorrelationsExample.scala\n",
            "spark-3.0.2-bin-hadoop2.7/examples/src/main/scala/org/apache/spark/examples/mllib/Correlations.scala\n",
            "spark-3.0.2-bin-hadoop2.7/examples/src/main/scala/org/apache/spark/examples/mllib/ChiSqSelectorExample.scala\n",
            "spark-3.0.2-bin-hadoop2.7/examples/src/main/scala/org/apache/spark/examples/mllib/BisectingKMeansExample.scala\n",
            "spark-3.0.2-bin-hadoop2.7/examples/src/main/scala/org/apache/spark/examples/mllib/BinaryClassificationMetricsExample.scala\n",
            "spark-3.0.2-bin-hadoop2.7/examples/src/main/scala/org/apache/spark/examples/mllib/BinaryClassification.scala\n",
            "spark-3.0.2-bin-hadoop2.7/examples/src/main/scala/org/apache/spark/examples/mllib/AssociationRulesExample.scala\n",
            "spark-3.0.2-bin-hadoop2.7/examples/src/main/scala/org/apache/spark/examples/mllib/AbstractParams.scala\n",
            "spark-3.0.2-bin-hadoop2.7/examples/src/main/scala/org/apache/spark/examples/ml/\n",
            "spark-3.0.2-bin-hadoop2.7/examples/src/main/scala/org/apache/spark/examples/ml/DeveloperApiExample.scala\n",
            "spark-3.0.2-bin-hadoop2.7/examples/src/main/scala/org/apache/spark/examples/ml/Word2VecExample.scala\n",
            "spark-3.0.2-bin-hadoop2.7/examples/src/main/scala/org/apache/spark/examples/ml/VectorSlicerExample.scala\n",
            "spark-3.0.2-bin-hadoop2.7/examples/src/main/scala/org/apache/spark/examples/ml/VectorSizeHintExample.scala\n",
            "spark-3.0.2-bin-hadoop2.7/examples/src/main/scala/org/apache/spark/examples/ml/VectorIndexerExample.scala\n",
            "spark-3.0.2-bin-hadoop2.7/examples/src/main/scala/org/apache/spark/examples/ml/VectorAssemblerExample.scala\n",
            "spark-3.0.2-bin-hadoop2.7/examples/src/main/scala/org/apache/spark/examples/ml/UnaryTransformerExample.scala\n",
            "spark-3.0.2-bin-hadoop2.7/examples/src/main/scala/org/apache/spark/examples/ml/TokenizerExample.scala\n",
            "spark-3.0.2-bin-hadoop2.7/examples/src/main/scala/org/apache/spark/examples/ml/TfIdfExample.scala\n",
            "spark-3.0.2-bin-hadoop2.7/examples/src/main/scala/org/apache/spark/examples/ml/SummarizerExample.scala\n",
            "spark-3.0.2-bin-hadoop2.7/examples/src/main/scala/org/apache/spark/examples/ml/StringIndexerExample.scala\n",
            "spark-3.0.2-bin-hadoop2.7/examples/src/main/scala/org/apache/spark/examples/ml/StopWordsRemoverExample.scala\n",
            "spark-3.0.2-bin-hadoop2.7/examples/src/main/scala/org/apache/spark/examples/ml/StandardScalerExample.scala\n",
            "spark-3.0.2-bin-hadoop2.7/examples/src/main/scala/org/apache/spark/examples/ml/SQLTransformerExample.scala\n",
            "spark-3.0.2-bin-hadoop2.7/examples/src/main/scala/org/apache/spark/examples/ml/RobustScalerExample.scala\n",
            "spark-3.0.2-bin-hadoop2.7/examples/src/main/scala/org/apache/spark/examples/ml/RandomForestRegressorExample.scala\n",
            "spark-3.0.2-bin-hadoop2.7/examples/src/main/scala/org/apache/spark/examples/ml/RandomForestExample.scala\n",
            "spark-3.0.2-bin-hadoop2.7/examples/src/main/scala/org/apache/spark/examples/ml/RandomForestClassifierExample.scala\n",
            "spark-3.0.2-bin-hadoop2.7/examples/src/main/scala/org/apache/spark/examples/ml/RFormulaExample.scala\n",
            "spark-3.0.2-bin-hadoop2.7/examples/src/main/scala/org/apache/spark/examples/ml/QuantileDiscretizerExample.scala\n",
            "spark-3.0.2-bin-hadoop2.7/examples/src/main/scala/org/apache/spark/examples/ml/PrefixSpanExample.scala\n",
            "spark-3.0.2-bin-hadoop2.7/examples/src/main/scala/org/apache/spark/examples/ml/PowerIterationClusteringExample.scala\n",
            "spark-3.0.2-bin-hadoop2.7/examples/src/main/scala/org/apache/spark/examples/ml/PolynomialExpansionExample.scala\n",
            "spark-3.0.2-bin-hadoop2.7/examples/src/main/scala/org/apache/spark/examples/ml/PipelineExample.scala\n",
            "spark-3.0.2-bin-hadoop2.7/examples/src/main/scala/org/apache/spark/examples/ml/PCAExample.scala\n",
            "spark-3.0.2-bin-hadoop2.7/examples/src/main/scala/org/apache/spark/examples/ml/OneVsRestExample.scala\n",
            "spark-3.0.2-bin-hadoop2.7/examples/src/main/scala/org/apache/spark/examples/ml/OneHotEncoderExample.scala\n",
            "spark-3.0.2-bin-hadoop2.7/examples/src/main/scala/org/apache/spark/examples/ml/NormalizerExample.scala\n",
            "spark-3.0.2-bin-hadoop2.7/examples/src/main/scala/org/apache/spark/examples/ml/NaiveBayesExample.scala\n",
            "spark-3.0.2-bin-hadoop2.7/examples/src/main/scala/org/apache/spark/examples/ml/NGramExample.scala\n",
            "spark-3.0.2-bin-hadoop2.7/examples/src/main/scala/org/apache/spark/examples/ml/MultilayerPerceptronClassifierExample.scala\n",
            "spark-3.0.2-bin-hadoop2.7/examples/src/main/scala/org/apache/spark/examples/ml/MulticlassLogisticRegressionWithElasticNetExample.scala\n",
            "spark-3.0.2-bin-hadoop2.7/examples/src/main/scala/org/apache/spark/examples/ml/ModelSelectionViaTrainValidationSplitExample.scala\n",
            "spark-3.0.2-bin-hadoop2.7/examples/src/main/scala/org/apache/spark/examples/ml/ModelSelectionViaCrossValidationExample.scala\n",
            "spark-3.0.2-bin-hadoop2.7/examples/src/main/scala/org/apache/spark/examples/ml/MinMaxScalerExample.scala\n",
            "spark-3.0.2-bin-hadoop2.7/examples/src/main/scala/org/apache/spark/examples/ml/MinHashLSHExample.scala\n",
            "spark-3.0.2-bin-hadoop2.7/examples/src/main/scala/org/apache/spark/examples/ml/MaxAbsScalerExample.scala\n",
            "spark-3.0.2-bin-hadoop2.7/examples/src/main/scala/org/apache/spark/examples/ml/LogisticRegressionWithElasticNetExample.scala\n",
            "spark-3.0.2-bin-hadoop2.7/examples/src/main/scala/org/apache/spark/examples/ml/LogisticRegressionSummaryExample.scala\n",
            "spark-3.0.2-bin-hadoop2.7/examples/src/main/scala/org/apache/spark/examples/ml/LogisticRegressionExample.scala\n",
            "spark-3.0.2-bin-hadoop2.7/examples/src/main/scala/org/apache/spark/examples/ml/LinearSVCExample.scala\n",
            "spark-3.0.2-bin-hadoop2.7/examples/src/main/scala/org/apache/spark/examples/ml/LinearRegressionWithElasticNetExample.scala\n",
            "spark-3.0.2-bin-hadoop2.7/examples/src/main/scala/org/apache/spark/examples/ml/LinearRegressionExample.scala\n",
            "spark-3.0.2-bin-hadoop2.7/examples/src/main/scala/org/apache/spark/examples/ml/LDAExample.scala\n",
            "spark-3.0.2-bin-hadoop2.7/examples/src/main/scala/org/apache/spark/examples/ml/KMeansExample.scala\n",
            "spark-3.0.2-bin-hadoop2.7/examples/src/main/scala/org/apache/spark/examples/ml/IsotonicRegressionExample.scala\n",
            "spark-3.0.2-bin-hadoop2.7/examples/src/main/scala/org/apache/spark/examples/ml/InteractionExample.scala\n",
            "spark-3.0.2-bin-hadoop2.7/examples/src/main/scala/org/apache/spark/examples/ml/IndexToStringExample.scala\n",
            "spark-3.0.2-bin-hadoop2.7/examples/src/main/scala/org/apache/spark/examples/ml/ImputerExample.scala\n",
            "spark-3.0.2-bin-hadoop2.7/examples/src/main/scala/org/apache/spark/examples/ml/GradientBoostedTreeRegressorExample.scala\n",
            "spark-3.0.2-bin-hadoop2.7/examples/src/main/scala/org/apache/spark/examples/ml/GradientBoostedTreeClassifierExample.scala\n",
            "spark-3.0.2-bin-hadoop2.7/examples/src/main/scala/org/apache/spark/examples/ml/GeneralizedLinearRegressionExample.scala\n",
            "spark-3.0.2-bin-hadoop2.7/examples/src/main/scala/org/apache/spark/examples/ml/GaussianMixtureExample.scala\n",
            "spark-3.0.2-bin-hadoop2.7/examples/src/main/scala/org/apache/spark/examples/ml/GBTExample.scala\n",
            "spark-3.0.2-bin-hadoop2.7/examples/src/main/scala/org/apache/spark/examples/ml/FeatureHasherExample.scala\n",
            "spark-3.0.2-bin-hadoop2.7/examples/src/main/scala/org/apache/spark/examples/ml/FPGrowthExample.scala\n",
            "spark-3.0.2-bin-hadoop2.7/examples/src/main/scala/org/apache/spark/examples/ml/FMRegressorExample.scala\n",
            "spark-3.0.2-bin-hadoop2.7/examples/src/main/scala/org/apache/spark/examples/ml/FMClassifierExample.scala\n",
            "spark-3.0.2-bin-hadoop2.7/examples/src/main/scala/org/apache/spark/examples/ml/EstimatorTransformerParamExample.scala\n",
            "spark-3.0.2-bin-hadoop2.7/examples/src/main/scala/org/apache/spark/examples/ml/ElementwiseProductExample.scala\n",
            "spark-3.0.2-bin-hadoop2.7/examples/src/main/scala/org/apache/spark/examples/ml/DecisionTreeRegressionExample.scala\n",
            "spark-3.0.2-bin-hadoop2.7/examples/src/main/scala/org/apache/spark/examples/ml/DecisionTreeExample.scala\n",
            "spark-3.0.2-bin-hadoop2.7/examples/src/main/scala/org/apache/spark/examples/ml/DecisionTreeClassificationExample.scala\n",
            "spark-3.0.2-bin-hadoop2.7/examples/src/main/scala/org/apache/spark/examples/ml/DataFrameExample.scala\n",
            "spark-3.0.2-bin-hadoop2.7/examples/src/main/scala/org/apache/spark/examples/ml/DCTExample.scala\n",
            "spark-3.0.2-bin-hadoop2.7/examples/src/main/scala/org/apache/spark/examples/ml/CountVectorizerExample.scala\n",
            "spark-3.0.2-bin-hadoop2.7/examples/src/main/scala/org/apache/spark/examples/ml/CorrelationExample.scala\n",
            "spark-3.0.2-bin-hadoop2.7/examples/src/main/scala/org/apache/spark/examples/ml/ChiSquareTestExample.scala\n",
            "spark-3.0.2-bin-hadoop2.7/examples/src/main/scala/org/apache/spark/examples/ml/ChiSqSelectorExample.scala\n",
            "spark-3.0.2-bin-hadoop2.7/examples/src/main/scala/org/apache/spark/examples/ml/BucketizerExample.scala\n",
            "spark-3.0.2-bin-hadoop2.7/examples/src/main/scala/org/apache/spark/examples/ml/BucketedRandomProjectionLSHExample.scala\n",
            "spark-3.0.2-bin-hadoop2.7/examples/src/main/scala/org/apache/spark/examples/ml/BisectingKMeansExample.scala\n",
            "spark-3.0.2-bin-hadoop2.7/examples/src/main/scala/org/apache/spark/examples/ml/BinarizerExample.scala\n",
            "spark-3.0.2-bin-hadoop2.7/examples/src/main/scala/org/apache/spark/examples/ml/ALSExample.scala\n",
            "spark-3.0.2-bin-hadoop2.7/examples/src/main/scala/org/apache/spark/examples/ml/AFTSurvivalRegressionExample.scala\n",
            "spark-3.0.2-bin-hadoop2.7/examples/src/main/scala/org/apache/spark/examples/graphx/\n",
            "spark-3.0.2-bin-hadoop2.7/examples/src/main/scala/org/apache/spark/examples/graphx/TriangleCountingExample.scala\n",
            "spark-3.0.2-bin-hadoop2.7/examples/src/main/scala/org/apache/spark/examples/graphx/SynthBenchmark.scala\n",
            "spark-3.0.2-bin-hadoop2.7/examples/src/main/scala/org/apache/spark/examples/graphx/SSSPExample.scala\n",
            "spark-3.0.2-bin-hadoop2.7/examples/src/main/scala/org/apache/spark/examples/graphx/PageRankExample.scala\n",
            "spark-3.0.2-bin-hadoop2.7/examples/src/main/scala/org/apache/spark/examples/graphx/LiveJournalPageRank.scala\n",
            "spark-3.0.2-bin-hadoop2.7/examples/src/main/scala/org/apache/spark/examples/graphx/ConnectedComponentsExample.scala\n",
            "spark-3.0.2-bin-hadoop2.7/examples/src/main/scala/org/apache/spark/examples/graphx/ComprehensiveExample.scala\n",
            "spark-3.0.2-bin-hadoop2.7/examples/src/main/scala/org/apache/spark/examples/graphx/Analytics.scala\n",
            "spark-3.0.2-bin-hadoop2.7/examples/src/main/scala/org/apache/spark/examples/graphx/AggregateMessagesExample.scala\n",
            "spark-3.0.2-bin-hadoop2.7/examples/src/main/scala/org/apache/spark/examples/SparkTC.scala\n",
            "spark-3.0.2-bin-hadoop2.7/examples/src/main/scala/org/apache/spark/examples/SparkRemoteFileTest.scala\n",
            "spark-3.0.2-bin-hadoop2.7/examples/src/main/scala/org/apache/spark/examples/SparkPi.scala\n",
            "spark-3.0.2-bin-hadoop2.7/examples/src/main/scala/org/apache/spark/examples/SparkPageRank.scala\n",
            "spark-3.0.2-bin-hadoop2.7/examples/src/main/scala/org/apache/spark/examples/SparkLR.scala\n",
            "spark-3.0.2-bin-hadoop2.7/examples/src/main/scala/org/apache/spark/examples/SparkHdfsLR.scala\n",
            "spark-3.0.2-bin-hadoop2.7/examples/src/main/scala/org/apache/spark/examples/SparkALS.scala\n",
            "spark-3.0.2-bin-hadoop2.7/examples/src/main/scala/org/apache/spark/examples/SkewedGroupByTest.scala\n",
            "spark-3.0.2-bin-hadoop2.7/examples/src/main/scala/org/apache/spark/examples/SimpleSkewedGroupByTest.scala\n",
            "spark-3.0.2-bin-hadoop2.7/examples/src/main/scala/org/apache/spark/examples/MultiBroadcastTest.scala\n",
            "spark-3.0.2-bin-hadoop2.7/examples/src/main/scala/org/apache/spark/examples/LogQuery.scala\n",
            "spark-3.0.2-bin-hadoop2.7/examples/src/main/scala/org/apache/spark/examples/LocalPi.scala\n",
            "spark-3.0.2-bin-hadoop2.7/examples/src/main/scala/org/apache/spark/examples/LocalLR.scala\n",
            "spark-3.0.2-bin-hadoop2.7/examples/src/main/scala/org/apache/spark/examples/LocalFileLR.scala\n",
            "spark-3.0.2-bin-hadoop2.7/examples/src/main/scala/org/apache/spark/examples/LocalALS.scala\n",
            "spark-3.0.2-bin-hadoop2.7/examples/src/main/scala/org/apache/spark/examples/HdfsTest.scala\n",
            "spark-3.0.2-bin-hadoop2.7/examples/src/main/scala/org/apache/spark/examples/GroupByTest.scala\n",
            "spark-3.0.2-bin-hadoop2.7/examples/src/main/scala/org/apache/spark/examples/ExceptionHandlingTest.scala\n",
            "spark-3.0.2-bin-hadoop2.7/examples/src/main/scala/org/apache/spark/examples/DriverSubmissionTest.scala\n",
            "spark-3.0.2-bin-hadoop2.7/examples/src/main/scala/org/apache/spark/examples/DFSReadWriteTest.scala\n",
            "spark-3.0.2-bin-hadoop2.7/examples/src/main/scala/org/apache/spark/examples/BroadcastTest.scala\n",
            "spark-3.0.2-bin-hadoop2.7/examples/src/main/scala/org/apache/spark/examples/AccumulatorMetricsTest.scala\n",
            "spark-3.0.2-bin-hadoop2.7/examples/src/main/resources/\n",
            "spark-3.0.2-bin-hadoop2.7/examples/src/main/resources/users.parquet\n",
            "spark-3.0.2-bin-hadoop2.7/examples/src/main/resources/users.orc\n",
            "spark-3.0.2-bin-hadoop2.7/examples/src/main/resources/users.avro\n",
            "spark-3.0.2-bin-hadoop2.7/examples/src/main/resources/user.avsc\n",
            "spark-3.0.2-bin-hadoop2.7/examples/src/main/resources/people.txt\n",
            "spark-3.0.2-bin-hadoop2.7/examples/src/main/resources/people.json\n",
            "spark-3.0.2-bin-hadoop2.7/examples/src/main/resources/people.csv\n",
            "spark-3.0.2-bin-hadoop2.7/examples/src/main/resources/kv1.txt\n",
            "spark-3.0.2-bin-hadoop2.7/examples/src/main/resources/full_user.avsc\n",
            "spark-3.0.2-bin-hadoop2.7/examples/src/main/resources/employees.json\n",
            "spark-3.0.2-bin-hadoop2.7/examples/src/main/resources/dir1/\n",
            "spark-3.0.2-bin-hadoop2.7/examples/src/main/resources/dir1/file3.json\n",
            "spark-3.0.2-bin-hadoop2.7/examples/src/main/resources/dir1/file1.parquet\n",
            "spark-3.0.2-bin-hadoop2.7/examples/src/main/resources/dir1/dir2/\n",
            "spark-3.0.2-bin-hadoop2.7/examples/src/main/resources/dir1/dir2/file2.parquet\n",
            "spark-3.0.2-bin-hadoop2.7/examples/src/main/r/\n",
            "spark-3.0.2-bin-hadoop2.7/examples/src/main/r/RSparkSQLExample.R\n",
            "spark-3.0.2-bin-hadoop2.7/examples/src/main/r/streaming/\n",
            "spark-3.0.2-bin-hadoop2.7/examples/src/main/r/streaming/structured_network_wordcount.R\n",
            "spark-3.0.2-bin-hadoop2.7/examples/src/main/r/ml/\n",
            "spark-3.0.2-bin-hadoop2.7/examples/src/main/r/ml/svmLinear.R\n",
            "spark-3.0.2-bin-hadoop2.7/examples/src/main/r/ml/survreg.R\n",
            "spark-3.0.2-bin-hadoop2.7/examples/src/main/r/ml/randomForest.R\n",
            "spark-3.0.2-bin-hadoop2.7/examples/src/main/r/ml/prefixSpan.R\n",
            "spark-3.0.2-bin-hadoop2.7/examples/src/main/r/ml/powerIterationClustering.R\n",
            "spark-3.0.2-bin-hadoop2.7/examples/src/main/r/ml/naiveBayes.R\n",
            "spark-3.0.2-bin-hadoop2.7/examples/src/main/r/ml/mlp.R\n",
            "spark-3.0.2-bin-hadoop2.7/examples/src/main/r/ml/ml.R\n",
            "spark-3.0.2-bin-hadoop2.7/examples/src/main/r/ml/logit.R\n",
            "spark-3.0.2-bin-hadoop2.7/examples/src/main/r/ml/lda.R\n",
            "spark-3.0.2-bin-hadoop2.7/examples/src/main/r/ml/kstest.R\n",
            "spark-3.0.2-bin-hadoop2.7/examples/src/main/r/ml/kmeans.R\n",
            "spark-3.0.2-bin-hadoop2.7/examples/src/main/r/ml/isoreg.R\n",
            "spark-3.0.2-bin-hadoop2.7/examples/src/main/r/ml/glm.R\n",
            "spark-3.0.2-bin-hadoop2.7/examples/src/main/r/ml/gbt.R\n",
            "spark-3.0.2-bin-hadoop2.7/examples/src/main/r/ml/gaussianMixture.R\n",
            "spark-3.0.2-bin-hadoop2.7/examples/src/main/r/ml/fpm.R\n",
            "spark-3.0.2-bin-hadoop2.7/examples/src/main/r/ml/decisionTree.R\n",
            "spark-3.0.2-bin-hadoop2.7/examples/src/main/r/ml/bisectingKmeans.R\n",
            "spark-3.0.2-bin-hadoop2.7/examples/src/main/r/ml/als.R\n",
            "spark-3.0.2-bin-hadoop2.7/examples/src/main/r/dataframe.R\n",
            "spark-3.0.2-bin-hadoop2.7/examples/src/main/r/data-manipulation.R\n",
            "spark-3.0.2-bin-hadoop2.7/examples/jars/\n",
            "spark-3.0.2-bin-hadoop2.7/examples/jars/spark-examples_2.12-3.0.2.jar\n",
            "spark-3.0.2-bin-hadoop2.7/examples/jars/scopt_2.12-3.7.1.jar\n",
            "spark-3.0.2-bin-hadoop2.7/kubernetes/\n",
            "spark-3.0.2-bin-hadoop2.7/kubernetes/tests/\n",
            "spark-3.0.2-bin-hadoop2.7/kubernetes/tests/worker_memory_check.py\n",
            "spark-3.0.2-bin-hadoop2.7/kubernetes/tests/pyfiles.py\n",
            "spark-3.0.2-bin-hadoop2.7/kubernetes/tests/py_container_checks.py\n",
            "spark-3.0.2-bin-hadoop2.7/kubernetes/dockerfiles/\n",
            "spark-3.0.2-bin-hadoop2.7/kubernetes/dockerfiles/spark/\n",
            "spark-3.0.2-bin-hadoop2.7/kubernetes/dockerfiles/spark/bindings/\n",
            "spark-3.0.2-bin-hadoop2.7/kubernetes/dockerfiles/spark/bindings/python/\n",
            "spark-3.0.2-bin-hadoop2.7/kubernetes/dockerfiles/spark/bindings/python/Dockerfile\n",
            "spark-3.0.2-bin-hadoop2.7/kubernetes/dockerfiles/spark/bindings/R/\n",
            "spark-3.0.2-bin-hadoop2.7/kubernetes/dockerfiles/spark/bindings/R/Dockerfile\n",
            "spark-3.0.2-bin-hadoop2.7/kubernetes/dockerfiles/spark/entrypoint.sh\n",
            "spark-3.0.2-bin-hadoop2.7/kubernetes/dockerfiles/spark/Dockerfile\n",
            "spark-3.0.2-bin-hadoop2.7/yarn/\n",
            "spark-3.0.2-bin-hadoop2.7/yarn/spark-3.0.2-yarn-shuffle.jar\n",
            "spark-3.0.2-bin-hadoop2.7/jars/\n",
            "spark-3.0.2-bin-hadoop2.7/jars/zstd-jni-1.4.4-3.jar\n",
            "spark-3.0.2-bin-hadoop2.7/jars/zookeeper-3.4.14.jar\n",
            "spark-3.0.2-bin-hadoop2.7/jars/zjsonpatch-0.3.0.jar\n",
            "spark-3.0.2-bin-hadoop2.7/jars/xz-1.5.jar\n",
            "spark-3.0.2-bin-hadoop2.7/jars/xmlenc-0.52.jar\n",
            "spark-3.0.2-bin-hadoop2.7/jars/xml-apis-1.4.01.jar\n",
            "spark-3.0.2-bin-hadoop2.7/jars/xercesImpl-2.12.0.jar\n",
            "spark-3.0.2-bin-hadoop2.7/jars/xbean-asm7-shaded-4.15.jar\n",
            "spark-3.0.2-bin-hadoop2.7/jars/velocity-1.5.jar\n",
            "spark-3.0.2-bin-hadoop2.7/jars/univocity-parsers-2.9.0.jar\n",
            "spark-3.0.2-bin-hadoop2.7/jars/transaction-api-1.1.jar\n",
            "spark-3.0.2-bin-hadoop2.7/jars/threeten-extra-1.5.0.jar\n",
            "spark-3.0.2-bin-hadoop2.7/jars/super-csv-2.2.0.jar\n",
            "spark-3.0.2-bin-hadoop2.7/jars/stream-2.9.6.jar\n",
            "spark-3.0.2-bin-hadoop2.7/jars/stax-api-1.0.1.jar\n",
            "spark-3.0.2-bin-hadoop2.7/jars/stax-api-1.0-2.jar\n",
            "spark-3.0.2-bin-hadoop2.7/jars/spire_2.12-0.17.0-M1.jar\n",
            "spark-3.0.2-bin-hadoop2.7/jars/spire-util_2.12-0.17.0-M1.jar\n",
            "spark-3.0.2-bin-hadoop2.7/jars/spire-platform_2.12-0.17.0-M1.jar\n",
            "spark-3.0.2-bin-hadoop2.7/jars/spire-macros_2.12-0.17.0-M1.jar\n",
            "spark-3.0.2-bin-hadoop2.7/jars/spark-yarn_2.12-3.0.2.jar\n",
            "spark-3.0.2-bin-hadoop2.7/jars/spark-unsafe_2.12-3.0.2.jar\n",
            "spark-3.0.2-bin-hadoop2.7/jars/spark-tags_2.12-3.0.2.jar\n",
            "spark-3.0.2-bin-hadoop2.7/jars/spark-tags_2.12-3.0.2-tests.jar\n",
            "spark-3.0.2-bin-hadoop2.7/jars/spark-streaming_2.12-3.0.2.jar\n",
            "spark-3.0.2-bin-hadoop2.7/jars/spark-sql_2.12-3.0.2.jar\n",
            "spark-3.0.2-bin-hadoop2.7/jars/spark-sketch_2.12-3.0.2.jar\n",
            "spark-3.0.2-bin-hadoop2.7/jars/spark-repl_2.12-3.0.2.jar\n",
            "spark-3.0.2-bin-hadoop2.7/jars/spark-network-shuffle_2.12-3.0.2.jar\n",
            "spark-3.0.2-bin-hadoop2.7/jars/spark-network-common_2.12-3.0.2.jar\n",
            "spark-3.0.2-bin-hadoop2.7/jars/spark-mllib_2.12-3.0.2.jar\n",
            "spark-3.0.2-bin-hadoop2.7/jars/spark-mllib-local_2.12-3.0.2.jar\n",
            "spark-3.0.2-bin-hadoop2.7/jars/spark-mesos_2.12-3.0.2.jar\n",
            "spark-3.0.2-bin-hadoop2.7/jars/spark-launcher_2.12-3.0.2.jar\n",
            "spark-3.0.2-bin-hadoop2.7/jars/spark-kvstore_2.12-3.0.2.jar\n",
            "spark-3.0.2-bin-hadoop2.7/jars/spark-kubernetes_2.12-3.0.2.jar\n",
            "spark-3.0.2-bin-hadoop2.7/jars/spark-hive_2.12-3.0.2.jar\n",
            "spark-3.0.2-bin-hadoop2.7/jars/spark-hive-thriftserver_2.12-3.0.2.jar\n",
            "spark-3.0.2-bin-hadoop2.7/jars/spark-graphx_2.12-3.0.2.jar\n",
            "spark-3.0.2-bin-hadoop2.7/jars/spark-core_2.12-3.0.2.jar\n",
            "spark-3.0.2-bin-hadoop2.7/jars/scala-reflect-2.12.10.jar\n",
            "spark-3.0.2-bin-hadoop2.7/jars/scala-parser-combinators_2.12-1.1.2.jar\n",
            "spark-3.0.2-bin-hadoop2.7/jars/scala-library-2.12.10.jar\n",
            "spark-3.0.2-bin-hadoop2.7/jars/scala-compiler-2.12.10.jar\n",
            "spark-3.0.2-bin-hadoop2.7/jars/scala-collection-compat_2.12-2.1.1.jar\n",
            "spark-3.0.2-bin-hadoop2.7/jars/pyrolite-4.30.jar\n",
            "spark-3.0.2-bin-hadoop2.7/jars/py4j-0.10.9.jar\n",
            "spark-3.0.2-bin-hadoop2.7/jars/protobuf-java-2.5.0.jar\n",
            "spark-3.0.2-bin-hadoop2.7/jars/parquet-jackson-1.10.1.jar\n",
            "spark-3.0.2-bin-hadoop2.7/jars/parquet-hadoop-1.10.1.jar\n",
            "spark-3.0.2-bin-hadoop2.7/jars/parquet-format-2.4.0.jar\n",
            "spark-3.0.2-bin-hadoop2.7/jars/parquet-encoding-1.10.1.jar\n",
            "spark-3.0.2-bin-hadoop2.7/jars/parquet-common-1.10.1.jar\n",
            "spark-3.0.2-bin-hadoop2.7/jars/parquet-column-1.10.1.jar\n",
            "spark-3.0.2-bin-hadoop2.7/jars/paranamer-2.8.jar\n",
            "spark-3.0.2-bin-hadoop2.7/jars/osgi-resource-locator-1.0.3.jar\n",
            "spark-3.0.2-bin-hadoop2.7/jars/oro-2.0.8.jar\n",
            "spark-3.0.2-bin-hadoop2.7/jars/orc-shims-1.5.10.jar\n",
            "spark-3.0.2-bin-hadoop2.7/jars/orc-mapreduce-1.5.10.jar\n",
            "spark-3.0.2-bin-hadoop2.7/jars/orc-core-1.5.10.jar\n",
            "spark-3.0.2-bin-hadoop2.7/jars/opencsv-2.3.jar\n",
            "spark-3.0.2-bin-hadoop2.7/jars/okio-1.15.0.jar\n",
            "spark-3.0.2-bin-hadoop2.7/jars/okhttp-3.12.6.jar\n",
            "spark-3.0.2-bin-hadoop2.7/jars/objenesis-2.5.1.jar\n",
            "spark-3.0.2-bin-hadoop2.7/jars/netty-all-4.1.47.Final.jar\n",
            "spark-3.0.2-bin-hadoop2.7/jars/minlog-1.3.0.jar\n",
            "spark-3.0.2-bin-hadoop2.7/jars/metrics-jvm-4.1.1.jar\n",
            "spark-3.0.2-bin-hadoop2.7/jars/metrics-json-4.1.1.jar\n",
            "spark-3.0.2-bin-hadoop2.7/jars/metrics-jmx-4.1.1.jar\n",
            "spark-3.0.2-bin-hadoop2.7/jars/metrics-graphite-4.1.1.jar\n",
            "spark-3.0.2-bin-hadoop2.7/jars/metrics-core-4.1.1.jar\n",
            "spark-3.0.2-bin-hadoop2.7/jars/mesos-1.4.0-shaded-protobuf.jar\n",
            "spark-3.0.2-bin-hadoop2.7/jars/macro-compat_2.12-1.1.1.jar\n",
            "spark-3.0.2-bin-hadoop2.7/jars/machinist_2.12-0.6.8.jar\n",
            "spark-3.0.2-bin-hadoop2.7/jars/lz4-java-1.7.1.jar\n",
            "spark-3.0.2-bin-hadoop2.7/jars/logging-interceptor-3.12.6.jar\n",
            "spark-3.0.2-bin-hadoop2.7/jars/log4j-1.2.17.jar\n",
            "spark-3.0.2-bin-hadoop2.7/jars/libthrift-0.12.0.jar\n",
            "spark-3.0.2-bin-hadoop2.7/jars/libfb303-0.9.3.jar\n",
            "spark-3.0.2-bin-hadoop2.7/jars/leveldbjni-all-1.8.jar\n",
            "spark-3.0.2-bin-hadoop2.7/jars/kubernetes-model-common-4.9.2.jar\n",
            "spark-3.0.2-bin-hadoop2.7/jars/kubernetes-model-4.9.2.jar\n",
            "spark-3.0.2-bin-hadoop2.7/jars/kubernetes-client-4.9.2.jar\n",
            "spark-3.0.2-bin-hadoop2.7/jars/kryo-shaded-4.0.2.jar\n",
            "spark-3.0.2-bin-hadoop2.7/jars/jul-to-slf4j-1.7.30.jar\n",
            "spark-3.0.2-bin-hadoop2.7/jars/jta-1.1.jar\n",
            "spark-3.0.2-bin-hadoop2.7/jars/jsr305-3.0.0.jar\n",
            "spark-3.0.2-bin-hadoop2.7/jars/jsp-api-2.1.jar\n",
            "spark-3.0.2-bin-hadoop2.7/jars/json4s-scalap_2.12-3.6.6.jar\n",
            "spark-3.0.2-bin-hadoop2.7/jars/json4s-jackson_2.12-3.6.6.jar\n",
            "spark-3.0.2-bin-hadoop2.7/jars/json4s-core_2.12-3.6.6.jar\n",
            "spark-3.0.2-bin-hadoop2.7/jars/json4s-ast_2.12-3.6.6.jar\n",
            "spark-3.0.2-bin-hadoop2.7/jars/json-1.8.jar\n",
            "spark-3.0.2-bin-hadoop2.7/jars/jpam-1.1.jar\n",
            "spark-3.0.2-bin-hadoop2.7/jars/jodd-core-3.5.2.jar\n",
            "spark-3.0.2-bin-hadoop2.7/jars/joda-time-2.10.5.jar\n",
            "spark-3.0.2-bin-hadoop2.7/jars/jline-2.14.6.jar\n",
            "spark-3.0.2-bin-hadoop2.7/jars/jetty-util-6.1.26.jar\n",
            "spark-3.0.2-bin-hadoop2.7/jars/jetty-sslengine-6.1.26.jar\n",
            "spark-3.0.2-bin-hadoop2.7/jars/jetty-6.1.26.jar\n",
            "spark-3.0.2-bin-hadoop2.7/jars/jersey-server-2.30.jar\n",
            "spark-3.0.2-bin-hadoop2.7/jars/jersey-media-jaxb-2.30.jar\n",
            "spark-3.0.2-bin-hadoop2.7/jars/jersey-hk2-2.30.jar\n",
            "spark-3.0.2-bin-hadoop2.7/jars/jersey-container-servlet-core-2.30.jar\n",
            "spark-3.0.2-bin-hadoop2.7/jars/jersey-container-servlet-2.30.jar\n",
            "spark-3.0.2-bin-hadoop2.7/jars/jersey-common-2.30.jar\n",
            "spark-3.0.2-bin-hadoop2.7/jars/jersey-client-2.30.jar\n",
            "spark-3.0.2-bin-hadoop2.7/jars/jdo-api-3.0.1.jar\n",
            "spark-3.0.2-bin-hadoop2.7/jars/jcl-over-slf4j-1.7.30.jar\n",
            "spark-3.0.2-bin-hadoop2.7/jars/jaxb-runtime-2.3.2.jar\n",
            "spark-3.0.2-bin-hadoop2.7/jars/jaxb-api-2.2.2.jar\n",
            "spark-3.0.2-bin-hadoop2.7/jars/javolution-5.5.1.jar\n",
            "spark-3.0.2-bin-hadoop2.7/jars/javax.servlet-api-3.1.0.jar\n",
            "spark-3.0.2-bin-hadoop2.7/jars/javax.jdo-3.2.0-m3.jar\n",
            "spark-3.0.2-bin-hadoop2.7/jars/javax.inject-1.jar\n",
            "spark-3.0.2-bin-hadoop2.7/jars/javassist-3.25.0-GA.jar\n",
            "spark-3.0.2-bin-hadoop2.7/jars/janino-3.0.16.jar\n",
            "spark-3.0.2-bin-hadoop2.7/jars/jakarta.xml.bind-api-2.3.2.jar\n",
            "spark-3.0.2-bin-hadoop2.7/jars/jakarta.ws.rs-api-2.1.6.jar\n",
            "spark-3.0.2-bin-hadoop2.7/jars/jakarta.validation-api-2.0.2.jar\n",
            "spark-3.0.2-bin-hadoop2.7/jars/jakarta.inject-2.6.1.jar\n",
            "spark-3.0.2-bin-hadoop2.7/jars/jakarta.annotation-api-1.3.5.jar\n",
            "spark-3.0.2-bin-hadoop2.7/jars/jakarta.activation-api-1.2.1.jar\n",
            "spark-3.0.2-bin-hadoop2.7/jars/jackson-xc-1.9.13.jar\n",
            "spark-3.0.2-bin-hadoop2.7/jars/jackson-module-scala_2.12-2.10.0.jar\n",
            "spark-3.0.2-bin-hadoop2.7/jars/jackson-module-paranamer-2.10.0.jar\n",
            "spark-3.0.2-bin-hadoop2.7/jars/jackson-module-jaxb-annotations-2.10.0.jar\n",
            "spark-3.0.2-bin-hadoop2.7/jars/jackson-mapper-asl-1.9.13.jar\n",
            "spark-3.0.2-bin-hadoop2.7/jars/jackson-jaxrs-1.9.13.jar\n",
            "spark-3.0.2-bin-hadoop2.7/jars/jackson-datatype-jsr310-2.10.3.jar\n",
            "spark-3.0.2-bin-hadoop2.7/jars/jackson-dataformat-yaml-2.10.0.jar\n",
            "spark-3.0.2-bin-hadoop2.7/jars/jackson-databind-2.10.0.jar\n",
            "spark-3.0.2-bin-hadoop2.7/jars/jackson-core-asl-1.9.13.jar\n",
            "spark-3.0.2-bin-hadoop2.7/jars/jackson-core-2.10.0.jar\n",
            "spark-3.0.2-bin-hadoop2.7/jars/jackson-annotations-2.10.0.jar\n",
            "spark-3.0.2-bin-hadoop2.7/jars/ivy-2.4.0.jar\n",
            "spark-3.0.2-bin-hadoop2.7/jars/istack-commons-runtime-3.0.8.jar\n",
            "spark-3.0.2-bin-hadoop2.7/jars/httpcore-4.4.12.jar\n",
            "spark-3.0.2-bin-hadoop2.7/jars/httpclient-4.5.6.jar\n",
            "spark-3.0.2-bin-hadoop2.7/jars/htrace-core-3.1.0-incubating.jar\n",
            "spark-3.0.2-bin-hadoop2.7/jars/hk2-utils-2.6.1.jar\n",
            "spark-3.0.2-bin-hadoop2.7/jars/hk2-locator-2.6.1.jar\n",
            "spark-3.0.2-bin-hadoop2.7/jars/hk2-api-2.6.1.jar\n",
            "spark-3.0.2-bin-hadoop2.7/jars/hive-vector-code-gen-2.3.7.jar\n",
            "spark-3.0.2-bin-hadoop2.7/jars/hive-storage-api-2.7.1.jar\n",
            "spark-3.0.2-bin-hadoop2.7/jars/hive-shims-scheduler-2.3.7.jar\n",
            "spark-3.0.2-bin-hadoop2.7/jars/hive-shims-common-2.3.7.jar\n",
            "spark-3.0.2-bin-hadoop2.7/jars/hive-shims-2.3.7.jar\n",
            "spark-3.0.2-bin-hadoop2.7/jars/hive-shims-0.23-2.3.7.jar\n",
            "spark-3.0.2-bin-hadoop2.7/jars/hive-serde-2.3.7.jar\n",
            "spark-3.0.2-bin-hadoop2.7/jars/hive-metastore-2.3.7.jar\n",
            "spark-3.0.2-bin-hadoop2.7/jars/hive-llap-common-2.3.7.jar\n",
            "spark-3.0.2-bin-hadoop2.7/jars/hive-jdbc-2.3.7.jar\n",
            "spark-3.0.2-bin-hadoop2.7/jars/hive-exec-2.3.7-core.jar\n",
            "spark-3.0.2-bin-hadoop2.7/jars/hive-common-2.3.7.jar\n",
            "spark-3.0.2-bin-hadoop2.7/jars/hive-cli-2.3.7.jar\n",
            "spark-3.0.2-bin-hadoop2.7/jars/hive-beeline-2.3.7.jar\n",
            "spark-3.0.2-bin-hadoop2.7/jars/hadoop-yarn-server-web-proxy-2.7.4.jar\n",
            "spark-3.0.2-bin-hadoop2.7/jars/hadoop-yarn-server-common-2.7.4.jar\n",
            "spark-3.0.2-bin-hadoop2.7/jars/hadoop-yarn-common-2.7.4.jar\n",
            "spark-3.0.2-bin-hadoop2.7/jars/hadoop-yarn-client-2.7.4.jar\n",
            "spark-3.0.2-bin-hadoop2.7/jars/hadoop-yarn-api-2.7.4.jar\n",
            "spark-3.0.2-bin-hadoop2.7/jars/hadoop-mapreduce-client-shuffle-2.7.4.jar\n",
            "spark-3.0.2-bin-hadoop2.7/jars/hadoop-mapreduce-client-jobclient-2.7.4.jar\n",
            "spark-3.0.2-bin-hadoop2.7/jars/hadoop-mapreduce-client-core-2.7.4.jar\n",
            "spark-3.0.2-bin-hadoop2.7/jars/hadoop-mapreduce-client-common-2.7.4.jar\n",
            "spark-3.0.2-bin-hadoop2.7/jars/hadoop-mapreduce-client-app-2.7.4.jar\n",
            "spark-3.0.2-bin-hadoop2.7/jars/hadoop-hdfs-2.7.4.jar\n",
            "spark-3.0.2-bin-hadoop2.7/jars/hadoop-common-2.7.4.jar\n",
            "spark-3.0.2-bin-hadoop2.7/jars/hadoop-client-2.7.4.jar\n",
            "spark-3.0.2-bin-hadoop2.7/jars/hadoop-auth-2.7.4.jar\n",
            "spark-3.0.2-bin-hadoop2.7/jars/hadoop-annotations-2.7.4.jar\n",
            "spark-3.0.2-bin-hadoop2.7/jars/guice-servlet-3.0.jar\n",
            "spark-3.0.2-bin-hadoop2.7/jars/guice-3.0.jar\n",
            "spark-3.0.2-bin-hadoop2.7/jars/guava-14.0.1.jar\n",
            "spark-3.0.2-bin-hadoop2.7/jars/gson-2.2.4.jar\n",
            "spark-3.0.2-bin-hadoop2.7/jars/generex-1.0.2.jar\n",
            "spark-3.0.2-bin-hadoop2.7/jars/flatbuffers-java-1.9.0.jar\n",
            "spark-3.0.2-bin-hadoop2.7/jars/dropwizard-metrics-hadoop-metrics2-reporter-0.1.2.jar\n",
            "spark-3.0.2-bin-hadoop2.7/jars/derby-10.12.1.1.jar\n",
            "spark-3.0.2-bin-hadoop2.7/jars/datanucleus-rdbms-4.1.19.jar\n",
            "spark-3.0.2-bin-hadoop2.7/jars/datanucleus-core-4.1.17.jar\n",
            "spark-3.0.2-bin-hadoop2.7/jars/datanucleus-api-jdo-4.2.4.jar\n",
            "spark-3.0.2-bin-hadoop2.7/jars/curator-recipes-2.7.1.jar\n",
            "spark-3.0.2-bin-hadoop2.7/jars/curator-framework-2.7.1.jar\n",
            "spark-3.0.2-bin-hadoop2.7/jars/curator-client-2.7.1.jar\n",
            "spark-3.0.2-bin-hadoop2.7/jars/core-1.1.2.jar\n",
            "spark-3.0.2-bin-hadoop2.7/jars/compress-lzf-1.0.3.jar\n",
            "spark-3.0.2-bin-hadoop2.7/jars/commons-text-1.6.jar\n",
            "spark-3.0.2-bin-hadoop2.7/jars/commons-pool-1.5.4.jar\n",
            "spark-3.0.2-bin-hadoop2.7/jars/commons-net-3.1.jar\n",
            "spark-3.0.2-bin-hadoop2.7/jars/commons-math3-3.4.1.jar\n",
            "spark-3.0.2-bin-hadoop2.7/jars/commons-logging-1.1.3.jar\n",
            "spark-3.0.2-bin-hadoop2.7/jars/commons-lang3-3.9.jar\n",
            "spark-3.0.2-bin-hadoop2.7/jars/commons-lang-2.6.jar\n",
            "spark-3.0.2-bin-hadoop2.7/jars/commons-io-2.4.jar\n",
            "spark-3.0.2-bin-hadoop2.7/jars/commons-httpclient-3.1.jar\n",
            "spark-3.0.2-bin-hadoop2.7/jars/commons-digester-1.8.jar\n",
            "spark-3.0.2-bin-hadoop2.7/jars/commons-dbcp-1.4.jar\n",
            "spark-3.0.2-bin-hadoop2.7/jars/commons-crypto-1.1.0.jar\n",
            "spark-3.0.2-bin-hadoop2.7/jars/commons-configuration-1.6.jar\n",
            "spark-3.0.2-bin-hadoop2.7/jars/commons-compress-1.20.jar\n",
            "spark-3.0.2-bin-hadoop2.7/jars/commons-compiler-3.0.16.jar\n",
            "spark-3.0.2-bin-hadoop2.7/jars/commons-collections-3.2.2.jar\n",
            "spark-3.0.2-bin-hadoop2.7/jars/commons-codec-1.10.jar\n",
            "spark-3.0.2-bin-hadoop2.7/jars/commons-cli-1.2.jar\n",
            "spark-3.0.2-bin-hadoop2.7/jars/commons-beanutils-1.9.4.jar\n",
            "spark-3.0.2-bin-hadoop2.7/jars/chill_2.12-0.9.5.jar\n",
            "spark-3.0.2-bin-hadoop2.7/jars/chill-java-0.9.5.jar\n",
            "spark-3.0.2-bin-hadoop2.7/jars/cats-kernel_2.12-2.0.0-M4.jar\n",
            "spark-3.0.2-bin-hadoop2.7/jars/breeze_2.12-1.0.jar\n",
            "spark-3.0.2-bin-hadoop2.7/jars/breeze-macros_2.12-1.0.jar\n",
            "spark-3.0.2-bin-hadoop2.7/jars/bonecp-0.8.0.RELEASE.jar\n",
            "spark-3.0.2-bin-hadoop2.7/jars/avro-mapred-1.8.2-hadoop2.jar\n",
            "spark-3.0.2-bin-hadoop2.7/jars/avro-ipc-1.8.2.jar\n",
            "spark-3.0.2-bin-hadoop2.7/jars/avro-1.8.2.jar\n",
            "spark-3.0.2-bin-hadoop2.7/jars/automaton-1.11-8.jar\n",
            "spark-3.0.2-bin-hadoop2.7/jars/audience-annotations-0.5.0.jar\n",
            "spark-3.0.2-bin-hadoop2.7/jars/arrow-vector-0.15.1.jar\n",
            "spark-3.0.2-bin-hadoop2.7/jars/arrow-memory-0.15.1.jar\n",
            "spark-3.0.2-bin-hadoop2.7/jars/arrow-format-0.15.1.jar\n",
            "spark-3.0.2-bin-hadoop2.7/jars/arpack_combined_all-0.1.jar\n",
            "spark-3.0.2-bin-hadoop2.7/jars/api-util-1.0.0-M20.jar\n",
            "spark-3.0.2-bin-hadoop2.7/jars/api-asn1-api-1.0.0-M20.jar\n",
            "spark-3.0.2-bin-hadoop2.7/jars/apacheds-kerberos-codec-2.0.0-M15.jar\n",
            "spark-3.0.2-bin-hadoop2.7/jars/apacheds-i18n-2.0.0-M15.jar\n",
            "spark-3.0.2-bin-hadoop2.7/jars/aopalliance-repackaged-2.6.1.jar\n",
            "spark-3.0.2-bin-hadoop2.7/jars/aopalliance-1.0.jar\n",
            "spark-3.0.2-bin-hadoop2.7/jars/antlr4-runtime-4.7.1.jar\n",
            "spark-3.0.2-bin-hadoop2.7/jars/antlr-runtime-3.5.2.jar\n",
            "spark-3.0.2-bin-hadoop2.7/jars/algebra_2.12-2.0.0-M2.jar\n",
            "spark-3.0.2-bin-hadoop2.7/jars/aircompressor-0.10.jar\n",
            "spark-3.0.2-bin-hadoop2.7/jars/activation-1.1.1.jar\n",
            "spark-3.0.2-bin-hadoop2.7/jars/ST4-4.0.4.jar\n",
            "spark-3.0.2-bin-hadoop2.7/jars/RoaringBitmap-0.7.45.jar\n",
            "spark-3.0.2-bin-hadoop2.7/jars/JTransforms-3.1.jar\n",
            "spark-3.0.2-bin-hadoop2.7/jars/JLargeArrays-1.5.jar\n",
            "spark-3.0.2-bin-hadoop2.7/jars/HikariCP-2.5.1.jar\n",
            "spark-3.0.2-bin-hadoop2.7/jars/spark-catalyst_2.12-3.0.2.jar\n",
            "spark-3.0.2-bin-hadoop2.7/jars/snappy-java-1.1.8.2.jar\n",
            "spark-3.0.2-bin-hadoop2.7/jars/snakeyaml-1.24.jar\n",
            "spark-3.0.2-bin-hadoop2.7/jars/slf4j-log4j12-1.7.30.jar\n",
            "spark-3.0.2-bin-hadoop2.7/jars/slf4j-api-1.7.30.jar\n",
            "spark-3.0.2-bin-hadoop2.7/jars/shims-0.7.45.jar\n",
            "spark-3.0.2-bin-hadoop2.7/jars/shapeless_2.12-2.3.3.jar\n",
            "spark-3.0.2-bin-hadoop2.7/jars/scala-xml_2.12-1.2.0.jar\n",
            "spark-3.0.2-bin-hadoop2.7/RELEASE\n"
          ],
          "name": "stdout"
        }
      ]
    },
    {
      "cell_type": "code",
      "metadata": {
        "id": "UQ6pw7BCd6ZD",
        "colab": {
          "base_uri": "https://localhost:8080/"
        },
        "outputId": "db39ba6e-cf54-487d-d77e-a34726c75e45"
      },
      "source": [
        "!pip install findspark\n",
        "import findspark\n",
        "findspark.init()\n",
        "from pyspark.sql import SparkSession\n",
        "from pyspark.sql import SQLContext"
      ],
      "execution_count": 9,
      "outputs": [
        {
          "output_type": "stream",
          "text": [
            "Requirement already satisfied: findspark in /usr/local/lib/python3.7/dist-packages (1.4.2)\n"
          ],
          "name": "stdout"
        }
      ]
    },
    {
      "cell_type": "code",
      "metadata": {
        "id": "XcuYCycHd6pt"
      },
      "source": [
        "from pyspark.sql import Row\n",
        "from pyspark.sql import functions as F\n",
        "from pyspark.sql.types import *"
      ],
      "execution_count": 10,
      "outputs": []
    },
    {
      "cell_type": "markdown",
      "metadata": {
        "id": "SioNZaqRFech"
      },
      "source": [
        "## Create Spark Session"
      ]
    },
    {
      "cell_type": "code",
      "metadata": {
        "id": "PcuOeKokd64E"
      },
      "source": [
        "# sc = SparkContext() #.getOrCreate(SparkConf().setMaster(\"local[*]\"))\n",
        "spark = SparkSession.builder.master(\"local[*]\").getOrCreate()\n",
        "# spark = SparkSession(sc)\n",
        "sc = spark.sparkContext\n",
        "sqlContext = SQLContext(spark)"
      ],
      "execution_count": 11,
      "outputs": []
    },
    {
      "cell_type": "code",
      "metadata": {
        "id": "2aeWvnjud7Ew"
      },
      "source": [
        "# !wget https://bin.equinox.io/c/4VmDzA7iaHb/ngrok-stable-linux-amd64.zip\n",
        "# !unzip ngrok-stable-linux-amd64.zip\n",
        "# get_ipython().system_raw('./ngrok http 4050 &')"
      ],
      "execution_count": 12,
      "outputs": []
    },
    {
      "cell_type": "code",
      "metadata": {
        "id": "W6jdtYIJd7Rs",
        "colab": {
          "base_uri": "https://localhost:8080/"
        },
        "outputId": "889839b3-70d2-4a8b-d3eb-405540e840cd"
      },
      "source": [
        "!curl -s http://localhost:4040/api/tunnels | python3 -c \"import sys, json; print(json.load(sys.stdin)['tunnels'][0]['public_url'])\""
      ],
      "execution_count": 13,
      "outputs": [
        {
          "output_type": "stream",
          "text": [
            "Traceback (most recent call last):\n",
            "  File \"<string>\", line 1, in <module>\n",
            "  File \"/usr/lib/python3.7/json/__init__.py\", line 296, in load\n",
            "    parse_constant=parse_constant, object_pairs_hook=object_pairs_hook, **kw)\n",
            "  File \"/usr/lib/python3.7/json/__init__.py\", line 348, in loads\n",
            "    return _default_decoder.decode(s)\n",
            "  File \"/usr/lib/python3.7/json/decoder.py\", line 337, in decode\n",
            "    obj, end = self.raw_decode(s, idx=_w(s, 0).end())\n",
            "  File \"/usr/lib/python3.7/json/decoder.py\", line 355, in raw_decode\n",
            "    raise JSONDecodeError(\"Expecting value\", s, err.value) from None\n",
            "json.decoder.JSONDecodeError: Expecting value: line 1 column 1 (char 0)\n"
          ],
          "name": "stdout"
        }
      ]
    },
    {
      "cell_type": "markdown",
      "metadata": {
        "id": "GtTMZLVHGShB"
      },
      "source": [
        "## Read and show df1 and df2 (columns: ID, Latitude, Longitude)"
      ]
    },
    {
      "cell_type": "code",
      "metadata": {
        "id": "nm4Re25kd7e5",
        "colab": {
          "base_uri": "https://localhost:8080/"
        },
        "outputId": "64563964-a980-42f5-d9a0-97080802a46e"
      },
      "source": [
        "# Load df1 using read.csv\n",
        "df1 = spark.read.option(\"header\", \"false\") \\\n",
        "                .option(\"delimiter\", \",\") \\\n",
        "                .option(\"inferSchema\", \"True\") \\\n",
        "                .csv(\"d1.csv\") \\\n",
        "                .select(\"_c0\", \"_c1\", \"_c2\") \\\n",
        "                .withColumnRenamed(\"_c0\", \"ID\") \\\n",
        "                .withColumnRenamed(\"_c1\", \"Latitude\") \\\n",
        "                .withColumnRenamed(\"_c2\", \"Longitude\")\n",
        "df1.show(10)\n",
        "df1.printSchema()"
      ],
      "execution_count": 14,
      "outputs": [
        {
          "output_type": "stream",
          "text": [
            "+---+-------------------+-------------------+\n",
            "| ID|           Latitude|          Longitude|\n",
            "+---+-------------------+-------------------+\n",
            "|  0|   21.9263461309501| 25.422241195019176|\n",
            "|  1|  -22.2868485328518| 15.197199539515886|\n",
            "|  2|-29.697887758641077|-14.189221916923348|\n",
            "|  3|  52.77673832881928|-28.099258529009255|\n",
            "|  4| -25.35068976170295| 2.6024248781160892|\n",
            "|  5|-11.069759602214639|   2.21065656237851|\n",
            "|  6| 28.500794067195457|-13.494439881856085|\n",
            "|  7| -22.07294544078547|  29.87677118738209|\n",
            "|  8| -19.53887734098057| 19.600774297258575|\n",
            "|  9|-15.840801828892443|-17.887087374192355|\n",
            "+---+-------------------+-------------------+\n",
            "only showing top 10 rows\n",
            "\n",
            "root\n",
            " |-- ID: integer (nullable = true)\n",
            " |-- Latitude: double (nullable = true)\n",
            " |-- Longitude: double (nullable = true)\n",
            "\n"
          ],
          "name": "stdout"
        }
      ]
    },
    {
      "cell_type": "code",
      "metadata": {
        "id": "0Iy1sbdJd8Rl",
        "colab": {
          "base_uri": "https://localhost:8080/"
        },
        "outputId": "83147214-bdc0-4918-bfa2-430c9964ad3a"
      },
      "source": [
        "# Load df2 using read.csv\n",
        "df2 = spark.read.option(\"header\", \"false\") \\\n",
        "                .option(\"delimiter\", \",\") \\\n",
        "                .option(\"inferSchema\", \"True\") \\\n",
        "                .csv(\"d2.csv\") \\\n",
        "                .select(\"_c0\", \"_c1\", \"_c2\") \\\n",
        "                .withColumnRenamed(\"_c0\", \"ID\") \\\n",
        "                .withColumnRenamed(\"_c1\", \"Latitude\") \\\n",
        "                .withColumnRenamed(\"_c2\", \"Longitude\") \n",
        "df2.show(10)\n",
        "df2.printSchema()"
      ],
      "execution_count": 15,
      "outputs": [
        {
          "output_type": "stream",
          "text": [
            "+---+-------------------+-------------------+\n",
            "| ID|           Latitude|          Longitude|\n",
            "+---+-------------------+-------------------+\n",
            "|  0| -4.495270887954263|   21.2124240949967|\n",
            "|  1|  49.81073345892369| -5.333557371388494|\n",
            "|  2| -17.92246674974931|  23.77413471595549|\n",
            "|  3| 48.364061836599106|  9.860598841058547|\n",
            "|  4| 3.0906860654247055|-22.186082896654575|\n",
            "|  5| 3.7499112914760744| -29.65711818709195|\n",
            "|  6|  52.79414454183237|-24.783432477229574|\n",
            "|  7|-2.4958321312741703|  15.08258436339711|\n",
            "|  8| 52.503293424683676| 14.370948492755524|\n",
            "|  9|-25.466367359267107|    8.1304576846264|\n",
            "+---+-------------------+-------------------+\n",
            "only showing top 10 rows\n",
            "\n",
            "root\n",
            " |-- ID: integer (nullable = true)\n",
            " |-- Latitude: double (nullable = true)\n",
            " |-- Longitude: double (nullable = true)\n",
            "\n"
          ],
          "name": "stdout"
        }
      ]
    },
    {
      "cell_type": "markdown",
      "metadata": {
        "id": "0QZjzchlIwcO"
      },
      "source": [
        "## Keep both dfs in memory"
      ]
    },
    {
      "cell_type": "code",
      "metadata": {
        "colab": {
          "base_uri": "https://localhost:8080/"
        },
        "id": "xnZRcC9KmK4D",
        "outputId": "b2230c13-4b29-4349-a5f0-73fa19016111"
      },
      "source": [
        "# Keep both dfs in memory\n",
        "df1.cache()\n",
        "df2.cache()"
      ],
      "execution_count": 16,
      "outputs": [
        {
          "output_type": "execute_result",
          "data": {
            "text/plain": [
              "DataFrame[ID: int, Latitude: double, Longitude: double]"
            ]
          },
          "metadata": {
            "tags": []
          },
          "execution_count": 16
        }
      ]
    },
    {
      "cell_type": "markdown",
      "metadata": {
        "id": "OgJj-LHMJMqA"
      },
      "source": [
        "## Find min & max of Latitude and Longitude of df1"
      ]
    },
    {
      "cell_type": "code",
      "metadata": {
        "colab": {
          "base_uri": "https://localhost:8080/"
        },
        "id": "fXcNOlyXmLLu",
        "outputId": "1acb8079-5733-4f8d-820c-e68e1dc208e3"
      },
      "source": [
        "# Find min & max Latitude and Longitude\n",
        "df1_min_lon = df1.agg({'Longitude': 'min'}).collect()[0][0]\n",
        "df1_max_lon = df1.agg({'Longitude': 'max'}).collect()[0][0]\n",
        "df1_min_lat = df1.agg({'Latitude': 'min'}).collect()[0][0]\n",
        "df1_max_lat = df1.agg({'Latitude': 'max'}).collect()[0][0]\n",
        "print(df1_max_lat, df1_max_lon, df1_min_lat, df1_min_lon)"
      ],
      "execution_count": 17,
      "outputs": [
        {
          "output_type": "stream",
          "text": [
            "67.9946852534789 29.994605173525606 -29.995459315449363 -29.99941311173951\n"
          ],
          "name": "stdout"
        }
      ]
    },
    {
      "cell_type": "markdown",
      "metadata": {
        "id": "kAyIKIQQJlOW"
      },
      "source": [
        "## Find min & max of Latitude and Longitude of df2"
      ]
    },
    {
      "cell_type": "code",
      "metadata": {
        "colab": {
          "base_uri": "https://localhost:8080/"
        },
        "id": "Ede1rSeAmLa0",
        "outputId": "17ba283c-5da5-4322-ba5b-9b90904542e2"
      },
      "source": [
        "df2_min_lon = df2.agg({'Longitude': 'min'}).collect()[0][0]\n",
        "df2_max_lon = df2.agg({'Longitude': 'max'}).collect()[0][0]\n",
        "df2_min_lat = df2.agg({'Latitude': 'min'}).collect()[0][0]\n",
        "df2_max_lat = df2.agg({'Latitude': 'max'}).collect()[0][0]\n",
        "print(df2_max_lat, df2_max_lon, df2_min_lat, df2_min_lon)"
      ],
      "execution_count": 18,
      "outputs": [
        {
          "output_type": "stream",
          "text": [
            "67.99578844382157 29.998668793421544 -29.987889808221265 -29.99585771874465\n"
          ],
          "name": "stdout"
        }
      ]
    },
    {
      "cell_type": "markdown",
      "metadata": {
        "id": "Hz0tiiYyJqOc"
      },
      "source": [
        "## Find total min & max (about both dfs) that is going to be the limits of the Grid"
      ]
    },
    {
      "cell_type": "code",
      "metadata": {
        "colab": {
          "base_uri": "https://localhost:8080/"
        },
        "id": "YZfBzWRVmLjS",
        "outputId": "115c1bcc-903c-450d-c508-3123b5a9ecee"
      },
      "source": [
        "min_lon = df1_min_lon if df1_min_lon < df2_min_lon else df2_min_lon\n",
        "max_lon = df1_max_lon + 0.00001 if df1_max_lon > df2_max_lon else df2_max_lon + 0.00001\n",
        "min_lat = df1_min_lat if df1_min_lat < df2_min_lat else df2_min_lat\n",
        "max_lat = df1_max_lat + 0.00001 if df1_max_lat > df2_max_lat else df2_max_lat + 0.00001\n",
        "print(min_lon, max_lon, min_lat, max_lat)"
      ],
      "execution_count": 19,
      "outputs": [
        {
          "output_type": "stream",
          "text": [
            "-29.99941311173951 29.998678793421544 -29.995459315449363 67.99579844382157\n"
          ],
          "name": "stdout"
        }
      ]
    },
    {
      "cell_type": "markdown",
      "metadata": {
        "id": "8GeUARPLnBtU"
      },
      "source": [
        "### User Input for the distance threshold\n"
      ]
    },
    {
      "cell_type": "code",
      "metadata": {
        "colab": {
          "base_uri": "https://localhost:8080/"
        },
        "id": "Hztj1EpMmwoS",
        "outputId": "73b9734d-ab16-432a-f581-ef0743554e55"
      },
      "source": [
        "r = float(input(\"Give the number of the distance threshold between the points: \"))"
      ],
      "execution_count": 20,
      "outputs": [
        {
          "output_type": "stream",
          "text": [
            "Give the number of the distance threshold between the points: 0.4\n"
          ],
          "name": "stdout"
        }
      ]
    },
    {
      "cell_type": "markdown",
      "metadata": {
        "id": "wAF49NS9KNMn"
      },
      "source": [
        "## Find step lon and step lat having 40 splits (dimensions of each cell)"
      ]
    },
    {
      "cell_type": "code",
      "metadata": {
        "colab": {
          "base_uri": "https://localhost:8080/"
        },
        "id": "LlthMvqkmLov",
        "outputId": "f0813eaa-3e3f-4e8e-b79e-bd128e311673"
      },
      "source": [
        "splits = 40\n",
        "step_lon = abs((max_lon - min_lon)) / splits\n",
        "step_lat = abs((max_lat - min_lat)) / splits\n",
        "print(step_lon, step_lat)"
      ],
      "execution_count": 21,
      "outputs": [
        {
          "output_type": "stream",
          "text": [
            "1.4999522976290263 2.4497814439817733\n"
          ],
          "name": "stdout"
        }
      ]
    },
    {
      "cell_type": "markdown",
      "metadata": {
        "id": "2UryNtCiLTWH"
      },
      "source": [
        "## Create DataFrame with cell_ids of points about df1"
      ]
    },
    {
      "cell_type": "code",
      "metadata": {
        "colab": {
          "base_uri": "https://localhost:8080/"
        },
        "id": "R6X5K29GmL0J",
        "outputId": "741a34ca-0d4d-45ed-86cb-661ea47a061d"
      },
      "source": [
        "df1_with_cells = df1.withColumn(\"cell_id\", F.struct( ( (df1['Longitude'] - min_lon) / step_lon).cast(\"Integer\"), \n",
        "                               ( (df1['Latitude'] - min_lat) / step_lat).cast(\"Integer\")\n",
        "                             )\n",
        "                 )\n",
        "df1_with_cells.show()"
      ],
      "execution_count": 22,
      "outputs": [
        {
          "output_type": "stream",
          "text": [
            "+---+-------------------+-------------------+--------+\n",
            "| ID|           Latitude|          Longitude| cell_id|\n",
            "+---+-------------------+-------------------+--------+\n",
            "|  0|   21.9263461309501| 25.422241195019176|[36, 21]|\n",
            "|  1|  -22.2868485328518| 15.197199539515886| [30, 3]|\n",
            "|  2|-29.697887758641077|-14.189221916923348| [10, 0]|\n",
            "|  3|  52.77673832881928|-28.099258529009255| [1, 33]|\n",
            "|  4| -25.35068976170295| 2.6024248781160892| [21, 1]|\n",
            "|  5|-11.069759602214639|   2.21065656237851| [21, 7]|\n",
            "|  6| 28.500794067195457|-13.494439881856085|[11, 23]|\n",
            "|  7| -22.07294544078547|  29.87677118738209| [39, 3]|\n",
            "|  8| -19.53887734098057| 19.600774297258575| [33, 4]|\n",
            "|  9|-15.840801828892443|-17.887087374192355|  [8, 5]|\n",
            "| 10| -26.57442774344147| -28.56823781980686|  [0, 1]|\n",
            "| 11| 12.114213465443683|  5.759582919419778|[23, 17]|\n",
            "| 12| 27.476793485818078|-13.926553536622396|[10, 23]|\n",
            "| 13|-16.400492986783238|-20.984424951728606|  [6, 5]|\n",
            "| 14| -2.639052855079523|-28.269240771453838| [1, 11]|\n",
            "| 15|-14.675059839849077|0.02079376909961539| [20, 6]|\n",
            "| 16|  9.997965531892078|-1.0943616874163418|[19, 16]|\n",
            "| 17|  23.39774800843545|-22.863904975737608| [4, 21]|\n",
            "| 18| 61.833236597675196|-16.466478246519124| [9, 37]|\n",
            "| 19| 24.535093125734086| -27.95438956172219| [1, 22]|\n",
            "+---+-------------------+-------------------+--------+\n",
            "only showing top 20 rows\n",
            "\n"
          ],
          "name": "stdout"
        }
      ]
    },
    {
      "cell_type": "markdown",
      "metadata": {
        "id": "yGfES9hJLuJa"
      },
      "source": [
        "## Create DataFrame with cell_ids of points about df2"
      ]
    },
    {
      "cell_type": "code",
      "metadata": {
        "colab": {
          "base_uri": "https://localhost:8080/"
        },
        "id": "jIfM3yJVp7bN",
        "outputId": "9add39e8-945a-4103-f8c0-dd6b4d4a3501"
      },
      "source": [
        "df2_with_cells = df2.withColumn(\"cell_id\", F.struct( ( (df2['Longitude'] - min_lon) / step_lon).cast(\"Integer\"), \n",
        "                               ( (df2['Latitude'] - min_lat) / step_lat).cast(\"Integer\")\n",
        "                             )\n",
        "                 )\n",
        "df2_with_cells.show()"
      ],
      "execution_count": 23,
      "outputs": [
        {
          "output_type": "stream",
          "text": [
            "+---+-------------------+-------------------+--------+\n",
            "| ID|           Latitude|          Longitude| cell_id|\n",
            "+---+-------------------+-------------------+--------+\n",
            "|  0| -4.495270887954263|   21.2124240949967|[34, 10]|\n",
            "|  1|  49.81073345892369| -5.333557371388494|[16, 32]|\n",
            "|  2| -17.92246674974931|  23.77413471595549| [35, 4]|\n",
            "|  3| 48.364061836599106|  9.860598841058547|[26, 31]|\n",
            "|  4| 3.0906860654247055|-22.186082896654575| [5, 13]|\n",
            "|  5| 3.7499112914760744| -29.65711818709195| [0, 13]|\n",
            "|  6|  52.79414454183237|-24.783432477229574| [3, 33]|\n",
            "|  7|-2.4958321312741703|  15.08258436339711|[30, 11]|\n",
            "|  8| 52.503293424683676| 14.370948492755524|[29, 33]|\n",
            "|  9|-25.466367359267107|    8.1304576846264| [25, 1]|\n",
            "| 10|-12.426023472980155| 27.751761075766538| [38, 7]|\n",
            "| 11|  3.060266358574495| -19.91508092235918| [6, 13]|\n",
            "| 12| 27.611715124660947| -23.32290727412584| [4, 23]|\n",
            "| 13|  33.31604131132125|-25.092321376918676| [3, 25]|\n",
            "| 14|-14.168327051436469|  -20.0818350891278|  [6, 6]|\n",
            "| 15|  20.17672223928654| 15.822336786468888|[30, 20]|\n",
            "| 16| 3.4202085455647833| 27.771965728636623|[38, 13]|\n",
            "| 17| -6.828255517957487|  -16.8920155537645|  [8, 9]|\n",
            "| 18|   56.4914325241308|-27.445686946190285| [1, 35]|\n",
            "| 19| -23.52237720441684| 20.664643557751432| [33, 2]|\n",
            "+---+-------------------+-------------------+--------+\n",
            "only showing top 20 rows\n",
            "\n"
          ],
          "name": "stdout"
        }
      ]
    },
    {
      "cell_type": "markdown",
      "metadata": {
        "id": "IZaGPS4XNFDN"
      },
      "source": [
        "## Function \"find_neighbors\" finds neighbor cells given cell_id"
      ]
    },
    {
      "cell_type": "code",
      "metadata": {
        "id": "RZ8sAALIp7eR"
      },
      "source": [
        "def find_neighbors(cell_id):\n",
        "    X = splits-1\n",
        "    Y = splits-1\n",
        "    c_x = cell_id[0]\n",
        "    c_y = cell_id[1]\n",
        "    neighbors = []\n",
        "    for x2 in range(c_x-1, c_x+2):\n",
        "        for y2 in range(c_y-1, c_y+2):\n",
        "           if ((0 <= c_x <= X) and\n",
        "              (0 <= c_y <= Y) and\n",
        "              (0 <= x2 <= X) and\n",
        "              (0 <= y2 <= Y) and\n",
        "              (c_x != x2 or c_y != y2)):\n",
        "                if x2 == c_x:\n",
        "                  if y2 > c_y:\n",
        "                    pos = 'T'\n",
        "                  else:\n",
        "                    pos = 'B'\n",
        "                if y2 == c_y:\n",
        "                  if x2 > c_x:\n",
        "                    pos = 'R'\n",
        "                  else: \n",
        "                    pos = 'L'\n",
        "                if x2 > c_x:\n",
        "                  if y2 > c_y:\n",
        "                    pos = 'TR'\n",
        "                  elif y2 < c_y:\n",
        "                    pos = 'BR'\n",
        "                if x2 < c_x:\n",
        "                  if y2 < c_y:\n",
        "                    pos = 'BL'\n",
        "                  elif y2 > c_y:\n",
        "                    pos = 'TL'\n",
        "                \n",
        "                neighbors.append((x2, y2, pos))\n",
        "                \n",
        "    return neighbors\n",
        "find_neighbors_udf = F.udf(find_neighbors, ArrayType(ArrayType(StringType())))"
      ],
      "execution_count": 24,
      "outputs": []
    },
    {
      "cell_type": "markdown",
      "metadata": {
        "id": "nEAsDwMLPpbU"
      },
      "source": [
        "## Create a DataFrame with extra column neighbors"
      ]
    },
    {
      "cell_type": "code",
      "metadata": {
        "colab": {
          "base_uri": "https://localhost:8080/"
        },
        "id": "LbtsGwqqp7nM",
        "outputId": "ba7d7d4b-dc34-4c65-9120-6bb0901a0918"
      },
      "source": [
        "df1_with_cells_and_n = df1_with_cells.withColumn('neighbors', find_neighbors_udf(df1_with_cells['cell_id']))\n",
        "df1_with_cells_and_n.show()"
      ],
      "execution_count": 25,
      "outputs": [
        {
          "output_type": "stream",
          "text": [
            "+---+-------------------+-------------------+--------+--------------------+\n",
            "| ID|           Latitude|          Longitude| cell_id|           neighbors|\n",
            "+---+-------------------+-------------------+--------+--------------------+\n",
            "|  0|   21.9263461309501| 25.422241195019176|[36, 21]|[[35, 20, BL], [3...|\n",
            "|  1|  -22.2868485328518| 15.197199539515886| [30, 3]|[[29, 2, BL], [29...|\n",
            "|  2|-29.697887758641077|-14.189221916923348| [10, 0]|[[9, 0, L], [9, 1...|\n",
            "|  3|  52.77673832881928|-28.099258529009255| [1, 33]|[[0, 32, BL], [0,...|\n",
            "|  4| -25.35068976170295| 2.6024248781160892| [21, 1]|[[20, 0, BL], [20...|\n",
            "|  5|-11.069759602214639|   2.21065656237851| [21, 7]|[[20, 6, BL], [20...|\n",
            "|  6| 28.500794067195457|-13.494439881856085|[11, 23]|[[10, 22, BL], [1...|\n",
            "|  7| -22.07294544078547|  29.87677118738209| [39, 3]|[[38, 2, BL], [38...|\n",
            "|  8| -19.53887734098057| 19.600774297258575| [33, 4]|[[32, 3, BL], [32...|\n",
            "|  9|-15.840801828892443|-17.887087374192355|  [8, 5]|[[7, 4, BL], [7, ...|\n",
            "| 10| -26.57442774344147| -28.56823781980686|  [0, 1]|[[0, 0, B], [0, 2...|\n",
            "| 11| 12.114213465443683|  5.759582919419778|[23, 17]|[[22, 16, BL], [2...|\n",
            "| 12| 27.476793485818078|-13.926553536622396|[10, 23]|[[9, 22, BL], [9,...|\n",
            "| 13|-16.400492986783238|-20.984424951728606|  [6, 5]|[[5, 4, BL], [5, ...|\n",
            "| 14| -2.639052855079523|-28.269240771453838| [1, 11]|[[0, 10, BL], [0,...|\n",
            "| 15|-14.675059839849077|0.02079376909961539| [20, 6]|[[19, 5, BL], [19...|\n",
            "| 16|  9.997965531892078|-1.0943616874163418|[19, 16]|[[18, 15, BL], [1...|\n",
            "| 17|  23.39774800843545|-22.863904975737608| [4, 21]|[[3, 20, BL], [3,...|\n",
            "| 18| 61.833236597675196|-16.466478246519124| [9, 37]|[[8, 36, BL], [8,...|\n",
            "| 19| 24.535093125734086| -27.95438956172219| [1, 22]|[[0, 21, BL], [0,...|\n",
            "+---+-------------------+-------------------+--------+--------------------+\n",
            "only showing top 20 rows\n",
            "\n"
          ],
          "name": "stdout"
        }
      ]
    },
    {
      "cell_type": "markdown",
      "metadata": {
        "id": "oKUSjoisRnKR"
      },
      "source": [
        "## Function \"duplicate_to\" makes copy of points that are close enough with neighbor cells"
      ]
    },
    {
      "cell_type": "code",
      "metadata": {
        "id": "qnbJ48NTp7qj"
      },
      "source": [
        "def duplicate_to(data):\n",
        "    min_lon = float(data[0])\n",
        "    max_lon = float(data[1])\n",
        "    min_lat = float(data[2])\n",
        "    max_lat = float(data[3])\n",
        "    step_lat = float(data[4])\n",
        "    step_lon = float(data[5])\n",
        "    cell_id = data[6]\n",
        "    nei = data[7]\n",
        "    x = float(data[8])\n",
        "    y = float(data[9])\n",
        "    r = float(data[10])\n",
        "\n",
        "    cell_x = cell_id[0]\n",
        "    cell_y = cell_id[1]\n",
        "\n",
        "    # Calculate current cell bounds\n",
        "    bound_u_y = min_lat + ((cell_y+1)*step_lat)\n",
        "    bound_d_y = min_lat + ((cell_y)*step_lat)\n",
        "    bound_r_x = min_lon + ((cell_x+1)*step_lon)\n",
        "    bound_l_x = min_lon + ((cell_x)*step_lon)\n",
        "\n",
        "    dupl_to = [(cell_x, cell_y)]\n",
        "    # For each neighbor...\n",
        "    for n in nei:\n",
        "        n_idx = int(n[0])\n",
        "        n_idy = int(n[1])\n",
        "        n_pos = n[2]\n",
        "        if ( n_pos == 'T' ) and ( y + r > bound_u_y ) :\n",
        "                dupl_to.append((n_idx, n_idy))\n",
        "        elif ( n_pos == 'TR' ) and (sqrt((bound_r_x-x)**2 + (bound_u_y-y)**2) < r) :\n",
        "                dupl_to.append((n_idx, n_idy))\n",
        "        elif ( n_pos == 'R' ) and ( x + r > bound_r_x ) :\n",
        "                dupl_to.append((n_idx, n_idy))\n",
        "        elif ( n_pos == 'BR' ) and (sqrt((bound_r_x-x)**2 + (bound_d_y-y)**2) < r) :\n",
        "                dupl_to.append((n_idx, n_idy))\n",
        "        elif ( n_pos == 'B' ) and ( y - r < bound_d_y) :\n",
        "                dupl_to.append((n_idx, n_idy))\n",
        "        elif ( n_pos == 'BL' ) and (sqrt((bound_l_x-x)**2 + (bound_d_y-y)**2) < r) :\n",
        "                dupl_to.append((n_idx, n_idy))\n",
        "        elif ( n_pos == 'L' ) and ( x - r < bound_l_x) :\n",
        "                dupl_to.append((n_idx, n_idy))\n",
        "        elif ( n_pos == 'TL' ) and (sqrt((bound_l_x-x)**2 + (bound_u_y-y)**2) < r) :\n",
        "                dupl_to.append((n_idx, n_idy))\n",
        "    return tuple(dupl_to)\n",
        "duplicate_to_udf = F.udf(duplicate_to, ArrayType(ArrayType(StringType())))\n",
        "\n"
      ],
      "execution_count": 26,
      "outputs": []
    },
    {
      "cell_type": "markdown",
      "metadata": {
        "id": "OAflEyloTirY"
      },
      "source": [
        "## Create DataFrame with new column with cells to duplicate to"
      ]
    },
    {
      "cell_type": "code",
      "metadata": {
        "colab": {
          "base_uri": "https://localhost:8080/"
        },
        "id": "wZm7f9K5p7ty",
        "outputId": "0db52aa5-0e8c-473e-9c92-b181b991b72e"
      },
      "source": [
        "from math import sqrt\n",
        "#r = 0.4\n",
        "\n",
        "# Create new column with the cells to duplicate to. And then, create a new row for each cell in the array\n",
        "df1_duplicates = df1_with_cells_and_n.withColumn('dupl', F.explode(duplicate_to_udf(F.struct(F.lit(min_lon),\n",
        "                                                                                       F.lit(max_lon),\n",
        "                                                                                       F.lit(min_lat),\n",
        "                                                                                       F.lit(max_lat),\n",
        "                                                                                       F.lit(step_lon),\n",
        "                                                                                       F.lit(step_lat),\n",
        "                                                                                       df1_with_cells_and_n[\"cell_id\"],\n",
        "                                                                                       df1_with_cells_and_n[\"neighbors\"],\n",
        "                                                                                       df1_with_cells_and_n[\"Longitude\"], \n",
        "                                                                                       df1_with_cells_and_n[\"Latitude\"],\n",
        "                                                                                       F.lit(r)))))\n",
        "df1_duplicates.show()"
      ],
      "execution_count": 27,
      "outputs": [
        {
          "output_type": "stream",
          "text": [
            "+---+-------------------+-------------------+--------+--------------------+--------+\n",
            "| ID|           Latitude|          Longitude| cell_id|           neighbors|    dupl|\n",
            "+---+-------------------+-------------------+--------+--------------------+--------+\n",
            "|  0|   21.9263461309501| 25.422241195019176|[36, 21]|[[35, 20, BL], [3...|[36, 21]|\n",
            "|  0|   21.9263461309501| 25.422241195019176|[36, 21]|[[35, 20, BL], [3...|[35, 21]|\n",
            "|  0|   21.9263461309501| 25.422241195019176|[36, 21]|[[35, 20, BL], [3...|[36, 22]|\n",
            "|  1|  -22.2868485328518| 15.197199539515886| [30, 3]|[[29, 2, BL], [29...| [30, 3]|\n",
            "|  1|  -22.2868485328518| 15.197199539515886| [30, 3]|[[29, 2, BL], [29...| [29, 3]|\n",
            "|  1|  -22.2868485328518| 15.197199539515886| [30, 3]|[[29, 2, BL], [29...| [30, 4]|\n",
            "|  2|-29.697887758641077|-14.189221916923348| [10, 0]|[[9, 0, L], [9, 1...| [10, 0]|\n",
            "|  2|-29.697887758641077|-14.189221916923348| [10, 0]|[[9, 0, L], [9, 1...|  [9, 0]|\n",
            "|  3|  52.77673832881928|-28.099258529009255| [1, 33]|[[0, 32, BL], [0,...| [1, 33]|\n",
            "|  3|  52.77673832881928|-28.099258529009255| [1, 33]|[[0, 32, BL], [0,...| [0, 33]|\n",
            "|  3|  52.77673832881928|-28.099258529009255| [1, 33]|[[0, 32, BL], [0,...| [1, 34]|\n",
            "|  4| -25.35068976170295| 2.6024248781160892| [21, 1]|[[20, 0, BL], [20...| [21, 1]|\n",
            "|  4| -25.35068976170295| 2.6024248781160892| [21, 1]|[[20, 0, BL], [20...| [20, 1]|\n",
            "|  4| -25.35068976170295| 2.6024248781160892| [21, 1]|[[20, 0, BL], [20...| [21, 2]|\n",
            "|  5|-11.069759602214639|   2.21065656237851| [21, 7]|[[20, 6, BL], [20...| [21, 7]|\n",
            "|  5|-11.069759602214639|   2.21065656237851| [21, 7]|[[20, 6, BL], [20...| [20, 7]|\n",
            "|  5|-11.069759602214639|   2.21065656237851| [21, 7]|[[20, 6, BL], [20...| [21, 8]|\n",
            "|  6| 28.500794067195457|-13.494439881856085|[11, 23]|[[10, 22, BL], [1...|[11, 23]|\n",
            "|  6| 28.500794067195457|-13.494439881856085|[11, 23]|[[10, 22, BL], [1...|[10, 23]|\n",
            "|  6| 28.500794067195457|-13.494439881856085|[11, 23]|[[10, 22, BL], [1...|[11, 24]|\n",
            "+---+-------------------+-------------------+--------+--------------------+--------+\n",
            "only showing top 20 rows\n",
            "\n"
          ],
          "name": "stdout"
        }
      ]
    },
    {
      "cell_type": "code",
      "metadata": {
        "colab": {
          "base_uri": "https://localhost:8080/"
        },
        "id": "UIsX-RtMcgt-",
        "outputId": "1268bfff-5c05-4337-b69f-a5cd35cbf7f8"
      },
      "source": [
        "df1_duplicates.count()\n"
      ],
      "execution_count": 28,
      "outputs": [
        {
          "output_type": "execute_result",
          "data": {
            "text/plain": [
              "29355"
            ]
          },
          "metadata": {
            "tags": []
          },
          "execution_count": 28
        }
      ]
    },
    {
      "cell_type": "code",
      "metadata": {
        "id": "TYIFV31mp7x0"
      },
      "source": [
        "df1_with_cells.createOrReplaceTempView(\"df1_with_cells\")\n",
        "df2_with_cells.createOrReplaceTempView(\"df2_with_cells\")"
      ],
      "execution_count": 29,
      "outputs": []
    },
    {
      "cell_type": "markdown",
      "metadata": {
        "id": "QZ-CCQuJUxjg"
      },
      "source": [
        "## Count the number of points that each cell_id has (about df1 after duplication)"
      ]
    },
    {
      "cell_type": "code",
      "metadata": {
        "colab": {
          "base_uri": "https://localhost:8080/"
        },
        "id": "VcgfT3owmL-l",
        "outputId": "9a09ac4f-432e-4c3e-ca80-81cb42858d42"
      },
      "source": [
        "# groupby each cell_id and count\n",
        "df1_cellid_count = df1_duplicates.groupBy(\"dupl\").count()\n",
        "df1_cellid_count.show()\n"
      ],
      "execution_count": 30,
      "outputs": [
        {
          "output_type": "stream",
          "text": [
            "+--------+-----+\n",
            "|    dupl|count|\n",
            "+--------+-----+\n",
            "| [39, 4]|    6|\n",
            "| [2, 22]|   18|\n",
            "| [5, 10]|   17|\n",
            "| [31, 3]|   17|\n",
            "|[20, 29]|   10|\n",
            "| [26, 0]|   15|\n",
            "|[28, 37]|   14|\n",
            "| [1, 38]|   17|\n",
            "|[27, 25]|   21|\n",
            "|[23, 19]|   15|\n",
            "|[37, 24]|   10|\n",
            "| [31, 7]|   13|\n",
            "| [35, 9]|   15|\n",
            "|[11, 14]|   14|\n",
            "| [10, 5]|   19|\n",
            "| [4, 29]|   12|\n",
            "|  [9, 4]|   18|\n",
            "|[14, 24]|   13|\n",
            "|[18, 15]|   12|\n",
            "| [31, 1]|   12|\n",
            "+--------+-----+\n",
            "only showing top 20 rows\n",
            "\n"
          ],
          "name": "stdout"
        }
      ]
    },
    {
      "cell_type": "markdown",
      "metadata": {
        "id": "3-8kiDx1VYub"
      },
      "source": [
        "## Count the number of points that each cell_id has (about df2)"
      ]
    },
    {
      "cell_type": "code",
      "metadata": {
        "colab": {
          "base_uri": "https://localhost:8080/"
        },
        "id": "7j4rgMhhvlCs",
        "outputId": "abc8977d-fe12-44e6-932c-4a85851b23b6"
      },
      "source": [
        "df2_cellid_count = df2_with_cells.groupBy(\"cell_id\").count()\n",
        "df2_cellid_count.show()"
      ],
      "execution_count": 31,
      "outputs": [
        {
          "output_type": "stream",
          "text": [
            "+--------+-----+\n",
            "| cell_id|count|\n",
            "+--------+-----+\n",
            "|[15, 14]|    3|\n",
            "|[15, 26]|    6|\n",
            "|[28, 16]|    8|\n",
            "|[32, 26]|    9|\n",
            "|[33, 37]|   12|\n",
            "|[39, 11]|    5|\n",
            "| [3, 22]|    6|\n",
            "|[30, 18]|    9|\n",
            "| [3, 30]|    9|\n",
            "| [33, 8]|   13|\n",
            "|[32, 27]|    5|\n",
            "|[17, 33]|    8|\n",
            "| [3, 15]|    8|\n",
            "| [10, 2]|    4|\n",
            "| [23, 6]|    4|\n",
            "|[22, 33]|    2|\n",
            "| [17, 2]|    9|\n",
            "| [7, 33]|    7|\n",
            "|[12, 37]|    9|\n",
            "| [27, 9]|    4|\n",
            "+--------+-----+\n",
            "only showing top 20 rows\n",
            "\n"
          ],
          "name": "stdout"
        }
      ]
    },
    {
      "cell_type": "markdown",
      "metadata": {
        "id": "_IM30Z8uV1Ej"
      },
      "source": [
        "## Create DataFrame with each point and the cell_id that is contained (about df1)"
      ]
    },
    {
      "cell_type": "code",
      "metadata": {
        "colab": {
          "base_uri": "https://localhost:8080/"
        },
        "id": "x4kBXJhkvlFT",
        "outputId": "0391d068-f59a-4411-bb3e-563d296c56ca"
      },
      "source": [
        "df1_duplicates2 = df1_duplicates.drop('cell_id', 'neighbors')\n",
        "final_df1 = df1_duplicates2.withColumnRenamed(\"dupl\",\"cell_id\").withColumn(\"Dataset\", F.lit(\"df1\"))\n",
        "final_df1.printSchema()\n",
        "final_df1.show()"
      ],
      "execution_count": 32,
      "outputs": [
        {
          "output_type": "stream",
          "text": [
            "root\n",
            " |-- ID: integer (nullable = true)\n",
            " |-- Latitude: double (nullable = true)\n",
            " |-- Longitude: double (nullable = true)\n",
            " |-- cell_id: array (nullable = true)\n",
            " |    |-- element: string (containsNull = true)\n",
            " |-- Dataset: string (nullable = false)\n",
            "\n",
            "+---+-------------------+-------------------+--------+-------+\n",
            "| ID|           Latitude|          Longitude| cell_id|Dataset|\n",
            "+---+-------------------+-------------------+--------+-------+\n",
            "|  0|   21.9263461309501| 25.422241195019176|[36, 21]|    df1|\n",
            "|  0|   21.9263461309501| 25.422241195019176|[35, 21]|    df1|\n",
            "|  0|   21.9263461309501| 25.422241195019176|[36, 22]|    df1|\n",
            "|  1|  -22.2868485328518| 15.197199539515886| [30, 3]|    df1|\n",
            "|  1|  -22.2868485328518| 15.197199539515886| [29, 3]|    df1|\n",
            "|  1|  -22.2868485328518| 15.197199539515886| [30, 4]|    df1|\n",
            "|  2|-29.697887758641077|-14.189221916923348| [10, 0]|    df1|\n",
            "|  2|-29.697887758641077|-14.189221916923348|  [9, 0]|    df1|\n",
            "|  3|  52.77673832881928|-28.099258529009255| [1, 33]|    df1|\n",
            "|  3|  52.77673832881928|-28.099258529009255| [0, 33]|    df1|\n",
            "|  3|  52.77673832881928|-28.099258529009255| [1, 34]|    df1|\n",
            "|  4| -25.35068976170295| 2.6024248781160892| [21, 1]|    df1|\n",
            "|  4| -25.35068976170295| 2.6024248781160892| [20, 1]|    df1|\n",
            "|  4| -25.35068976170295| 2.6024248781160892| [21, 2]|    df1|\n",
            "|  5|-11.069759602214639|   2.21065656237851| [21, 7]|    df1|\n",
            "|  5|-11.069759602214639|   2.21065656237851| [20, 7]|    df1|\n",
            "|  5|-11.069759602214639|   2.21065656237851| [21, 8]|    df1|\n",
            "|  6| 28.500794067195457|-13.494439881856085|[11, 23]|    df1|\n",
            "|  6| 28.500794067195457|-13.494439881856085|[10, 23]|    df1|\n",
            "|  6| 28.500794067195457|-13.494439881856085|[11, 24]|    df1|\n",
            "+---+-------------------+-------------------+--------+-------+\n",
            "only showing top 20 rows\n",
            "\n"
          ],
          "name": "stdout"
        }
      ]
    },
    {
      "cell_type": "markdown",
      "metadata": {
        "id": "mjAQnjh2XDpq"
      },
      "source": [
        "## Create DataFrame with each point and the cell_id that is contained (about df2)"
      ]
    },
    {
      "cell_type": "code",
      "metadata": {
        "colab": {
          "base_uri": "https://localhost:8080/"
        },
        "id": "RztGhOXGvlH3",
        "outputId": "cd2c90ba-4052-400b-83cb-b2e078aa4f0a"
      },
      "source": [
        "df2_with_cells = df2_with_cells.withColumn(\"Dataset\", F.lit(\"df2\"))\n",
        "df2_with_cells.show()\n",
        "df2_with_cells.printSchema()"
      ],
      "execution_count": 33,
      "outputs": [
        {
          "output_type": "stream",
          "text": [
            "+---+-------------------+-------------------+--------+-------+\n",
            "| ID|           Latitude|          Longitude| cell_id|Dataset|\n",
            "+---+-------------------+-------------------+--------+-------+\n",
            "|  0| -4.495270887954263|   21.2124240949967|[34, 10]|    df2|\n",
            "|  1|  49.81073345892369| -5.333557371388494|[16, 32]|    df2|\n",
            "|  2| -17.92246674974931|  23.77413471595549| [35, 4]|    df2|\n",
            "|  3| 48.364061836599106|  9.860598841058547|[26, 31]|    df2|\n",
            "|  4| 3.0906860654247055|-22.186082896654575| [5, 13]|    df2|\n",
            "|  5| 3.7499112914760744| -29.65711818709195| [0, 13]|    df2|\n",
            "|  6|  52.79414454183237|-24.783432477229574| [3, 33]|    df2|\n",
            "|  7|-2.4958321312741703|  15.08258436339711|[30, 11]|    df2|\n",
            "|  8| 52.503293424683676| 14.370948492755524|[29, 33]|    df2|\n",
            "|  9|-25.466367359267107|    8.1304576846264| [25, 1]|    df2|\n",
            "| 10|-12.426023472980155| 27.751761075766538| [38, 7]|    df2|\n",
            "| 11|  3.060266358574495| -19.91508092235918| [6, 13]|    df2|\n",
            "| 12| 27.611715124660947| -23.32290727412584| [4, 23]|    df2|\n",
            "| 13|  33.31604131132125|-25.092321376918676| [3, 25]|    df2|\n",
            "| 14|-14.168327051436469|  -20.0818350891278|  [6, 6]|    df2|\n",
            "| 15|  20.17672223928654| 15.822336786468888|[30, 20]|    df2|\n",
            "| 16| 3.4202085455647833| 27.771965728636623|[38, 13]|    df2|\n",
            "| 17| -6.828255517957487|  -16.8920155537645|  [8, 9]|    df2|\n",
            "| 18|   56.4914325241308|-27.445686946190285| [1, 35]|    df2|\n",
            "| 19| -23.52237720441684| 20.664643557751432| [33, 2]|    df2|\n",
            "+---+-------------------+-------------------+--------+-------+\n",
            "only showing top 20 rows\n",
            "\n",
            "root\n",
            " |-- ID: integer (nullable = true)\n",
            " |-- Latitude: double (nullable = true)\n",
            " |-- Longitude: double (nullable = true)\n",
            " |-- cell_id: struct (nullable = false)\n",
            " |    |-- col1: integer (nullable = true)\n",
            " |    |-- col2: integer (nullable = true)\n",
            " |-- Dataset: string (nullable = false)\n",
            "\n"
          ],
          "name": "stdout"
        }
      ]
    },
    {
      "cell_type": "code",
      "metadata": {
        "id": "-1WyhUxfxagS"
      },
      "source": [
        "df2_with_cells = df2_with_cells.withColumn(\"cell_id\", F.array(df2_with_cells[\"cell_id\"].getField(\"col1\"), df2_with_cells[\"cell_id\"].getField(\"col2\")))\n"
      ],
      "execution_count": 34,
      "outputs": []
    },
    {
      "cell_type": "markdown",
      "metadata": {
        "id": "1W7tnT46XrHl"
      },
      "source": [
        "## Create \"union_df1_df2_with_cells\" that has all points of both datasets "
      ]
    },
    {
      "cell_type": "code",
      "metadata": {
        "colab": {
          "base_uri": "https://localhost:8080/"
        },
        "id": "hQHkQqt71FJj",
        "outputId": "96e22833-a378-4813-b043-8ed71d4e5e7a"
      },
      "source": [
        "union_df1_df2_with_cells = final_df1.union(df2_with_cells)\n",
        "union_df1_df2_with_cells.show(truncate=False)"
      ],
      "execution_count": 35,
      "outputs": [
        {
          "output_type": "stream",
          "text": [
            "+---+-------------------+-------------------+--------+-------+\n",
            "|ID |Latitude           |Longitude          |cell_id |Dataset|\n",
            "+---+-------------------+-------------------+--------+-------+\n",
            "|0  |21.9263461309501   |25.422241195019176 |[36, 21]|df1    |\n",
            "|0  |21.9263461309501   |25.422241195019176 |[35, 21]|df1    |\n",
            "|0  |21.9263461309501   |25.422241195019176 |[36, 22]|df1    |\n",
            "|1  |-22.2868485328518  |15.197199539515886 |[30, 3] |df1    |\n",
            "|1  |-22.2868485328518  |15.197199539515886 |[29, 3] |df1    |\n",
            "|1  |-22.2868485328518  |15.197199539515886 |[30, 4] |df1    |\n",
            "|2  |-29.697887758641077|-14.189221916923348|[10, 0] |df1    |\n",
            "|2  |-29.697887758641077|-14.189221916923348|[9, 0]  |df1    |\n",
            "|3  |52.77673832881928  |-28.099258529009255|[1, 33] |df1    |\n",
            "|3  |52.77673832881928  |-28.099258529009255|[0, 33] |df1    |\n",
            "|3  |52.77673832881928  |-28.099258529009255|[1, 34] |df1    |\n",
            "|4  |-25.35068976170295 |2.6024248781160892 |[21, 1] |df1    |\n",
            "|4  |-25.35068976170295 |2.6024248781160892 |[20, 1] |df1    |\n",
            "|4  |-25.35068976170295 |2.6024248781160892 |[21, 2] |df1    |\n",
            "|5  |-11.069759602214639|2.21065656237851   |[21, 7] |df1    |\n",
            "|5  |-11.069759602214639|2.21065656237851   |[20, 7] |df1    |\n",
            "|5  |-11.069759602214639|2.21065656237851   |[21, 8] |df1    |\n",
            "|6  |28.500794067195457 |-13.494439881856085|[11, 23]|df1    |\n",
            "|6  |28.500794067195457 |-13.494439881856085|[10, 23]|df1    |\n",
            "|6  |28.500794067195457 |-13.494439881856085|[11, 24]|df1    |\n",
            "+---+-------------------+-------------------+--------+-------+\n",
            "only showing top 20 rows\n",
            "\n"
          ],
          "name": "stdout"
        }
      ]
    },
    {
      "cell_type": "markdown",
      "metadata": {
        "id": "zcji1hwkYBwl"
      },
      "source": [
        "## Count the number of points that each cell_id has\n"
      ]
    },
    {
      "cell_type": "code",
      "metadata": {
        "colab": {
          "base_uri": "https://localhost:8080/"
        },
        "id": "9_cAu5vtxajz",
        "outputId": "9b02ba1e-0fe1-4523-983a-fbf3ddeb96d5"
      },
      "source": [
        "union_cellid_count = union_df1_df2_with_cells.groupBy(\"cell_id\").count().orderBy(\"count\", ascending=True)\n",
        "union_cellid_count.show()"
      ],
      "execution_count": 36,
      "outputs": [
        {
          "output_type": "stream",
          "text": [
            "+--------+-----+\n",
            "| cell_id|count|\n",
            "+--------+-----+\n",
            "|[39, 15]|    9|\n",
            "|[39, 17]|    9|\n",
            "| [39, 0]|    9|\n",
            "|[39, 16]|   10|\n",
            "| [29, 0]|   11|\n",
            "| [39, 4]|   11|\n",
            "| [15, 0]|   11|\n",
            "|[39, 37]|   11|\n",
            "|[39, 18]|   11|\n",
            "| [30, 0]|   12|\n",
            "|[19, 17]|   12|\n",
            "|[13, 39]|   12|\n",
            "|  [0, 1]|   12|\n",
            "|[11, 13]|   12|\n",
            "| [17, 1]|   13|\n",
            "| [39, 1]|   13|\n",
            "| [39, 3]|   13|\n",
            "| [37, 0]|   13|\n",
            "|[18, 35]|   13|\n",
            "| [33, 0]|   13|\n",
            "+--------+-----+\n",
            "only showing top 20 rows\n",
            "\n"
          ],
          "name": "stdout"
        }
      ]
    },
    {
      "cell_type": "code",
      "metadata": {
        "colab": {
          "base_uri": "https://localhost:8080/"
        },
        "id": "BGKbvkc3xa1Y",
        "outputId": "517fcba1-7fb8-4046-a2fa-010368848c90"
      },
      "source": [
        "union_cellid_count.count()"
      ],
      "execution_count": 37,
      "outputs": [
        {
          "output_type": "execute_result",
          "data": {
            "text/plain": [
              "1600"
            ]
          },
          "metadata": {
            "tags": []
          },
          "execution_count": 37
        }
      ]
    },
    {
      "cell_type": "markdown",
      "metadata": {
        "id": "Hj1JUQS9ofpF"
      },
      "source": [
        "## Partition all the points into 16 Partitions with the statement that the points with a specific \"cell_id\" are in the same partition"
      ]
    },
    {
      "cell_type": "code",
      "metadata": {
        "colab": {
          "base_uri": "https://localhost:8080/"
        },
        "id": "ioNbnIAI1oq-",
        "outputId": "fca31893-7663-4060-c257-930cb91d71d6"
      },
      "source": [
        "df_partitioned = union_df1_df2_with_cells.repartition(16, 'cell_id')\n",
        "df_partitioned.show()"
      ],
      "execution_count": 38,
      "outputs": [
        {
          "output_type": "stream",
          "text": [
            "+---+-------------------+-------------------+--------+-------+\n",
            "| ID|           Latitude|          Longitude| cell_id|Dataset|\n",
            "+---+-------------------+-------------------+--------+-------+\n",
            "|  0|   21.9263461309501| 25.422241195019176|[36, 22]|    df1|\n",
            "|  1|  -22.2868485328518| 15.197199539515886| [29, 3]|    df1|\n",
            "| 10| -26.57442774344147| -28.56823781980686|  [0, 2]|    df1|\n",
            "| 11| 12.114213465443683|  5.759582919419778|[22, 17]|    df1|\n",
            "| 15|-14.675059839849077|0.02079376909961539| [20, 6]|    df1|\n",
            "| 16|  9.997965531892078|-1.0943616874163418|[19, 16]|    df1|\n",
            "| 18| 61.833236597675196|-16.466478246519124| [9, 38]|    df1|\n",
            "| 19| 24.535093125734086| -27.95438956172219| [0, 22]|    df1|\n",
            "| 21|-22.211892514783976|   6.66594395240508| [24, 4]|    df1|\n",
            "| 32|  47.23864250984745| 14.968729668479206|[29, 31]|    df1|\n",
            "| 40| 19.437229772994733|-1.5282309324763013|[17, 20]|    df1|\n",
            "| 42|  58.82660737213662| 13.014497742586023|[27, 36]|    df1|\n",
            "| 51|  26.09804317823408|  8.368839072739583|[25, 22]|    df1|\n",
            "| 51|  26.09804317823408|  8.368839072739583|[25, 23]|    df1|\n",
            "| 53| -8.611275322801713|  6.924007029092941| [24, 9]|    df1|\n",
            "| 54| 29.810176600690255| 16.048389858722246|[29, 24]|    df1|\n",
            "| 62|  20.17359395496282| -4.191388591172178|[17, 20]|    df1|\n",
            "| 68| 20.405213701308554|-25.188337925878777| [2, 20]|    df1|\n",
            "| 86| -4.295053607233726| 14.077079787979649|[28, 10]|    df1|\n",
            "| 88| 33.458504591603976| -16.18023648715875| [8, 25]|    df1|\n",
            "+---+-------------------+-------------------+--------+-------+\n",
            "only showing top 20 rows\n",
            "\n"
          ],
          "name": "stdout"
        }
      ]
    },
    {
      "cell_type": "code",
      "metadata": {
        "colab": {
          "base_uri": "https://localhost:8080/"
        },
        "id": "zskN0meIhTg7",
        "outputId": "bae25dc6-534c-4d90-b031-331eb6a54cd2"
      },
      "source": [
        "df_partitioned.count()"
      ],
      "execution_count": 39,
      "outputs": [
        {
          "output_type": "execute_result",
          "data": {
            "text/plain": [
              "39355"
            ]
          },
          "metadata": {
            "tags": []
          },
          "execution_count": 39
        }
      ]
    },
    {
      "cell_type": "code",
      "metadata": {
        "colab": {
          "base_uri": "https://localhost:8080/"
        },
        "id": "wy5sqDsvGodt",
        "outputId": "8149f960-806a-4a2d-bb72-2353a47c55ee"
      },
      "source": [
        "df_partitioned.rdd.getNumPartitions()"
      ],
      "execution_count": 40,
      "outputs": [
        {
          "output_type": "execute_result",
          "data": {
            "text/plain": [
              "16"
            ]
          },
          "metadata": {
            "tags": []
          },
          "execution_count": 40
        }
      ]
    },
    {
      "cell_type": "code",
      "metadata": {
        "colab": {
          "base_uri": "https://localhost:8080/"
        },
        "id": "h4Ctnfmh1zj5",
        "outputId": "8dc89c4f-afff-433e-88c2-14287b2d1aae"
      },
      "source": [
        "from pyspark.sql.functions import spark_partition_id, asc, desc\n",
        "df_partitioned\\\n",
        "    .withColumn(\"partitionId\", spark_partition_id())\\\n",
        "    .groupBy(\"partitionId\")\\\n",
        "    .count()\\\n",
        "    .orderBy(asc(\"count\"))\\\n",
        "    .show()"
      ],
      "execution_count": 41,
      "outputs": [
        {
          "output_type": "stream",
          "text": [
            "+-----------+-----+\n",
            "|partitionId|count|\n",
            "+-----------+-----+\n",
            "|         11| 2103|\n",
            "|          2| 2243|\n",
            "|          4| 2284|\n",
            "|          6| 2298|\n",
            "|         14| 2319|\n",
            "|          8| 2338|\n",
            "|          1| 2346|\n",
            "|          7| 2411|\n",
            "|          9| 2438|\n",
            "|         13| 2471|\n",
            "|         10| 2533|\n",
            "|          3| 2594|\n",
            "|         15| 2626|\n",
            "|          0| 2691|\n",
            "|         12| 2791|\n",
            "|          5| 2869|\n",
            "+-----------+-----+\n",
            "\n"
          ],
          "name": "stdout"
        }
      ]
    },
    {
      "cell_type": "markdown",
      "metadata": {
        "id": "asZYevt4bJ8l"
      },
      "source": [
        "## Query"
      ]
    },
    {
      "cell_type": "markdown",
      "metadata": {
        "id": "KezFd8PBqfmy"
      },
      "source": [
        "## Join each point of df1 with the points of df2 that are in the same cell"
      ]
    },
    {
      "cell_type": "code",
      "metadata": {
        "colab": {
          "base_uri": "https://localhost:8080/"
        },
        "id": "4ME1Xz9mFWbz",
        "outputId": "2df16c70-703f-4f2a-8851-0f65f1e49386"
      },
      "source": [
        "# JOIN EACH POINT OF DF1 WITH THE POINTS OF DF2 THAT ARE IN THE SAME CELL\n",
        "\n",
        "df_partitioned_joined = df_partitioned.filter(df_partitioned['dataset'] == 'df1').select(df_partitioned[\"ID\"].alias(\"df1_id\"),\n",
        "                                                                                                       df_partitioned[\"Latitude\"].alias(\"df1_lat\"),\n",
        "                                                                                                       df_partitioned[\"Longitude\"].alias(\"df1_lon\"),\n",
        "                                                                                                       df_partitioned[\"cell_id\"])\\\n",
        "                             .join(df_partitioned.filter(df_partitioned['dataset'] == 'df2').select(df_partitioned[\"ID\"].alias(\"df2_id\"),\n",
        "                                                                                                       df_partitioned[\"Latitude\"].alias(\"df2_lat\"),\n",
        "                                                                                                       df_partitioned[\"Longitude\"].alias(\"df2_lon\"),\n",
        "                                                                                                       df_partitioned[\"cell_id\"]),\n",
        "                                                                                                       ['cell_id'])\n",
        "df_partitioned_joined.show(150)"
      ],
      "execution_count": 42,
      "outputs": [
        {
          "output_type": "stream",
          "text": [
            "+--------+------+--------------------+-------------------+------+------------------+-------------------+\n",
            "| cell_id|df1_id|             df1_lat|            df1_lon|df2_id|           df2_lat|            df2_lon|\n",
            "+--------+------+--------------------+-------------------+------+------------------+-------------------+\n",
            "| [35, 4]|  8712|  -19.34000800359005| 25.026201282173552|     2|-17.92246674974931|  23.77413471595549|\n",
            "| [35, 4]|  8399|  -19.46418793243237| 23.007487661438006|     2|-17.92246674974931|  23.77413471595549|\n",
            "| [35, 4]|  8030| -18.888289443824014| 24.677526015412838|     2|-17.92246674974931|  23.77413471595549|\n",
            "| [35, 4]|  6813|  -18.31707335374998| 22.823187011776852|     2|-17.92246674974931|  23.77413471595549|\n",
            "| [35, 4]|  5182| -18.874553298184704| 24.125626315340774|     2|-17.92246674974931|  23.77413471595549|\n",
            "| [35, 4]|  4825| -19.768355078029764|  25.33852681383722|     2|-17.92246674974931|  23.77413471595549|\n",
            "| [35, 4]|  4359|  -17.83715106558187| 23.387049058519892|     2|-17.92246674974931|  23.77413471595549|\n",
            "| [35, 4]|  3431| -17.782100945805148| 23.927841002898198|     2|-17.92246674974931|  23.77413471595549|\n",
            "| [35, 4]|  3427|  -21.07873065069924| 23.214589514741213|     2|-17.92246674974931|  23.77413471595549|\n",
            "| [35, 4]|  3397|  -17.78314807076582| 24.992318953606343|     2|-17.92246674974931|  23.77413471595549|\n",
            "| [35, 4]|  3226| -19.090600599578245| 24.086779305182915|     2|-17.92246674974931|  23.77413471595549|\n",
            "| [35, 4]|  2579| -20.065625319241555|  25.08026546459559|     2|-17.92246674974931|  23.77413471595549|\n",
            "| [35, 4]|  1861| -21.542180898556342| 22.878151326219992|     2|-17.92246674974931|  23.77413471595549|\n",
            "| [35, 4]|  1470|   -19.3360296272215| 25.490818597759308|     2|-17.92246674974931|  23.77413471595549|\n",
            "| [35, 4]|  1391| -21.029799423842412| 23.841526309982513|     2|-17.92246674974931|  23.77413471595549|\n",
            "| [35, 4]|  1182| -21.344864069999378|  23.66601959334431|     2|-17.92246674974931|  23.77413471595549|\n",
            "|[35, 12]|  9497| -2.1904326269958716| 23.126385049899852|    21|1.7541671568914055| 23.395044084534483|\n",
            "|[35, 12]|  9327|   1.071457882618013| 25.468499607495893|    21|1.7541671568914055| 23.395044084534483|\n",
            "|[35, 12]|  7764| -1.2172497974011947| 23.638580236230545|    21|1.7541671568914055| 23.395044084534483|\n",
            "|[35, 12]|  6443|  1.6787833029980277| 22.787003009362714|    21|1.7541671568914055| 23.395044084534483|\n",
            "|[35, 12]|  6258|  1.1041489535134978| 25.244362804448386|    21|1.7541671568914055| 23.395044084534483|\n",
            "|[35, 12]|  6089| -2.0499153488845785|  23.21834835908941|    21|1.7541671568914055| 23.395044084534483|\n",
            "|[35, 12]|  5810|  1.1781364010113329|  22.55511199653187|    21|1.7541671568914055| 23.395044084534483|\n",
            "|[35, 12]|  5266| -1.4455145234639524| 23.337679177598098|    21|1.7541671568914055| 23.395044084534483|\n",
            "|[35, 12]|  4029| -2.5684786185776254|  22.97533701411657|    21|1.7541671568914055| 23.395044084534483|\n",
            "|[35, 12]|  3901|  1.2970062015264041| 23.685775874657253|    21|1.7541671568914055| 23.395044084534483|\n",
            "|[35, 12]|  3443|   1.851513078179508|  25.07611390910511|    21|1.7541671568914055| 23.395044084534483|\n",
            "|[35, 12]|  3421|  0.8065446552622255|  23.35628815543012|    21|1.7541671568914055| 23.395044084534483|\n",
            "|[35, 12]|  3249| -1.2108680253720792| 22.790253028384946|    21|1.7541671568914055| 23.395044084534483|\n",
            "|[35, 12]|  3048| 0.11599375422599323| 23.670766535754105|    21|1.7541671568914055| 23.395044084534483|\n",
            "|[35, 12]|  2864|-0.31681889043274936|   24.2601920224119|    21|1.7541671568914055| 23.395044084534483|\n",
            "|[35, 12]|  2125|  0.8090373529861097| 22.985984264041903|    21|1.7541671568914055| 23.395044084534483|\n",
            "|[35, 12]|  1331| -0.3739724851327715| 23.294848949027333|    21|1.7541671568914055| 23.395044084534483|\n",
            "|[35, 12]|  1210| -0.2935458180803536| 24.444315859465725|    21|1.7541671568914055| 23.395044084534483|\n",
            "|[35, 12]|  1129|  0.7964724969347294| 23.613253709720155|    21|1.7541671568914055| 23.395044084534483|\n",
            "|[35, 12]|  1080|-0.14125864045070458| 23.359291631827148|    21|1.7541671568914055| 23.395044084534483|\n",
            "|[35, 12]|   859|  -1.427165587056237| 23.349504205513085|    21|1.7541671568914055| 23.395044084534483|\n",
            "|[35, 12]|   745|  0.9472022317434075| 24.817432152834712|    21|1.7541671568914055| 23.395044084534483|\n",
            "|[35, 12]|   420|  0.4079314841226491| 23.850724715118048|    21|1.7541671568914055| 23.395044084534483|\n",
            "|[15, 34]|  9038|    53.5655394375552| -7.172953705311858|    22| 55.72992145966789| -6.427893581221834|\n",
            "|[15, 34]|  7848|   51.79702024458956| -6.737364746491327|    22| 55.72992145966789| -6.427893581221834|\n",
            "|[15, 34]|  7758|   54.86889784523831| -6.405569247164205|    22| 55.72992145966789| -6.427893581221834|\n",
            "|[15, 34]|  6266|   55.22281434295158| -5.138411169060653|    22| 55.72992145966789| -6.427893581221834|\n",
            "|[15, 34]|  5786|    52.6946820112492| -6.516659275266694|    22| 55.72992145966789| -6.427893581221834|\n",
            "|[15, 34]|  4874|      55.05016983127|  -7.28368539417097|    22| 55.72992145966789| -6.427893581221834|\n",
            "|[15, 34]|  4668|  55.647095605696066| -4.799568867095015|    22| 55.72992145966789| -6.427893581221834|\n",
            "|[15, 34]|  4221|   54.32707417877137|-6.0707670395064675|    22| 55.72992145966789| -6.427893581221834|\n",
            "|[15, 34]|  3931|   54.92773165877885| -7.042015875354494|    22| 55.72992145966789| -6.427893581221834|\n",
            "|[15, 34]|  3823|   53.70720872375037|  -5.23417744604658|    22| 55.72992145966789| -6.427893581221834|\n",
            "|[15, 34]|  3405|    54.9584042883245| -7.172605267364425|    22| 55.72992145966789| -6.427893581221834|\n",
            "|[15, 34]|  2466|  55.011211901837356| -7.248934029878502|    22| 55.72992145966789| -6.427893581221834|\n",
            "|[15, 34]|  2346|   55.20106584696771| -7.491824318431782|    22| 55.72992145966789| -6.427893581221834|\n",
            "|[15, 34]|  1991|  53.227768896647405| -7.118639441467863|    22| 55.72992145966789| -6.427893581221834|\n",
            "|[15, 34]|  1978|   53.10733540891633|-7.1688228674842875|    22| 55.72992145966789| -6.427893581221834|\n",
            "|[15, 34]|  1960|   54.71783899196329| -6.878631115438452|    22| 55.72992145966789| -6.427893581221834|\n",
            "|[15, 34]|  1583|  54.316582229825286| -4.903950179096089|    22| 55.72992145966789| -6.427893581221834|\n",
            "|[15, 34]|   818|   53.56632839230619| -6.047050052720035|    22| 55.72992145966789| -6.427893581221834|\n",
            "|[22, 17]|  9611|   9.833254496064555|  3.273364404272286|    30|12.956224006466762|  3.266673091201092|\n",
            "|[22, 17]|  9149|  11.911836370315605|  5.583338938321049|    30|12.956224006466762|  3.266673091201092|\n",
            "|[22, 17]|  9117|   10.18012895429483| 3.9223309953102685|    30|12.956224006466762|  3.266673091201092|\n",
            "|[22, 17]|  8867|  11.908946579392598| 5.3787890050823535|    30|12.956224006466762|  3.266673091201092|\n",
            "|[22, 17]|  8403|   13.40627067194778|  3.778814554152177|    30|12.956224006466762|  3.266673091201092|\n",
            "|[22, 17]|  7895|   10.92310172728321|  3.137489016038842|    30|12.956224006466762|  3.266673091201092|\n",
            "|[22, 17]|  7866|  12.143075813473331| 3.6859199085704972|    30|12.956224006466762|  3.266673091201092|\n",
            "|[22, 17]|  7685|    9.49522105986739|   3.43615911095921|    30|12.956224006466762|  3.266673091201092|\n",
            "|[22, 17]|  6477|   14.02246652242831| 3.3919023850430747|    30|12.956224006466762|  3.266673091201092|\n",
            "|[22, 17]|  5216|   14.02630140498789|  3.351640133444782|    30|12.956224006466762|  3.266673091201092|\n",
            "|[22, 17]|  4652|     9.2703815969843|  4.482991755196338|    30|12.956224006466762|  3.266673091201092|\n",
            "|[22, 17]|  3617|  11.656807646660141| 5.0878129388379705|    30|12.956224006466762|  3.266673091201092|\n",
            "|[22, 17]|  3153|  10.182665931864129|  3.456068264319562|    30|12.956224006466762|  3.266673091201092|\n",
            "|[22, 17]|  3029|  12.060672473749918|  3.544302689408127|    30|12.956224006466762|  3.266673091201092|\n",
            "|[22, 17]|  2993|  10.788045895433612| 3.3704620465765913|    30|12.956224006466762|  3.266673091201092|\n",
            "|[22, 17]|  2632|   14.09473812704752|  3.508408642365879|    30|12.956224006466762|  3.266673091201092|\n",
            "|[22, 17]|   964|   11.70198835700868| 3.0052758188325583|    30|12.956224006466762|  3.266673091201092|\n",
            "|[22, 17]|   863|  13.686760923581033|  4.587062826738432|    30|12.956224006466762|  3.266673091201092|\n",
            "|[22, 17]|   776|  12.605371720907883|  5.189420212513035|    30|12.956224006466762|  3.266673091201092|\n",
            "|[22, 17]|   668|  12.898075516327197| 3.4756161307594766|    30|12.956224006466762|  3.266673091201092|\n",
            "|[22, 17]|   224|  12.013599561249926| 3.6230016863741312|    30|12.956224006466762|  3.266673091201092|\n",
            "|[22, 17]|    11|  12.114213465443683|  5.759582919419778|    30|12.956224006466762|  3.266673091201092|\n",
            "|[18, 26]|  9487|  33.261580778767396| -2.721679931226195|    36| 34.76212021648017|-2.1100213339830276|\n",
            "|[18, 26]|  9093|  31.451981046496577| -2.028816240694983|    36| 34.76212021648017|-2.1100213339830276|\n",
            "|[18, 26]|  6352|  35.840115186758595|-1.5541819448820355|    36| 34.76212021648017|-2.1100213339830276|\n",
            "|[18, 26]|  6301|  31.879844208018305|-2.9126596619353684|    36| 34.76212021648017|-2.1100213339830276|\n",
            "|[18, 26]|  6144|   36.09685169377805| -2.028016305260877|    36| 34.76212021648017|-2.1100213339830276|\n",
            "|[18, 26]|  5878|   33.93638615102416|-2.2871793574422448|    36| 34.76212021648017|-2.1100213339830276|\n",
            "|[18, 26]|  5599|  34.590712381473736| -1.305068336346146|    36| 34.76212021648017|-2.1100213339830276|\n",
            "|[18, 26]|  5504|   32.37952186475876| -2.113184148765356|    36| 34.76212021648017|-2.1100213339830276|\n",
            "|[18, 26]|  4868|  31.858783738947224| -1.692727038905467|    36| 34.76212021648017|-2.1100213339830276|\n",
            "|[18, 26]|  2186|  33.133882638994976|-1.7317737813163632|    36| 34.76212021648017|-2.1100213339830276|\n",
            "|[18, 26]|  1938|  33.879325920096555|-2.6493046559876454|    36| 34.76212021648017|-2.1100213339830276|\n",
            "|[18, 26]|  1800|  31.885097568310258| -2.987680548757073|    36| 34.76212021648017|-2.1100213339830276|\n",
            "|[18, 26]|  1564|   34.43245149597436|-1.0038401740856067|    36| 34.76212021648017|-2.1100213339830276|\n",
            "|[18, 26]|  1401|   33.38118432403041|-1.5041584475926086|    36| 34.76212021648017|-2.1100213339830276|\n",
            "|[18, 26]|  1208|   36.02440657924596|-0.6440264002547451|    36| 34.76212021648017|-2.1100213339830276|\n",
            "|[18, 26]|  1173|    32.3586375861147|-1.9477140446480163|    36| 34.76212021648017|-2.1100213339830276|\n",
            "|[18, 26]|   925|   35.12749094395521|-0.6028173400815504|    36| 34.76212021648017|-2.1100213339830276|\n",
            "|[18, 26]|   552|   32.73616183518045|-1.9370781391925362|    36| 34.76212021648017|-2.1100213339830276|\n",
            "|[18, 26]|   459|   33.95229696211788|-1.8295394489538666|    36| 34.76212021648017|-2.1100213339830276|\n",
            "|[18, 26]|   330|  35.995990108749425|   -1.9133511056055|    36| 34.76212021648017|-2.1100213339830276|\n",
            "|[38, 19]|  9390|  14.900098179919695| 28.111811285233117|    75|18.309093340783726| 27.552706606510064|\n",
            "|[38, 19]|  7639|  17.432309406885317|  29.91262477998371|    75|18.309093340783726| 27.552706606510064|\n",
            "|[38, 19]|  7473|   17.91398813416604| 28.801633030097207|    75|18.309093340783726| 27.552706606510064|\n",
            "|[38, 19]|  6440|   15.59909758595439| 27.279537701906285|    75|18.309093340783726| 27.552706606510064|\n",
            "|[38, 19]|  6217|  16.622980115947584| 28.169703021984716|    75|18.309093340783726| 27.552706606510064|\n",
            "|[38, 19]|  4789|   18.44489993959651|  29.79976218442276|    75|18.309093340783726| 27.552706606510064|\n",
            "|[38, 19]|  4634|  17.613653195836193| 28.057866906348437|    75|18.309093340783726| 27.552706606510064|\n",
            "|[38, 19]|  4363|  18.451911773306982| 27.684896823682585|    75|18.309093340783726| 27.552706606510064|\n",
            "|[38, 19]|  3697|   17.15530665676073|   27.1118140178204|    75|18.309093340783726| 27.552706606510064|\n",
            "|[38, 19]|  3124|  16.838585258155433|  28.51163315622823|    75|18.309093340783726| 27.552706606510064|\n",
            "|[38, 19]|  2893|  14.286866507918312| 27.546918445070155|    75|18.309093340783726| 27.552706606510064|\n",
            "|[38, 19]|  2424|  15.733661144589604| 27.604358243914376|    75|18.309093340783726| 27.552706606510064|\n",
            "|[38, 19]|  1865|   18.53217743972371| 29.831330076088356|    75|18.309093340783726| 27.552706606510064|\n",
            "|[38, 19]|   779|   17.09435228594927| 29.017817105038375|    75|18.309093340783726| 27.552706606510064|\n",
            "|[38, 19]|   712|   16.51593969362615|  28.39630769059751|    75|18.309093340783726| 27.552706606510064|\n",
            "|[38, 19]|   509|   16.35391159694079|  28.41263722156748|    75|18.309093340783726| 27.552706606510064|\n",
            "|[13, 19]|  9911|  16.306273322341973| -10.18311196428781|    85|16.673550670839106| -9.894995565292142|\n",
            "|[13, 19]|  9909|   17.78383298403962| -9.026748203362757|    85|16.673550670839106| -9.894995565292142|\n",
            "|[13, 19]|  8984|  17.010302135946716| -9.469458101061388|    85|16.673550670839106| -9.894995565292142|\n",
            "|[13, 19]|  8465|   14.35134997385628| -9.142288982165457|    85|16.673550670839106| -9.894995565292142|\n",
            "|[13, 19]|  8231|  17.924866264756403| -9.006312526804308|    85|16.673550670839106| -9.894995565292142|\n",
            "|[13, 19]|  8179|    14.7914761431715| -9.357419426173948|    85|16.673550670839106| -9.894995565292142|\n",
            "|[13, 19]|  8127|   17.49340295982364| -7.613622092997915|    85|16.673550670839106| -9.894995565292142|\n",
            "|[13, 19]|  7734|  18.475309907628557| -10.25345407215272|    85|16.673550670839106| -9.894995565292142|\n",
            "|[13, 19]|  7707|   18.97104278377821|-10.224494911591588|    85|16.673550670839106| -9.894995565292142|\n",
            "|[13, 19]|  7071|  16.979298871273272| -9.355275857929037|    85|16.673550670839106| -9.894995565292142|\n",
            "|[13, 19]|  6952|  14.957871074604483|-10.047005205308437|    85|16.673550670839106| -9.894995565292142|\n",
            "|[13, 19]|  6113|  18.449602174004262| -9.564150176461325|    85|16.673550670839106| -9.894995565292142|\n",
            "|[13, 19]|  6066|  18.716611631667895|-10.146546454966273|    85|16.673550670839106| -9.894995565292142|\n",
            "|[13, 19]|  5932|  16.721806309306245|-7.8469162601779985|    85|16.673550670839106| -9.894995565292142|\n",
            "|[13, 19]|  5526|  17.572017778481808| -8.104107450199617|    85|16.673550670839106| -9.894995565292142|\n",
            "|[13, 19]|  5047|  16.921224694296228|-10.343596023748237|    85|16.673550670839106| -9.894995565292142|\n",
            "|[13, 19]|  4447|  18.305347872394087| -7.888627275624845|    85|16.673550670839106| -9.894995565292142|\n",
            "|[13, 19]|  4303|   17.60987752644605| -9.146098075984405|    85|16.673550670839106| -9.894995565292142|\n",
            "|[13, 19]|  3278|   16.81766806462135| -8.494244279532111|    85|16.673550670839106| -9.894995565292142|\n",
            "|[13, 19]|  2487|  14.556276129955364| -9.538729442513109|    85|16.673550670839106| -9.894995565292142|\n",
            "|[13, 19]|  2484|  14.213282476599055|-10.020639337694796|    85|16.673550670839106| -9.894995565292142|\n",
            "|[13, 19]|  1218|   18.38427169049372|-10.210056373449689|    85|16.673550670839106| -9.894995565292142|\n",
            "|[13, 19]|   854|   18.28959300642206|  -8.06606105441347|    85|16.673550670839106| -9.894995565292142|\n",
            "|[13, 19]|   514|  17.163288600323376|  -10.1994441285166|    85|16.673550670839106| -9.894995565292142|\n",
            "|[33, 31]|  8838|   46.96654267614906|  20.49885504984762|    87| 47.35949503828755|   19.6488194966118|\n",
            "|[33, 31]|  6340|   46.10868909406993|  19.92207596325268|    87| 47.35949503828755|   19.6488194966118|\n",
            "|[33, 31]|  5777|  47.738124212766536| 21.217420895134566|    87| 47.35949503828755|   19.6488194966118|\n",
            "|[33, 31]|  5708|   45.91110810004578|  19.69098190957215|    87| 47.35949503828755|   19.6488194966118|\n",
            "|[33, 31]|  5298|  44.671004852475164|  20.65904412265489|    87| 47.35949503828755|   19.6488194966118|\n",
            "|[33, 31]|  5115|   47.62730210443921| 20.036905703412344|    87| 47.35949503828755|   19.6488194966118|\n",
            "|[33, 31]|  4491|  46.390181268804824| 22.198384429888975|    87| 47.35949503828755|   19.6488194966118|\n",
            "|[33, 31]|  4366|   46.77300706481367|  20.50147932768745|    87| 47.35949503828755|   19.6488194966118|\n",
            "|[33, 31]|  3581|  46.510114818255744|  21.27114892916716|    87| 47.35949503828755|   19.6488194966118|\n",
            "|[33, 31]|  2408|  46.472022125800564|  22.43930981265315|    87| 47.35949503828755|   19.6488194966118|\n",
            "|[33, 31]|  2286|   44.73644323128572| 20.749467062497033|    87| 47.35949503828755|   19.6488194966118|\n",
            "+--------+------+--------------------+-------------------+------+------------------+-------------------+\n",
            "only showing top 150 rows\n",
            "\n"
          ],
          "name": "stdout"
        }
      ]
    },
    {
      "cell_type": "code",
      "metadata": {
        "colab": {
          "base_uri": "https://localhost:8080/"
        },
        "id": "hjVuqzC3AIQi",
        "outputId": "0e6e7820-e0ba-4014-da4d-73c113a98d49"
      },
      "source": [
        "df_partitioned_joined.rdd.getNumPartitions()"
      ],
      "execution_count": 43,
      "outputs": [
        {
          "output_type": "execute_result",
          "data": {
            "text/plain": [
              "16"
            ]
          },
          "metadata": {
            "tags": []
          },
          "execution_count": 43
        }
      ]
    },
    {
      "cell_type": "markdown",
      "metadata": {
        "id": "1jN9EjH0p3to"
      },
      "source": [
        "## Calculate the distance for each pair of points"
      ]
    },
    {
      "cell_type": "code",
      "metadata": {
        "colab": {
          "base_uri": "https://localhost:8080/"
        },
        "id": "u95q6xjHGrkO",
        "outputId": "37a3044b-ff80-4474-b0c0-582373a3c9c7"
      },
      "source": [
        "euclidean_df = df_partitioned_joined.withColumn(\"distance\", F.sqrt((df_partitioned_joined['df1_lat']-df_partitioned_joined['df2_lat'])** 2 + (df_partitioned_joined['df1_lon']-df_partitioned_joined['df2_lon'])** 2))\n",
        "euclidean_df.show()"
      ],
      "execution_count": 44,
      "outputs": [
        {
          "output_type": "stream",
          "text": [
            "+--------+------+-------------------+------------------+------+------------------+------------------+-------------------+\n",
            "| cell_id|df1_id|            df1_lat|           df1_lon|df2_id|           df2_lat|           df2_lon|           distance|\n",
            "+--------+------+-------------------+------------------+------+------------------+------------------+-------------------+\n",
            "| [35, 4]|  8712| -19.34000800359005|25.026201282173552|     2|-17.92246674974931| 23.77413471595549|  1.891320674180204|\n",
            "| [35, 4]|  8399| -19.46418793243237|23.007487661438006|     2|-17.92246674974931| 23.77413471595549| 1.7218164569239036|\n",
            "| [35, 4]|  8030|-18.888289443824014|24.677526015412838|     2|-17.92246674974931| 23.77413471595549| 1.3224709132245407|\n",
            "| [35, 4]|  6813| -18.31707335374998|22.823187011776852|     2|-17.92246674974931| 23.77413471595549|  1.029570739679194|\n",
            "| [35, 4]|  5182|-18.874553298184704|24.125626315340774|     2|-17.92246674974931| 23.77413471595549|  1.014896615498369|\n",
            "| [35, 4]|  4825|-19.768355078029764| 25.33852681383722|     2|-17.92246674974931| 23.77413471595549|   2.41963351696012|\n",
            "| [35, 4]|  4359| -17.83715106558187|23.387049058519892|     2|-17.92246674974931| 23.77413471595549| 0.3963761750626642|\n",
            "| [35, 4]|  3431|-17.782100945805148|23.927841002898198|     2|-17.92246674974931| 23.77413471595549|0.20815422542577738|\n",
            "| [35, 4]|  3427| -21.07873065069924|23.214589514741213|     2|-17.92246674974931| 23.77413471595549| 3.2054785359820426|\n",
            "| [35, 4]|  3397| -17.78314807076582|24.992318953606343|     2|-17.92246674974931| 23.77413471595549| 1.2261250063409908|\n",
            "| [35, 4]|  3226|-19.090600599578245|24.086779305182915|     2|-17.92246674974931| 23.77413471595549| 1.2092490770264621|\n",
            "| [35, 4]|  2579|-20.065625319241555| 25.08026546459559|     2|-17.92246674974931| 23.77413471595549| 2.5098020213816046|\n",
            "| [35, 4]|  1861|-21.542180898556342|22.878151326219992|     2|-17.92246674974931| 23.77413471595549|  3.728956523446703|\n",
            "| [35, 4]|  1470|  -19.3360296272215|25.490818597759308|     2|-17.92246674974931| 23.77413471595549|  2.223772371132548|\n",
            "| [35, 4]|  1391|-21.029799423842412|23.841526309982513|     2|-17.92246674974931| 23.77413471595549| 3.1080633800539017|\n",
            "| [35, 4]|  1182|-21.344864069999378| 23.66601959334431|     2|-17.92246674974931| 23.77413471595549|  3.424104597904694|\n",
            "|[35, 12]|  9497|-2.1904326269958716|23.126385049899852|    21|1.7541671568914055|23.395044084534483|  3.953738121314355|\n",
            "|[35, 12]|  9327|  1.071457882618013|25.468499607495893|    21|1.7541671568914055|23.395044084534483|  2.182958945761023|\n",
            "|[35, 12]|  7764|-1.2172497974011947|23.638580236230545|    21|1.7541671568914055|23.395044084534483|  2.981380313452217|\n",
            "|[35, 12]|  6443| 1.6787833029980277|22.787003009362714|    21|1.7541671568914055|23.395044084534483| 0.6126962334826772|\n",
            "+--------+------+-------------------+------------------+------+------------------+------------------+-------------------+\n",
            "only showing top 20 rows\n",
            "\n"
          ],
          "name": "stdout"
        }
      ]
    },
    {
      "cell_type": "code",
      "metadata": {
        "colab": {
          "base_uri": "https://localhost:8080/"
        },
        "id": "ApxOlQIN0yjT",
        "outputId": "7a9ede47-1ac1-40ed-b8de-a4598b440ac0"
      },
      "source": [
        "euclidean_df.count()"
      ],
      "execution_count": 45,
      "outputs": [
        {
          "output_type": "execute_result",
          "data": {
            "text/plain": [
              "183141"
            ]
          },
          "metadata": {
            "tags": []
          },
          "execution_count": 45
        }
      ]
    },
    {
      "cell_type": "markdown",
      "metadata": {
        "id": "6OFmr4ISqIw5"
      },
      "source": [
        "# Filter the DataFrame and keep the results which satisfy the distance threshold \n"
      ]
    },
    {
      "cell_type": "code",
      "metadata": {
        "colab": {
          "base_uri": "https://localhost:8080/"
        },
        "id": "IXqi_6HUKc6F",
        "outputId": "6012cac0-9f1d-43a7-d1d7-398635e2a0cc"
      },
      "source": [
        "filtered_df = euclidean_df.filter(F.col(\"distance\") <= r).select(\"df1_id\", \"df2_id\", \"distance\")\n",
        "filtered_df.show()"
      ],
      "execution_count": 46,
      "outputs": [
        {
          "output_type": "stream",
          "text": [
            "+------+------+-------------------+\n",
            "|df1_id|df2_id|           distance|\n",
            "+------+------+-------------------+\n",
            "|  4359|     2| 0.3963761750626642|\n",
            "|  3431|     2|0.20815422542577738|\n",
            "|   668|    30|0.21688347259624888|\n",
            "|  4363|    75|0.19460564787415166|\n",
            "|  5054|   126|0.22193157838854333|\n",
            "|  8984|   135| 0.3179989141672999|\n",
            "|  7495|   142|0.35963944146700266|\n",
            "|  4957|   142| 0.3252469723555787|\n",
            "|  7599|   146|0.30542002172652283|\n",
            "|    32|   174|0.38011818460729674|\n",
            "|  3901|   180|0.20305573663052937|\n",
            "|  4285|   202|  0.204113419382536|\n",
            "|  1685|   221| 0.2890578749343715|\n",
            "|  7748|   297| 0.3631017050729546|\n",
            "|  1930|   297|0.29034561238690176|\n",
            "|  2284|   301| 0.2421448334370062|\n",
            "|   983|   301|0.13919591091487568|\n",
            "|  3858|   340|0.38335950412222775|\n",
            "|  2023|   341|0.17922863657370822|\n",
            "|  7527|   349| 0.3204018608980455|\n",
            "+------+------+-------------------+\n",
            "only showing top 20 rows\n",
            "\n"
          ],
          "name": "stdout"
        }
      ]
    },
    {
      "cell_type": "code",
      "metadata": {
        "colab": {
          "base_uri": "https://localhost:8080/"
        },
        "id": "xDPy-BQImmJ5",
        "outputId": "ba16bc24-c8fa-4b4b-9b18-ae913fc8a857"
      },
      "source": [
        "filtered_df.count()"
      ],
      "execution_count": 47,
      "outputs": [
        {
          "output_type": "execute_result",
          "data": {
            "text/plain": [
              "7675"
            ]
          },
          "metadata": {
            "tags": []
          },
          "execution_count": 47
        }
      ]
    },
    {
      "cell_type": "code",
      "metadata": {
        "colab": {
          "base_uri": "https://localhost:8080/"
        },
        "id": "5uiB7Ymw_FLs",
        "outputId": "1e87e4c4-1d37-43cb-a54a-122f50aafdc6"
      },
      "source": [
        "filtered_df.rdd.getNumPartitions()\n"
      ],
      "execution_count": 48,
      "outputs": [
        {
          "output_type": "execute_result",
          "data": {
            "text/plain": [
              "16"
            ]
          },
          "metadata": {
            "tags": []
          },
          "execution_count": 48
        }
      ]
    }
  ]
}